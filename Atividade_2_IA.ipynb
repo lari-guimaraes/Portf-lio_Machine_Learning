{
 "cells": [
  {
   "cell_type": "markdown",
   "metadata": {
    "id": "jSFBxYMrnzw7"
   },
   "source": [
    "**Questão - Identificar o OUTPUT Grade\n",
    "do estudante.**\n",
    "\n",
    "\n",
    "\n"
   ]
  },
  {
   "cell_type": "markdown",
   "metadata": {
    "id": "HbDVYS_FfXNc"
   },
   "source": [
    "# Lendo a base de dados\n",
    "\n",
    "\n",
    "\n",
    "\n"
   ]
  },
  {
   "cell_type": "code",
   "execution_count": 1,
   "metadata": {
    "colab": {
     "base_uri": "https://localhost:8080/",
     "height": 317
    },
    "id": "nSPTvhAoe_a3",
    "outputId": "a1c27988-4c22-4e4a-e871-3f1f0260d741"
   },
   "outputs": [
    {
     "data": {
      "text/html": [
       "<div>\n",
       "<style scoped>\n",
       "    .dataframe tbody tr th:only-of-type {\n",
       "        vertical-align: middle;\n",
       "    }\n",
       "\n",
       "    .dataframe tbody tr th {\n",
       "        vertical-align: top;\n",
       "    }\n",
       "\n",
       "    .dataframe thead th {\n",
       "        text-align: right;\n",
       "    }\n",
       "</style>\n",
       "<table border=\"1\" class=\"dataframe\">\n",
       "  <thead>\n",
       "    <tr style=\"text-align: right;\">\n",
       "      <th></th>\n",
       "      <th>STUDENTID</th>\n",
       "      <th>AGE</th>\n",
       "      <th>GENDER</th>\n",
       "      <th>HS_TYPE</th>\n",
       "      <th>SCHOLARSHIP</th>\n",
       "      <th>WORK</th>\n",
       "      <th>ACTIVITY</th>\n",
       "      <th>PARTNER</th>\n",
       "      <th>SALARY</th>\n",
       "      <th>TRANSPORT</th>\n",
       "      <th>...</th>\n",
       "      <th>PREP_STUDY</th>\n",
       "      <th>PREP_EXAM</th>\n",
       "      <th>NOTES</th>\n",
       "      <th>LISTENS</th>\n",
       "      <th>LIKES_DISCUSS</th>\n",
       "      <th>CLASSROOM</th>\n",
       "      <th>CUML_GPA</th>\n",
       "      <th>EXP_GPA</th>\n",
       "      <th>COURSE ID</th>\n",
       "      <th>GRADE</th>\n",
       "    </tr>\n",
       "  </thead>\n",
       "  <tbody>\n",
       "    <tr>\n",
       "      <th>0</th>\n",
       "      <td>STUDENT1</td>\n",
       "      <td>2</td>\n",
       "      <td>2</td>\n",
       "      <td>3</td>\n",
       "      <td>3</td>\n",
       "      <td>1</td>\n",
       "      <td>2</td>\n",
       "      <td>2</td>\n",
       "      <td>1</td>\n",
       "      <td>1</td>\n",
       "      <td>...</td>\n",
       "      <td>1</td>\n",
       "      <td>1</td>\n",
       "      <td>3</td>\n",
       "      <td>2</td>\n",
       "      <td>1</td>\n",
       "      <td>2</td>\n",
       "      <td>1</td>\n",
       "      <td>1</td>\n",
       "      <td>1</td>\n",
       "      <td>1</td>\n",
       "    </tr>\n",
       "    <tr>\n",
       "      <th>1</th>\n",
       "      <td>STUDENT2</td>\n",
       "      <td>2</td>\n",
       "      <td>2</td>\n",
       "      <td>3</td>\n",
       "      <td>3</td>\n",
       "      <td>1</td>\n",
       "      <td>2</td>\n",
       "      <td>2</td>\n",
       "      <td>1</td>\n",
       "      <td>1</td>\n",
       "      <td>...</td>\n",
       "      <td>1</td>\n",
       "      <td>1</td>\n",
       "      <td>3</td>\n",
       "      <td>2</td>\n",
       "      <td>3</td>\n",
       "      <td>2</td>\n",
       "      <td>2</td>\n",
       "      <td>3</td>\n",
       "      <td>1</td>\n",
       "      <td>1</td>\n",
       "    </tr>\n",
       "    <tr>\n",
       "      <th>2</th>\n",
       "      <td>STUDENT3</td>\n",
       "      <td>2</td>\n",
       "      <td>2</td>\n",
       "      <td>2</td>\n",
       "      <td>3</td>\n",
       "      <td>2</td>\n",
       "      <td>2</td>\n",
       "      <td>2</td>\n",
       "      <td>2</td>\n",
       "      <td>4</td>\n",
       "      <td>...</td>\n",
       "      <td>1</td>\n",
       "      <td>1</td>\n",
       "      <td>2</td>\n",
       "      <td>2</td>\n",
       "      <td>1</td>\n",
       "      <td>1</td>\n",
       "      <td>2</td>\n",
       "      <td>2</td>\n",
       "      <td>1</td>\n",
       "      <td>1</td>\n",
       "    </tr>\n",
       "    <tr>\n",
       "      <th>3</th>\n",
       "      <td>STUDENT4</td>\n",
       "      <td>1</td>\n",
       "      <td>1</td>\n",
       "      <td>1</td>\n",
       "      <td>3</td>\n",
       "      <td>1</td>\n",
       "      <td>2</td>\n",
       "      <td>1</td>\n",
       "      <td>2</td>\n",
       "      <td>1</td>\n",
       "      <td>...</td>\n",
       "      <td>1</td>\n",
       "      <td>2</td>\n",
       "      <td>3</td>\n",
       "      <td>2</td>\n",
       "      <td>2</td>\n",
       "      <td>1</td>\n",
       "      <td>3</td>\n",
       "      <td>2</td>\n",
       "      <td>1</td>\n",
       "      <td>1</td>\n",
       "    </tr>\n",
       "    <tr>\n",
       "      <th>4</th>\n",
       "      <td>STUDENT5</td>\n",
       "      <td>2</td>\n",
       "      <td>2</td>\n",
       "      <td>1</td>\n",
       "      <td>3</td>\n",
       "      <td>2</td>\n",
       "      <td>2</td>\n",
       "      <td>1</td>\n",
       "      <td>3</td>\n",
       "      <td>1</td>\n",
       "      <td>...</td>\n",
       "      <td>2</td>\n",
       "      <td>1</td>\n",
       "      <td>2</td>\n",
       "      <td>2</td>\n",
       "      <td>2</td>\n",
       "      <td>1</td>\n",
       "      <td>2</td>\n",
       "      <td>2</td>\n",
       "      <td>1</td>\n",
       "      <td>1</td>\n",
       "    </tr>\n",
       "  </tbody>\n",
       "</table>\n",
       "<p>5 rows × 33 columns</p>\n",
       "</div>"
      ],
      "text/plain": [
       "  STUDENTID  AGE  GENDER  HS_TYPE  SCHOLARSHIP  WORK  ACTIVITY  PARTNER  \\\n",
       "0  STUDENT1    2       2        3            3     1         2        2   \n",
       "1  STUDENT2    2       2        3            3     1         2        2   \n",
       "2  STUDENT3    2       2        2            3     2         2        2   \n",
       "3  STUDENT4    1       1        1            3     1         2        1   \n",
       "4  STUDENT5    2       2        1            3     2         2        1   \n",
       "\n",
       "   SALARY  TRANSPORT  ...  PREP_STUDY  PREP_EXAM  NOTES  LISTENS  \\\n",
       "0       1          1  ...           1          1      3        2   \n",
       "1       1          1  ...           1          1      3        2   \n",
       "2       2          4  ...           1          1      2        2   \n",
       "3       2          1  ...           1          2      3        2   \n",
       "4       3          1  ...           2          1      2        2   \n",
       "\n",
       "   LIKES_DISCUSS  CLASSROOM  CUML_GPA  EXP_GPA  COURSE ID  GRADE  \n",
       "0              1          2         1        1          1      1  \n",
       "1              3          2         2        3          1      1  \n",
       "2              1          1         2        2          1      1  \n",
       "3              2          1         3        2          1      1  \n",
       "4              2          1         2        2          1      1  \n",
       "\n",
       "[5 rows x 33 columns]"
      ]
     },
     "execution_count": 1,
     "metadata": {},
     "output_type": "execute_result"
    }
   ],
   "source": [
    "import pandas as pd\n",
    "\n",
    "dados = pd.read_csv('student_prediction.csv')\n",
    "\n",
    "dados.head()"
   ]
  },
  {
   "cell_type": "markdown",
   "metadata": {
    "id": "IupPcI_unwxz"
   },
   "source": []
  },
  {
   "cell_type": "markdown",
   "metadata": {
    "id": "qM7FFeLUgXEa"
   },
   "source": [
    "# 1. A. Pré-processamento dos dados"
   ]
  },
  {
   "cell_type": "code",
   "execution_count": 2,
   "metadata": {
    "colab": {
     "base_uri": "https://localhost:8080/",
     "height": 0
    },
    "id": "D7PlMdTLkIAQ",
    "outputId": "82269dea-b49e-405d-909f-77d4bb6b24e3"
   },
   "outputs": [
    {
     "data": {
      "text/plain": [
       "Index(['STUDENTID', 'AGE', 'GENDER', 'HS_TYPE', 'SCHOLARSHIP', 'WORK',\n",
       "       'ACTIVITY', 'PARTNER', 'SALARY', 'TRANSPORT', 'LIVING', 'MOTHER_EDU',\n",
       "       'FATHER_EDU', '#_SIBLINGS', 'KIDS', 'MOTHER_JOB', 'FATHER_JOB',\n",
       "       'STUDY_HRS', 'READ_FREQ', 'READ_FREQ_SCI', 'ATTEND_DEPT', 'IMPACT',\n",
       "       'ATTEND', 'PREP_STUDY', 'PREP_EXAM', 'NOTES', 'LISTENS',\n",
       "       'LIKES_DISCUSS', 'CLASSROOM', 'CUML_GPA', 'EXP_GPA', 'COURSE ID',\n",
       "       'GRADE'],\n",
       "      dtype='object')"
      ]
     },
     "execution_count": 2,
     "metadata": {},
     "output_type": "execute_result"
    }
   ],
   "source": [
    "dados.columns"
   ]
  },
  {
   "cell_type": "markdown",
   "metadata": {
    "id": "dqkEC_c5njjq"
   },
   "source": [
    "* Traduzir os nomes das colunas para português, isso ajuda na compreensão das variaveis envolvidas. "
   ]
  },
  {
   "cell_type": "code",
   "execution_count": 3,
   "metadata": {
    "id": "2YVgDXU8f3RZ"
   },
   "outputs": [],
   "source": [
    "colunas = {\n",
    "            'STUDENTID':'ID_aluno','AGE':'idade', 'GENDER':'sexo', \n",
    "           'HS_TYPE' : 'Formacao_ensino_medio', 'SCHOLARSHIP':'tipo_bolsa', \n",
    "           'WORK' : 'trabalho_adicional','ACTIVITY' : 'atividades_diversas', \n",
    "           'PARTNER' : 'tem_companheiro', 'SALARY' : 'salario_total',\n",
    "           'TRANSPORT' : 'transporte_universidade', 'LIVING' : 'tipo_moradia', \n",
    "           'MOTHER_EDU' : 'escolaridade_mae', 'FATHER_EDU' : 'escolaridade_pai',\n",
    "           '#_SIBLINGS': 'numero_irmaos', 'KIDS':'status_parental', \n",
    "           'MOTHER_JOB':'ocupacao_mae', 'FATHER_JOB':'ocupacao_pai',\n",
    "           'STUDY_HRS' : 'horas_semanais_estudo', 'READ_FREQ' : 'freq_leitura', \n",
    "           'READ_FREQ_SCI' : 'freq_leitura_cientifica', 'ATTEND_DEPT':'presenca_seminarios',\n",
    "           'IMPACT' : 'impacto_sucesso', 'ATTEND' : 'freq_aulas', \n",
    "           'PREP_STUDY' : 'prep_exames_1', 'PREP_EXAM' : 'prep_exames_2', \n",
    "           'NOTES' : 'faz_anotacoes', 'LISTENS':'ouve_aulas',\n",
    "           'LIKES_DISCUSS' : 'gosta_de_discussoes', 'CLASSROOM' : 'flip_classroom', \n",
    "           'CUML_GPA':'media_notas_acumuladas_ult_semestre', 'EXP_GPA' : 'media_notas_acumuladas_esp_graduacao', \n",
    "           'COURSE ID' : 'ID_curso', 'GRADE':'nota_de_saida' }\n",
    "dados.rename(columns = colunas, inplace=True)"
   ]
  },
  {
   "cell_type": "markdown",
   "metadata": {
    "id": "zVlgTMGopBmE"
   },
   "source": [
    "* Verificando a existência de dados nulos"
   ]
  },
  {
   "cell_type": "code",
   "execution_count": 4,
   "metadata": {
    "colab": {
     "base_uri": "https://localhost:8080/",
     "height": 0
    },
    "id": "9U2xMxMfgezn",
    "outputId": "35c594ba-d1e9-48f8-c0a5-de262d05758d"
   },
   "outputs": [
    {
     "data": {
      "text/plain": [
       "ID_aluno                                0\n",
       "idade                                   0\n",
       "sexo                                    0\n",
       "Formacao_ensino_medio                   0\n",
       "tipo_bolsa                              0\n",
       "trabalho_adicional                      0\n",
       "atividades_diversas                     0\n",
       "tem_companheiro                         0\n",
       "salario_total                           0\n",
       "transporte_universidade                 0\n",
       "tipo_moradia                            0\n",
       "escolaridade_mae                        0\n",
       "escolaridade_pai                        0\n",
       "numero_irmaos                           0\n",
       "status_parental                         0\n",
       "ocupacao_mae                            0\n",
       "ocupacao_pai                            0\n",
       "horas_semanais_estudo                   0\n",
       "freq_leitura                            0\n",
       "freq_leitura_cientifica                 0\n",
       "presenca_seminarios                     0\n",
       "impacto_sucesso                         0\n",
       "freq_aulas                              0\n",
       "prep_exames_1                           0\n",
       "prep_exames_2                           0\n",
       "faz_anotacoes                           0\n",
       "ouve_aulas                              0\n",
       "gosta_de_discussoes                     0\n",
       "flip_classroom                          0\n",
       "media_notas_acumuladas_ult_semestre     0\n",
       "media_notas_acumuladas_esp_graduacao    0\n",
       "ID_curso                                0\n",
       "nota_de_saida                           0\n",
       "dtype: int64"
      ]
     },
     "execution_count": 4,
     "metadata": {},
     "output_type": "execute_result"
    }
   ],
   "source": [
    "dados.isnull().sum()"
   ]
  },
  {
   "cell_type": "markdown",
   "metadata": {
    "id": "5B2lp9QmpOCK"
   },
   "source": [
    "* Eliminando variáveis que não contribuem com o objetivo da solução"
   ]
  },
  {
   "cell_type": "code",
   "execution_count": 5,
   "metadata": {
    "id": "McQb7ckzocos"
   },
   "outputs": [],
   "source": [
    "dados = dados.drop(labels = ['ocupacao_mae','ocupacao_pai', 'numero_irmaos', 'escolaridade_mae', 'escolaridade_pai'], axis = 1)"
   ]
  },
  {
   "cell_type": "code",
   "execution_count": 6,
   "metadata": {
    "colab": {
     "base_uri": "https://localhost:8080/",
     "height": 0
    },
    "id": "BTu2_PEXvEx5",
    "outputId": "e72010d3-7492-4be2-af93-65082ee4a575"
   },
   "outputs": [
    {
     "data": {
      "text/plain": [
       "Index(['ID_aluno', 'idade', 'sexo', 'Formacao_ensino_medio', 'tipo_bolsa',\n",
       "       'trabalho_adicional', 'atividades_diversas', 'tem_companheiro',\n",
       "       'salario_total', 'transporte_universidade', 'tipo_moradia',\n",
       "       'status_parental', 'horas_semanais_estudo', 'freq_leitura',\n",
       "       'freq_leitura_cientifica', 'presenca_seminarios', 'impacto_sucesso',\n",
       "       'freq_aulas', 'prep_exames_1', 'prep_exames_2', 'faz_anotacoes',\n",
       "       'ouve_aulas', 'gosta_de_discussoes', 'flip_classroom',\n",
       "       'media_notas_acumuladas_ult_semestre',\n",
       "       'media_notas_acumuladas_esp_graduacao', 'ID_curso', 'nota_de_saida'],\n",
       "      dtype='object')"
      ]
     },
     "execution_count": 6,
     "metadata": {},
     "output_type": "execute_result"
    }
   ],
   "source": [
    "dados.columns"
   ]
  },
  {
   "cell_type": "markdown",
   "metadata": {
    "id": "x34DhSUQtThD"
   },
   "source": [
    "* Aplicando redimensionamento de atributos\n"
   ]
  },
  {
   "cell_type": "code",
   "execution_count": 7,
   "metadata": {
    "colab": {
     "base_uri": "https://localhost:8080/",
     "height": 0
    },
    "id": "tMKfd9mqp2BF",
    "outputId": "486bd756-3fa0-4534-b8e3-c882a564e176"
   },
   "outputs": [
    {
     "name": "stdout",
     "output_type": "stream",
     "text": [
      "Treinaremos com 116 elementos e testaremos com 29 elementos\n",
      "A acurácia foi 37.93%\n"
     ]
    }
   ],
   "source": [
    "import numpy as np\n",
    "from sklearn.model_selection import train_test_split\n",
    "from sklearn.tree import DecisionTreeClassifier\n",
    "from sklearn.metrics import accuracy_score\n",
    "\n",
    "X = dados[['idade', 'sexo', 'Formacao_ensino_medio', 'tipo_bolsa',\n",
    "       'trabalho_adicional', 'atividades_diversas', 'tem_companheiro',\n",
    "       'salario_total', 'transporte_universidade', 'tipo_moradia',\n",
    "       'status_parental', 'horas_semanais_estudo', 'freq_leitura',\n",
    "       'freq_leitura_cientifica', 'presenca_seminarios', 'impacto_sucesso',\n",
    "       'freq_aulas', 'prep_exames_1', 'prep_exames_2', 'faz_anotacoes',\n",
    "       'ouve_aulas', 'gosta_de_discussoes', 'flip_classroom',\n",
    "       'media_notas_acumuladas_ult_semestre',\n",
    "       'media_notas_acumuladas_esp_graduacao', 'ID_curso']]\n",
    "Y = dados['nota_de_saida']\n",
    "\n",
    "SEED = 158020\n",
    "np.random.seed(SEED)\n",
    "treino_x, teste_x, treino_y, teste_y = train_test_split(X, Y, test_size = 0.20,\n",
    "                                                         stratify = Y)\n",
    "modelo = DecisionTreeClassifier(max_depth=4)\n",
    "modelo.fit(treino_x, treino_y)\n",
    "previsoes = modelo.predict(teste_x)\n",
    "\n",
    "print(\"Treinaremos com %d elementos e testaremos com %d elementos\" % (len(treino_x), len(teste_x)))\n",
    "acuracia = accuracy_score(teste_y, previsoes) * 100\n",
    "print(\"A acurácia foi %.2f%%\" % acuracia)\n"
   ]
  },
  {
   "cell_type": "markdown",
   "metadata": {
    "id": "AZtHaw0ANejU"
   },
   "source": [
    "# Análise \n",
    "\n",
    "O objetivo aqui é aplicar o train_test_split para um melhor redimensionamento dos dados, o resultado é 108 estudantes para o treino e 37 para teste. Aproveitamos para aplicar o Decision Tree Classifier para avaliar a acurácia, pelo score é possível perceber que o indice não é satisfatório, devido ser inferior a 50%. No entanto, a aplicação contribui para o desenvolvimento do conhecimento nas técnicas e na analise. "
   ]
  },
  {
   "cell_type": "code",
   "execution_count": 8,
   "metadata": {
    "colab": {
     "base_uri": "https://localhost:8080/",
     "height": 0
    },
    "id": "qrF5b4pb3NNr",
    "outputId": "e21657e3-66f1-4fa8-f9e9-9d5e61f9d47f"
   },
   "outputs": [
    {
     "name": "stdout",
     "output_type": "stream",
     "text": [
      "Accuracy com cross validation, 10 = [1.97, 57.27]\n"
     ]
    }
   ],
   "source": [
    "from sklearn.model_selection import KFold\n",
    "from sklearn.model_selection import cross_validate\n",
    "SEED = 301\n",
    "np.random.seed(SEED)\n",
    "\n",
    "cv = KFold(n_splits = 10)\n",
    "\n",
    "results = cross_validate(modelo, X, Y, cv = cv, return_train_score=False)\n",
    "media = results['test_score'].mean()\n",
    "desvio_padrao = results['test_score'].std()\n",
    "print(\"Accuracy com cross validation, 10 = [%.2f, %.2f]\" % ((media - 2 * desvio_padrao)*100, (media + 2 * desvio_padrao) * 100))"
   ]
  },
  {
   "cell_type": "markdown",
   "metadata": {
    "id": "47PPWJl2OQVk"
   },
   "source": [
    "# Análise \n",
    "Aqui o objetivo principal é utilizar a validação cruzada através do cross_validate e do K-Fold, que segundo as instruções usaremos 10 para o n_splits. O modelo aplicado segue o do tópico anterior (DEcision Tree Classifier), no entanto, com a aplicação do 10-Fold e do cross_validate. Para avaliar a técnica, foi coletado o test_score, calculado a media e o desvio padrão sobre ele, para que assim podemos calcular o intervalo de acurácia, que segundo o cross validation é de [1.97, 57,27]. O resultado é mais satisfatório que anterior, no entanto, não é tão promissor. Continua sendo valido a aplicação afim de conhecimento e prática na técnica. "
   ]
  },
  {
   "cell_type": "markdown",
   "metadata": {
    "id": "dK8jeQHdy5C0"
   },
   "source": [
    "* 1. B. Análise exploratória dos dados de saída\n"
   ]
  },
  {
   "cell_type": "markdown",
   "metadata": {
    "id": "T7OcaT9H4dbO"
   },
   "source": [
    "# Mostrando o desbalanceamento"
   ]
  },
  {
   "cell_type": "code",
   "execution_count": 9,
   "metadata": {
    "colab": {
     "base_uri": "https://localhost:8080/",
     "height": 0
    },
    "id": "d_bOCJ5COQKu",
    "outputId": "444609e3-b762-4986-f64f-3abdb404b23f"
   },
   "outputs": [
    {
     "name": "stdout",
     "output_type": "stream",
     "text": [
      "1.4.2\n",
      "Requirement already satisfied: pandas in c:\\users\\laris\\anaconda3\\lib\\site-packages (1.4.2)\n",
      "Requirement already satisfied: python-dateutil>=2.8.1 in c:\\users\\laris\\anaconda3\\lib\\site-packages (from pandas) (2.8.2)\n",
      "Requirement already satisfied: numpy>=1.18.5 in c:\\users\\laris\\anaconda3\\lib\\site-packages (from pandas) (1.20.3)\n",
      "Requirement already satisfied: pytz>=2020.1 in c:\\users\\laris\\anaconda3\\lib\\site-packages (from pandas) (2021.3)\n",
      "Requirement already satisfied: six>=1.5 in c:\\users\\laris\\anaconda3\\lib\\site-packages (from python-dateutil>=2.8.1->pandas) (1.16.0)\n"
     ]
    }
   ],
   "source": [
    "\n",
    "print(pd.__version__)\n",
    "\n",
    "!pip install pandas --upgrade"
   ]
  },
  {
   "cell_type": "code",
   "execution_count": 10,
   "metadata": {
    "colab": {
     "base_uri": "https://localhost:8080/",
     "height": 444
    },
    "id": "I6uZBfvG2AIh",
    "outputId": "be30d2be-631f-4adb-f5f1-4e518fc9fd62"
   },
   "outputs": [
    {
     "name": "stdout",
     "output_type": "stream",
     "text": [
      "Class 0: 8\n",
      "Class 1: 35\n",
      "Class 2: 24\n",
      "Class 3: 21\n",
      "Class 4: 10\n",
      "Class 5: 17\n",
      "Class 6: 13\n",
      "Class 7: 17\n"
     ]
    },
    {
     "data": {
      "text/plain": [
       "<AxesSubplot:title={'center':'Count (target)'}>"
      ]
     },
     "execution_count": 10,
     "metadata": {},
     "output_type": "execute_result"
    },
    {
     "data": {
      "image/png": "[encoded data removed]",
      "text/plain": [
       "<Figure size 432x288 with 1 Axes>"
      ]
     },
     "metadata": {
      "needs_background": "light"
     },
     "output_type": "display_data"
    }
   ],
   "source": [
    "target_count = dados.nota_de_saida.value_counts()\n",
    "print('Class 0:', target_count[0])\n",
    "print('Class 1:', target_count[1])\n",
    "print('Class 2:', target_count[2])\n",
    "print('Class 3:', target_count[3])\n",
    "print('Class 4:', target_count[4])\n",
    "print('Class 5:', target_count[5])\n",
    "print('Class 6:', target_count[6])\n",
    "print('Class 7:', target_count[7])\n",
    "target_count.plot(kind='bar', title='Count (target)',color = ['#1F77B4', '#FF7F0E'])"
   ]
  },
  {
   "cell_type": "code",
   "execution_count": 11,
   "metadata": {
    "colab": {
     "base_uri": "https://localhost:8080/",
     "height": 337
    },
    "id": "NYYKb9tEqaGz",
    "outputId": "ed127131-959c-48c2-8af4-c7759eafa71c"
   },
   "outputs": [
    {
     "name": "stderr",
     "output_type": "stream",
     "text": [
      "C:\\Users\\laris\\anaconda3\\lib\\site-packages\\seaborn\\_decorators.py:36: FutureWarning: Pass the following variable as a keyword arg: x. From version 0.12, the only valid positional argument will be `data`, and passing other arguments without an explicit keyword will result in an error or misinterpretation.\n",
      "  warnings.warn(\n"
     ]
    },
    {
     "data": {
      "image/png": "[encoded data removed]",
      "text/plain": [
       "<Figure size 432x288 with 1 Axes>"
      ]
     },
     "metadata": {
      "needs_background": "light"
     },
     "output_type": "display_data"
    }
   ],
   "source": [
    "import seaborn as sns\n",
    "ax = sns.boxplot(target_count)"
   ]
  },
  {
   "cell_type": "code",
   "execution_count": 12,
   "metadata": {
    "colab": {
     "base_uri": "https://localhost:8080/",
     "height": 352
    },
    "id": "boco91Px7zTm",
    "outputId": "2cf7a02a-96f8-4929-e739-f1548ddd5fea"
   },
   "outputs": [
    {
     "name": "stdout",
     "output_type": "stream",
     "text": [
      "Class 0: 8\n",
      "Class 1: 35\n",
      "Proportion: 0.23 : 1\n"
     ]
    },
    {
     "data": {
      "text/plain": [
       "<AxesSubplot:title={'center':'Count (target)'}>"
      ]
     },
     "execution_count": 12,
     "metadata": {},
     "output_type": "execute_result"
    },
    {
     "data": {
      "image/png": "[encoded data removed]",
      "text/plain": [
       "<Figure size 432x288 with 1 Axes>"
      ]
     },
     "metadata": {
      "needs_background": "light"
     },
     "output_type": "display_data"
    }
   ],
   "source": [
    "# Classe Maioria = 1\n",
    "# Classe menoria = 0\n",
    "\n",
    "#IDENTIFICAR DESBALANCEAMENTO DOS DADOS\n",
    "target_count = dados.nota_de_saida.value_counts()\n",
    "print('Class 0:', target_count[0])\n",
    "print('Class 1:', target_count[1])\n",
    "print('Proportion:', round(target_count[0] / target_count[1], 2), ': 1')\n",
    "\n",
    "target_count.plot(kind='bar', title='Count (target)',color = ['#1F77B4', '#FF7F0E'])"
   ]
  },
  {
   "cell_type": "code",
   "execution_count": 13,
   "metadata": {
    "colab": {
     "base_uri": "https://localhost:8080/",
     "height": 370
    },
    "id": "c_wJv0DcwM26",
    "outputId": "479aa420-b2e5-4f47-8269-7e2338668456"
   },
   "outputs": [
    {
     "name": "stdout",
     "output_type": "stream",
     "text": [
      "Random under-sampling:\n",
      "0    35\n",
      "1    35\n",
      "Name: nota_de_saida, dtype: int64\n"
     ]
    },
    {
     "data": {
      "text/plain": [
       "<AxesSubplot:title={'center':'Count (nota_de_saida)'}>"
      ]
     },
     "execution_count": 13,
     "metadata": {},
     "output_type": "execute_result"
    },
    {
     "data": {
      "image/png": "[encoded data removed]",
      "text/plain": [
       "<Figure size 432x288 with 1 Axes>"
      ]
     },
     "metadata": {
      "needs_background": "light"
     },
     "output_type": "display_data"
    }
   ],
   "source": [
    "#CONTAR AS CLASSIFICACOES\n",
    "# Classe menoria = 0\n",
    "count_class_0 = target_count[0]\n",
    "# Classe Maioria = 1\n",
    "count_class_1 = target_count[1]\n",
    "\n",
    "#DIVIDE O DATA FRAME POR CLASSIFICACAO\n",
    "df_class_0 = dados[dados['nota_de_saida'] == 0]\n",
    "df_class_1 = dados[dados['nota_de_saida'] == 1]\n",
    "\n",
    "#EQUALIZANDO A BASE POR UNDER SAMPLING\n",
    "df_class_0_under = df_class_0.sample(count_class_1, replace=True)\n",
    "df_test_under = pd.concat([df_class_0_under, df_class_1], axis=0)\n",
    "\n",
    "print('Random under-sampling:')\n",
    "print(df_test_under.nota_de_saida.value_counts())\n",
    "\n",
    "df_test_under.nota_de_saida.value_counts().plot(kind='bar', title='Count (nota_de_saida)')\n",
    "\n"
   ]
  },
  {
   "cell_type": "code",
   "execution_count": 14,
   "metadata": {
    "colab": {
     "base_uri": "https://localhost:8080/",
     "height": 481
    },
    "id": "y-5IMQ3F-Bcd",
    "outputId": "254a7484-78cb-4856-b7ae-02d980125037"
   },
   "outputs": [
    {
     "name": "stdout",
     "output_type": "stream",
     "text": [
      "Random over-sampling:\n",
      "0    35\n",
      "1    24\n",
      "2    21\n",
      "4    17\n",
      "6    17\n",
      "7    17\n",
      "5    13\n",
      "3    10\n",
      "Name: nota_de_saida, dtype: int64\n"
     ]
    },
    {
     "data": {
      "text/plain": [
       "<AxesSubplot:title={'center':'Count (nota_de_saida)'}>"
      ]
     },
     "execution_count": 14,
     "metadata": {},
     "output_type": "execute_result"
    },
    {
     "data": {
      "image/png": "[encoded data removed]",
      "text/plain": [
       "<Figure size 432x288 with 1 Axes>"
      ]
     },
     "metadata": {
      "needs_background": "light"
     },
     "output_type": "display_data"
    }
   ],
   "source": [
    "#CONTAR AS CLASSIFICACOES\n",
    "# Classe menoria = 0\n",
    "count_class_0 = target_count[0]\n",
    "# Classe Maioria = 1\n",
    "count_class_1 = target_count[1]\n",
    "count_class_2 = target_count[2]\n",
    "count_class_3 = target_count[3]\n",
    "count_class_4 = target_count[4]\n",
    "count_class_5 = target_count[5]\n",
    "count_class_6 = target_count[6]\n",
    "count_class_7 = target_count[7]\n",
    "\n",
    "#DIVIDE O DATA FRAME POR CLASSIFICACAO\n",
    "df_class_0 = dados[dados['nota_de_saida'] == 0]\n",
    "df_class_1 = dados[dados['nota_de_saida'] == 1]\n",
    "df_class_2 = dados[dados['nota_de_saida'] == 2]\n",
    "df_class_3 = dados[dados['nota_de_saida'] == 3]\n",
    "df_class_4 = dados[dados['nota_de_saida'] == 4]\n",
    "df_class_5 = dados[dados['nota_de_saida'] == 5]\n",
    "df_class_6 = dados[dados['nota_de_saida'] == 6]\n",
    "df_class_7 = dados[dados['nota_de_saida'] == 7]\n",
    "\n",
    "\n",
    "#EQUALIZANDO A BASE POR UNDER SAMPLING\n",
    "df_class_0_over = df_class_0.sample(count_class_1, replace=True)\n",
    "df_test_over1 = pd.concat([df_class_0_over, df_class_1], axis=0)\n",
    "df_test_over1 = df_class_1.sample(count_class_2, replace=True)\n",
    "df_test_over2 = df_class_2.sample(count_class_3, replace=True)\n",
    "df_test_over3 = df_class_3.sample(count_class_4, replace=True)\n",
    "df_test_over4 = df_class_4.sample(count_class_5, replace=True)\n",
    "df_test_over5 = df_class_5.sample(count_class_6, replace=True)\n",
    "df_test_over6 = df_class_6.sample(count_class_7, replace=True)\n",
    "df_test_over7 = pd.concat([df_class_0_over, df_test_over1, df_test_over2, df_test_over3,df_test_over4, df_test_over5, df_test_over6, df_class_7], axis=0)\n",
    "\n",
    "\n",
    "print('Random over-sampling:')\n",
    "print(df_test_over7.nota_de_saida.value_counts())\n",
    "\n",
    "df_test_over7.nota_de_saida.value_counts().plot(kind='bar', title='Count (nota_de_saida)')"
   ]
  },
  {
   "cell_type": "code",
   "execution_count": 15,
   "metadata": {
    "colab": {
     "base_uri": "https://localhost:8080/",
     "height": 337
    },
    "id": "BdyVnfuSGp0H",
    "outputId": "a7029719-f269-4deb-9a23-719b557daa56"
   },
   "outputs": [
    {
     "name": "stderr",
     "output_type": "stream",
     "text": [
      "C:\\Users\\laris\\anaconda3\\lib\\site-packages\\seaborn\\_decorators.py:36: FutureWarning: Pass the following variable as a keyword arg: x. From version 0.12, the only valid positional argument will be `data`, and passing other arguments without an explicit keyword will result in an error or misinterpretation.\n",
      "  warnings.warn(\n"
     ]
    },
    {
     "data": {
      "image/png": "[encoded data removed]",
      "text/plain": [
       "<Figure size 432x288 with 1 Axes>"
      ]
     },
     "metadata": {
      "needs_background": "light"
     },
     "output_type": "display_data"
    }
   ],
   "source": [
    "ax = sns.boxplot(df_test_over7.nota_de_saida.value_counts())"
   ]
  },
  {
   "cell_type": "markdown",
   "metadata": {
    "id": "mVgNKbNmPj7Z"
   },
   "source": [
    "# Análise\n",
    "\n",
    "Através da aplicação do oversampling não conseguimos alcançar o mesmo tamanho para as classes. No entanto, houve uma melhora na distribuição, conforme podemos verificar pelo gráfico boxplot do antes e depois da aplicação da técnica. A amplitude entre as classes diminui, proporcionando uma maior taxa de equalização do tamanho das classes."
   ]
  },
  {
   "cell_type": "markdown",
   "metadata": {
    "id": "qFRg__jUF57L"
   },
   "source": [
    "# Utiizando a biblioteca AUTOML para fazer previsão"
   ]
  },
  {
   "cell_type": "code",
   "execution_count": 16,
   "metadata": {
    "id": "o2RmZO9-Lx2k"
   },
   "outputs": [],
   "source": [
    "X = dados[['idade', 'sexo', 'Formacao_ensino_medio', 'tipo_bolsa',\n",
    "       'trabalho_adicional', 'atividades_diversas', 'tem_companheiro',\n",
    "       'salario_total', 'transporte_universidade', 'tipo_moradia',\n",
    "       'status_parental', 'horas_semanais_estudo', 'freq_leitura',\n",
    "       'freq_leitura_cientifica', 'presenca_seminarios', 'impacto_sucesso',\n",
    "       'freq_aulas', 'prep_exames_1', 'prep_exames_2', 'faz_anotacoes',\n",
    "       'ouve_aulas', 'gosta_de_discussoes', 'flip_classroom',\n",
    "       'media_notas_acumuladas_ult_semestre',\n",
    "       'media_notas_acumuladas_esp_graduacao', 'ID_curso']]\n",
    "Y = dados['nota_de_saida']\n",
    "\n",
    "SEED = 158020\n",
    "np.random.seed(SEED)\n",
    "treino_x, teste_x, treino_y, teste_y = train_test_split(X, Y, test_size = 0.20,\n",
    "                                                         stratify = Y)\n"
   ]
  },
  {
   "cell_type": "markdown",
   "metadata": {
    "id": "NLnASEYISYQQ"
   },
   "source": [
    "TÉCNICA DE AUTOML - ÁRVORE DE DECISÃO\n",
    "\n",
    "Hiperparâmetro - Max_depth\n",
    "* variações a serem utilizadas\n",
    "max_depth = 4\n",
    "max_depth = 10\n",
    "max_depth = 40"
   ]
  },
  {
   "cell_type": "code",
   "execution_count": 17,
   "metadata": {
    "id": "J_7LzoX8RR_a"
   },
   "outputs": [],
   "source": [
    "modelo = DecisionTreeClassifier(max_depth=4)\n",
    "modelo.fit(treino_x, treino_y)\n",
    "previsoes_4 = modelo.predict(teste_x)"
   ]
  },
  {
   "cell_type": "code",
   "execution_count": 18,
   "metadata": {
    "colab": {
     "base_uri": "https://localhost:8080/",
     "height": 0
    },
    "id": "aj2ttrRsRZ46",
    "outputId": "7f5a9a47-a360-4a11-9f1a-1d9bda686eaa"
   },
   "outputs": [
    {
     "data": {
      "text/plain": [
       "array([1, 6, 1, 6, 3, 1, 7, 1, 6, 1, 1, 0, 1, 7, 7, 1, 2, 0, 1, 5, 1, 1,\n",
       "       6, 1, 1, 3, 1, 6, 5], dtype=int64)"
      ]
     },
     "execution_count": 18,
     "metadata": {},
     "output_type": "execute_result"
    }
   ],
   "source": [
    "previsoes_4"
   ]
  },
  {
   "cell_type": "code",
   "execution_count": 19,
   "metadata": {
    "id": "mWGizlzzSNaJ"
   },
   "outputs": [],
   "source": [
    "modelo = DecisionTreeClassifier(max_depth=10)\n",
    "modelo.fit(treino_x, treino_y)\n",
    "previsoes_10 = modelo.predict(teste_x)"
   ]
  },
  {
   "cell_type": "code",
   "execution_count": 20,
   "metadata": {
    "colab": {
     "base_uri": "https://localhost:8080/",
     "height": 0
    },
    "id": "cCB7MWEWV_vY",
    "outputId": "1441aa8a-546c-476d-f632-5aee2afe7c8c"
   },
   "outputs": [
    {
     "data": {
      "text/plain": [
       "(29,)"
      ]
     },
     "execution_count": 20,
     "metadata": {},
     "output_type": "execute_result"
    }
   ],
   "source": [
    "teste_y.shape"
   ]
  },
  {
   "cell_type": "code",
   "execution_count": 21,
   "metadata": {
    "colab": {
     "base_uri": "https://localhost:8080/",
     "height": 0
    },
    "id": "R4Q49Xr6StI5",
    "outputId": "5b7b9333-bcd2-4bf4-e28f-e97123ffb173"
   },
   "outputs": [
    {
     "data": {
      "text/plain": [
       "array([5, 6, 1, 6, 5, 1, 7, 1, 5, 2, 2, 0, 1, 6, 5, 1, 2, 7, 1, 0, 1, 1,\n",
       "       7, 3, 2, 5, 0, 6, 5], dtype=int64)"
      ]
     },
     "execution_count": 21,
     "metadata": {},
     "output_type": "execute_result"
    }
   ],
   "source": [
    "previsoes_10"
   ]
  },
  {
   "cell_type": "code",
   "execution_count": 22,
   "metadata": {
    "id": "PmM_ZUh0Su-h"
   },
   "outputs": [],
   "source": [
    "modelo = DecisionTreeClassifier(max_depth=40)\n",
    "modelo.fit(treino_x, treino_y)\n",
    "previsoes_40 = modelo.predict(teste_x)"
   ]
  },
  {
   "cell_type": "code",
   "execution_count": 23,
   "metadata": {
    "colab": {
     "base_uri": "https://localhost:8080/",
     "height": 0
    },
    "id": "6mrP3VR8S1lZ",
    "outputId": "9af6d845-6136-4c0f-a0f5-52322cf71afe"
   },
   "outputs": [
    {
     "data": {
      "text/plain": [
       "array([2, 4, 1, 5, 5, 1, 7, 1, 4, 2, 2, 0, 1, 7, 7, 1, 2, 0, 1, 0, 1, 1,\n",
       "       7, 7, 2, 5, 7, 6, 5], dtype=int64)"
      ]
     },
     "execution_count": 23,
     "metadata": {},
     "output_type": "execute_result"
    }
   ],
   "source": [
    "previsoes_40"
   ]
  },
  {
   "cell_type": "markdown",
   "metadata": {
    "id": "msX1FkexS-z1"
   },
   "source": [
    "* Aplicação da Matriz de Confusão"
   ]
  },
  {
   "cell_type": "code",
   "execution_count": 24,
   "metadata": {
    "colab": {
     "base_uri": "https://localhost:8080/",
     "height": 0
    },
    "id": "RzIt6sEiS4uw",
    "outputId": "cfa09468-2871-4cd2-e635-cbb296b72329"
   },
   "outputs": [
    {
     "name": "stdout",
     "output_type": "stream",
     "text": [
      "Previsto  0   1  2  3  5  6  7  All\n",
      "Real                               \n",
      "0         1   1  0  0  0  0  0    2\n",
      "1         0   5  0  0  2  0  0    7\n",
      "2         0   4  1  0  0  0  0    5\n",
      "3         1   0  0  2  0  0  1    4\n",
      "4         0   1  0  0  0  1  0    2\n",
      "5         0   2  0  0  0  1  0    3\n",
      "6         0   1  0  0  0  1  1    3\n",
      "7         0   0  0  0  0  2  1    3\n",
      "All       2  14  1  2  2  5  3   29\n",
      "Acurácia: 0.379310\n"
     ]
    }
   ],
   "source": [
    "# matriz de confusão em sklearn\n",
    "from sklearn.metrics import confusion_matrix\n",
    "from sklearn.metrics import classification_report\n",
    "from sklearn.metrics import accuracy_score #acuracia\n",
    "\n",
    "# valores reais\n",
    "real = teste_y\n",
    "# valores previstos\n",
    "previsto = previsoes_4\n",
    "\n",
    "#matriz de confusão\n",
    "print(pd.crosstab(real,previsto, rownames=['Real'], colnames=['Previsto'], margins=True))\n",
    "\n",
    "# Acurácia\n",
    "\n",
    "acuracia = accuracy_score(real, previsto)\n",
    "print('Acurácia: %f' % acuracia)\n",
    "\n"
   ]
  },
  {
   "cell_type": "code",
   "execution_count": 25,
   "metadata": {
    "colab": {
     "base_uri": "https://localhost:8080/",
     "height": 0
    },
    "id": "sc68nEWoZMBI",
    "outputId": "1dc07be1-fa12-4af1-bece-7753c56c0167"
   },
   "outputs": [
    {
     "name": "stdout",
     "output_type": "stream",
     "text": [
      "Previsto  0  1  2  3  5  6  7  All\n",
      "Real                              \n",
      "0         1  0  1  0  0  0  0    2\n",
      "1         2  3  1  0  1  0  0    7\n",
      "2         0  2  2  0  1  0  0    5\n",
      "3         0  0  0  0  2  1  1    4\n",
      "4         0  1  0  0  0  0  1    2\n",
      "5         0  2  0  0  1  0  0    3\n",
      "6         0  0  0  1  1  1  0    3\n",
      "7         0  0  0  0  0  2  1    3\n",
      "All       3  8  4  1  6  4  3   29\n",
      "Acurácia: 0.310345\n"
     ]
    }
   ],
   "source": [
    "# valores reais\n",
    "real = teste_y\n",
    "# valores previstos\n",
    "previsto = previsoes_10\n",
    "\n",
    "#matriz de confusão\n",
    "print(pd.crosstab(real,previsto, rownames=['Real'], colnames=['Previsto'], margins=True))\n",
    "\n",
    "# Acurácia\n",
    "\n",
    "acuracia = accuracy_score(real, previsto)\n",
    "print('Acurácia: %f' % acuracia)\n"
   ]
  },
  {
   "cell_type": "code",
   "execution_count": 26,
   "metadata": {
    "colab": {
     "base_uri": "https://localhost:8080/",
     "height": 0
    },
    "id": "s83ymX2GTCo4",
    "outputId": "a5cd73f0-00c4-434b-f3f2-4c9fde2b16d4"
   },
   "outputs": [
    {
     "name": "stdout",
     "output_type": "stream",
     "text": [
      "Previsto  0  1  2  4  5  6  7  All\n",
      "Real                              \n",
      "0         1  0  1  0  0  0  0    2\n",
      "1         1  3  1  0  1  0  1    7\n",
      "2         0  2  3  0  0  0  0    5\n",
      "3         1  0  0  0  2  0  1    4\n",
      "4         0  1  0  0  0  0  1    2\n",
      "5         0  2  0  1  0  0  0    3\n",
      "6         0  0  0  1  0  0  2    3\n",
      "7         0  0  0  0  1  1  1    3\n",
      "All       3  8  5  2  4  1  6   29\n",
      "Acurácia: 0.275862\n"
     ]
    }
   ],
   "source": [
    "# valores reais\n",
    "real = teste_y\n",
    "# valores previstos\n",
    "previsto = previsoes_40\n",
    "\n",
    "#matriz de confusão\n",
    "print(pd.crosstab(real,previsto, rownames=['Real'], colnames=['Previsto'], margins=True))\n",
    "\n",
    "# Acurácia\n",
    "\n",
    "acuracia = accuracy_score(real, previsto)\n",
    "print('Acurácia: %f' % acuracia)"
   ]
  },
  {
   "cell_type": "code",
   "execution_count": null,
   "metadata": {
    "id": "7q6xAoVHStfd"
   },
   "outputs": [],
   "source": []
  },
  {
   "cell_type": "markdown",
   "metadata": {
    "id": "qJhRywYXQbAm"
   },
   "source": [
    "# Análise\n",
    "\n",
    "É um tabela que mostra as frequências de classificação para cada classe do modelo, mostra as frequências:\n",
    "\n",
    "Verdadeiro positivo (true positive — TP): ocorre quando no conjunto real, a classe que estamos buscando foi prevista corretamente. \n",
    "Falso positivo (false positive — FP): ocorre quando no conjunto real, a classe que estamos buscando prever foi prevista incorretamente. \n",
    "Falso verdadeiro (true negative — TN): ocorre quando no conjunto real, a classe que não estamos buscando prever foi prevista corretamente.\n",
    "Falso negativo (false negative — FN): ocorre quando no conjunto real, a classe que não estamos buscando prever foi prevista incorretamente. \n",
    "\n",
    "A métrica selecionada para auxilio na compreensão dos resultados da matriz de confusão é a acurácia, pois nos diz quanto o modelo acertou das previsões possiveis. Conforme calculado, não tivemos scores de acurácia superiores a 50%, o que representa resultados insatisfatórios. "
   ]
  },
  {
   "cell_type": "markdown",
   "metadata": {
    "id": "2ta44MBprvti"
   },
   "source": [
    "* 2. Utilize a mesma base de dados (lembrem de tirar o rótulo, obviamente) da questão anterior de forma que:"
   ]
  },
  {
   "cell_type": "code",
   "execution_count": 27,
   "metadata": {
    "id": "DUgK5JL8vo0D"
   },
   "outputs": [],
   "source": [
    "dados = dados.drop(labels = ['ID_aluno'], axis = 1)\n",
    "\n"
   ]
  },
  {
   "cell_type": "code",
   "execution_count": 28,
   "metadata": {
    "colab": {
     "base_uri": "https://localhost:8080/",
     "height": 487
    },
    "id": "OV8D2Uom25ap",
    "outputId": "f61e05ec-5795-4822-803c-51f69fb0553c"
   },
   "outputs": [
    {
     "data": {
      "text/html": [
       "<div>\n",
       "<style scoped>\n",
       "    .dataframe tbody tr th:only-of-type {\n",
       "        vertical-align: middle;\n",
       "    }\n",
       "\n",
       "    .dataframe tbody tr th {\n",
       "        vertical-align: top;\n",
       "    }\n",
       "\n",
       "    .dataframe thead th {\n",
       "        text-align: right;\n",
       "    }\n",
       "</style>\n",
       "<table border=\"1\" class=\"dataframe\">\n",
       "  <thead>\n",
       "    <tr style=\"text-align: right;\">\n",
       "      <th></th>\n",
       "      <th>idade</th>\n",
       "      <th>sexo</th>\n",
       "      <th>Formacao_ensino_medio</th>\n",
       "      <th>tipo_bolsa</th>\n",
       "      <th>trabalho_adicional</th>\n",
       "      <th>atividades_diversas</th>\n",
       "      <th>tem_companheiro</th>\n",
       "      <th>salario_total</th>\n",
       "      <th>transporte_universidade</th>\n",
       "      <th>tipo_moradia</th>\n",
       "      <th>...</th>\n",
       "      <th>prep_exames_2</th>\n",
       "      <th>faz_anotacoes</th>\n",
       "      <th>ouve_aulas</th>\n",
       "      <th>gosta_de_discussoes</th>\n",
       "      <th>flip_classroom</th>\n",
       "      <th>media_notas_acumuladas_ult_semestre</th>\n",
       "      <th>media_notas_acumuladas_esp_graduacao</th>\n",
       "      <th>ID_curso</th>\n",
       "      <th>nota_de_saida</th>\n",
       "      <th>ID_aluno</th>\n",
       "    </tr>\n",
       "  </thead>\n",
       "  <tbody>\n",
       "    <tr>\n",
       "      <th>0</th>\n",
       "      <td>2</td>\n",
       "      <td>2</td>\n",
       "      <td>3</td>\n",
       "      <td>3</td>\n",
       "      <td>1</td>\n",
       "      <td>2</td>\n",
       "      <td>2</td>\n",
       "      <td>1</td>\n",
       "      <td>1</td>\n",
       "      <td>1</td>\n",
       "      <td>...</td>\n",
       "      <td>1</td>\n",
       "      <td>3</td>\n",
       "      <td>2</td>\n",
       "      <td>1</td>\n",
       "      <td>2</td>\n",
       "      <td>1</td>\n",
       "      <td>1</td>\n",
       "      <td>1</td>\n",
       "      <td>1</td>\n",
       "      <td>1</td>\n",
       "    </tr>\n",
       "    <tr>\n",
       "      <th>1</th>\n",
       "      <td>2</td>\n",
       "      <td>2</td>\n",
       "      <td>3</td>\n",
       "      <td>3</td>\n",
       "      <td>1</td>\n",
       "      <td>2</td>\n",
       "      <td>2</td>\n",
       "      <td>1</td>\n",
       "      <td>1</td>\n",
       "      <td>1</td>\n",
       "      <td>...</td>\n",
       "      <td>1</td>\n",
       "      <td>3</td>\n",
       "      <td>2</td>\n",
       "      <td>3</td>\n",
       "      <td>2</td>\n",
       "      <td>2</td>\n",
       "      <td>3</td>\n",
       "      <td>1</td>\n",
       "      <td>1</td>\n",
       "      <td>2</td>\n",
       "    </tr>\n",
       "    <tr>\n",
       "      <th>2</th>\n",
       "      <td>2</td>\n",
       "      <td>2</td>\n",
       "      <td>2</td>\n",
       "      <td>3</td>\n",
       "      <td>2</td>\n",
       "      <td>2</td>\n",
       "      <td>2</td>\n",
       "      <td>2</td>\n",
       "      <td>4</td>\n",
       "      <td>2</td>\n",
       "      <td>...</td>\n",
       "      <td>1</td>\n",
       "      <td>2</td>\n",
       "      <td>2</td>\n",
       "      <td>1</td>\n",
       "      <td>1</td>\n",
       "      <td>2</td>\n",
       "      <td>2</td>\n",
       "      <td>1</td>\n",
       "      <td>1</td>\n",
       "      <td>3</td>\n",
       "    </tr>\n",
       "    <tr>\n",
       "      <th>3</th>\n",
       "      <td>1</td>\n",
       "      <td>1</td>\n",
       "      <td>1</td>\n",
       "      <td>3</td>\n",
       "      <td>1</td>\n",
       "      <td>2</td>\n",
       "      <td>1</td>\n",
       "      <td>2</td>\n",
       "      <td>1</td>\n",
       "      <td>2</td>\n",
       "      <td>...</td>\n",
       "      <td>2</td>\n",
       "      <td>3</td>\n",
       "      <td>2</td>\n",
       "      <td>2</td>\n",
       "      <td>1</td>\n",
       "      <td>3</td>\n",
       "      <td>2</td>\n",
       "      <td>1</td>\n",
       "      <td>1</td>\n",
       "      <td>4</td>\n",
       "    </tr>\n",
       "    <tr>\n",
       "      <th>4</th>\n",
       "      <td>2</td>\n",
       "      <td>2</td>\n",
       "      <td>1</td>\n",
       "      <td>3</td>\n",
       "      <td>2</td>\n",
       "      <td>2</td>\n",
       "      <td>1</td>\n",
       "      <td>3</td>\n",
       "      <td>1</td>\n",
       "      <td>4</td>\n",
       "      <td>...</td>\n",
       "      <td>1</td>\n",
       "      <td>2</td>\n",
       "      <td>2</td>\n",
       "      <td>2</td>\n",
       "      <td>1</td>\n",
       "      <td>2</td>\n",
       "      <td>2</td>\n",
       "      <td>1</td>\n",
       "      <td>1</td>\n",
       "      <td>5</td>\n",
       "    </tr>\n",
       "    <tr>\n",
       "      <th>...</th>\n",
       "      <td>...</td>\n",
       "      <td>...</td>\n",
       "      <td>...</td>\n",
       "      <td>...</td>\n",
       "      <td>...</td>\n",
       "      <td>...</td>\n",
       "      <td>...</td>\n",
       "      <td>...</td>\n",
       "      <td>...</td>\n",
       "      <td>...</td>\n",
       "      <td>...</td>\n",
       "      <td>...</td>\n",
       "      <td>...</td>\n",
       "      <td>...</td>\n",
       "      <td>...</td>\n",
       "      <td>...</td>\n",
       "      <td>...</td>\n",
       "      <td>...</td>\n",
       "      <td>...</td>\n",
       "      <td>...</td>\n",
       "      <td>...</td>\n",
       "    </tr>\n",
       "    <tr>\n",
       "      <th>140</th>\n",
       "      <td>2</td>\n",
       "      <td>1</td>\n",
       "      <td>2</td>\n",
       "      <td>3</td>\n",
       "      <td>1</td>\n",
       "      <td>1</td>\n",
       "      <td>2</td>\n",
       "      <td>1</td>\n",
       "      <td>1</td>\n",
       "      <td>2</td>\n",
       "      <td>...</td>\n",
       "      <td>1</td>\n",
       "      <td>2</td>\n",
       "      <td>1</td>\n",
       "      <td>2</td>\n",
       "      <td>1</td>\n",
       "      <td>3</td>\n",
       "      <td>3</td>\n",
       "      <td>9</td>\n",
       "      <td>5</td>\n",
       "      <td>141</td>\n",
       "    </tr>\n",
       "    <tr>\n",
       "      <th>141</th>\n",
       "      <td>1</td>\n",
       "      <td>1</td>\n",
       "      <td>2</td>\n",
       "      <td>4</td>\n",
       "      <td>2</td>\n",
       "      <td>2</td>\n",
       "      <td>2</td>\n",
       "      <td>1</td>\n",
       "      <td>4</td>\n",
       "      <td>2</td>\n",
       "      <td>...</td>\n",
       "      <td>1</td>\n",
       "      <td>3</td>\n",
       "      <td>2</td>\n",
       "      <td>2</td>\n",
       "      <td>1</td>\n",
       "      <td>5</td>\n",
       "      <td>3</td>\n",
       "      <td>9</td>\n",
       "      <td>5</td>\n",
       "      <td>142</td>\n",
       "    </tr>\n",
       "    <tr>\n",
       "      <th>142</th>\n",
       "      <td>1</td>\n",
       "      <td>1</td>\n",
       "      <td>1</td>\n",
       "      <td>4</td>\n",
       "      <td>2</td>\n",
       "      <td>2</td>\n",
       "      <td>2</td>\n",
       "      <td>1</td>\n",
       "      <td>1</td>\n",
       "      <td>1</td>\n",
       "      <td>...</td>\n",
       "      <td>1</td>\n",
       "      <td>3</td>\n",
       "      <td>3</td>\n",
       "      <td>2</td>\n",
       "      <td>1</td>\n",
       "      <td>4</td>\n",
       "      <td>3</td>\n",
       "      <td>9</td>\n",
       "      <td>1</td>\n",
       "      <td>143</td>\n",
       "    </tr>\n",
       "    <tr>\n",
       "      <th>143</th>\n",
       "      <td>2</td>\n",
       "      <td>1</td>\n",
       "      <td>2</td>\n",
       "      <td>4</td>\n",
       "      <td>1</td>\n",
       "      <td>1</td>\n",
       "      <td>1</td>\n",
       "      <td>5</td>\n",
       "      <td>2</td>\n",
       "      <td>3</td>\n",
       "      <td>...</td>\n",
       "      <td>1</td>\n",
       "      <td>2</td>\n",
       "      <td>1</td>\n",
       "      <td>2</td>\n",
       "      <td>1</td>\n",
       "      <td>5</td>\n",
       "      <td>3</td>\n",
       "      <td>9</td>\n",
       "      <td>4</td>\n",
       "      <td>144</td>\n",
       "    </tr>\n",
       "    <tr>\n",
       "      <th>144</th>\n",
       "      <td>1</td>\n",
       "      <td>1</td>\n",
       "      <td>1</td>\n",
       "      <td>5</td>\n",
       "      <td>2</td>\n",
       "      <td>2</td>\n",
       "      <td>2</td>\n",
       "      <td>3</td>\n",
       "      <td>1</td>\n",
       "      <td>1</td>\n",
       "      <td>...</td>\n",
       "      <td>1</td>\n",
       "      <td>3</td>\n",
       "      <td>2</td>\n",
       "      <td>3</td>\n",
       "      <td>1</td>\n",
       "      <td>5</td>\n",
       "      <td>4</td>\n",
       "      <td>9</td>\n",
       "      <td>3</td>\n",
       "      <td>145</td>\n",
       "    </tr>\n",
       "  </tbody>\n",
       "</table>\n",
       "<p>145 rows × 28 columns</p>\n",
       "</div>"
      ],
      "text/plain": [
       "     idade  sexo  Formacao_ensino_medio  tipo_bolsa  trabalho_adicional  \\\n",
       "0        2     2                      3           3                   1   \n",
       "1        2     2                      3           3                   1   \n",
       "2        2     2                      2           3                   2   \n",
       "3        1     1                      1           3                   1   \n",
       "4        2     2                      1           3                   2   \n",
       "..     ...   ...                    ...         ...                 ...   \n",
       "140      2     1                      2           3                   1   \n",
       "141      1     1                      2           4                   2   \n",
       "142      1     1                      1           4                   2   \n",
       "143      2     1                      2           4                   1   \n",
       "144      1     1                      1           5                   2   \n",
       "\n",
       "     atividades_diversas  tem_companheiro  salario_total  \\\n",
       "0                      2                2              1   \n",
       "1                      2                2              1   \n",
       "2                      2                2              2   \n",
       "3                      2                1              2   \n",
       "4                      2                1              3   \n",
       "..                   ...              ...            ...   \n",
       "140                    1                2              1   \n",
       "141                    2                2              1   \n",
       "142                    2                2              1   \n",
       "143                    1                1              5   \n",
       "144                    2                2              3   \n",
       "\n",
       "     transporte_universidade  tipo_moradia  ...  prep_exames_2  faz_anotacoes  \\\n",
       "0                          1             1  ...              1              3   \n",
       "1                          1             1  ...              1              3   \n",
       "2                          4             2  ...              1              2   \n",
       "3                          1             2  ...              2              3   \n",
       "4                          1             4  ...              1              2   \n",
       "..                       ...           ...  ...            ...            ...   \n",
       "140                        1             2  ...              1              2   \n",
       "141                        4             2  ...              1              3   \n",
       "142                        1             1  ...              1              3   \n",
       "143                        2             3  ...              1              2   \n",
       "144                        1             1  ...              1              3   \n",
       "\n",
       "     ouve_aulas  gosta_de_discussoes  flip_classroom  \\\n",
       "0             2                    1               2   \n",
       "1             2                    3               2   \n",
       "2             2                    1               1   \n",
       "3             2                    2               1   \n",
       "4             2                    2               1   \n",
       "..          ...                  ...             ...   \n",
       "140           1                    2               1   \n",
       "141           2                    2               1   \n",
       "142           3                    2               1   \n",
       "143           1                    2               1   \n",
       "144           2                    3               1   \n",
       "\n",
       "     media_notas_acumuladas_ult_semestre  \\\n",
       "0                                      1   \n",
       "1                                      2   \n",
       "2                                      2   \n",
       "3                                      3   \n",
       "4                                      2   \n",
       "..                                   ...   \n",
       "140                                    3   \n",
       "141                                    5   \n",
       "142                                    4   \n",
       "143                                    5   \n",
       "144                                    5   \n",
       "\n",
       "     media_notas_acumuladas_esp_graduacao  ID_curso  nota_de_saida  ID_aluno  \n",
       "0                                       1         1              1         1  \n",
       "1                                       3         1              1         2  \n",
       "2                                       2         1              1         3  \n",
       "3                                       2         1              1         4  \n",
       "4                                       2         1              1         5  \n",
       "..                                    ...       ...            ...       ...  \n",
       "140                                     3         9              5       141  \n",
       "141                                     3         9              5       142  \n",
       "142                                     3         9              1       143  \n",
       "143                                     3         9              4       144  \n",
       "144                                     4         9              3       145  \n",
       "\n",
       "[145 rows x 28 columns]"
      ]
     },
     "execution_count": 28,
     "metadata": {},
     "output_type": "execute_result"
    }
   ],
   "source": [
    "dados['ID_aluno'] = range(1,146)\n",
    "dados"
   ]
  },
  {
   "cell_type": "markdown",
   "metadata": {
    "id": "J4YXeBkU3ynn"
   },
   "source": [
    "* Utilizando Kmeans"
   ]
  },
  {
   "cell_type": "code",
   "execution_count": 29,
   "metadata": {
    "colab": {
     "base_uri": "https://localhost:8080/",
     "height": 0
    },
    "id": "5fZgDSGiaGpV",
    "outputId": "80aacaa9-f11f-4b86-b178-666ee5dc7032"
   },
   "outputs": [
    {
     "data": {
      "text/plain": [
       "array([[0.5       , 1.        , 1.        , ..., 0.        , 0.14285714,\n",
       "        0.        ],\n",
       "       [0.5       , 1.        , 1.        , ..., 0.        , 0.14285714,\n",
       "        0.00694444],\n",
       "       [0.5       , 1.        , 0.5       , ..., 0.        , 0.14285714,\n",
       "        0.01388889],\n",
       "       ...,\n",
       "       [0.        , 0.        , 0.        , ..., 1.        , 0.14285714,\n",
       "        0.98611111],\n",
       "       [0.5       , 0.        , 0.5       , ..., 1.        , 0.57142857,\n",
       "        0.99305556],\n",
       "       [0.        , 0.        , 0.        , ..., 1.        , 0.42857143,\n",
       "        1.        ]])"
      ]
     },
     "execution_count": 29,
     "metadata": {},
     "output_type": "execute_result"
    }
   ],
   "source": [
    "from sklearn.cluster import KMeans\n",
    "from sklearn import preprocessing\n",
    "\n",
    "min_max_scaler = preprocessing.MinMaxScaler()\n",
    "np_dataset = min_max_scaler.fit_transform(dados)\n",
    "np_dataset\n",
    "\n"
   ]
  },
  {
   "cell_type": "code",
   "execution_count": 30,
   "metadata": {
    "colab": {
     "base_uri": "https://localhost:8080/",
     "height": 0
    },
    "id": "IUEeqBIKr0xh",
    "outputId": "e0158015-f011-4b05-bb21-8a256be8a37b"
   },
   "outputs": [
    {
     "name": "stdout",
     "output_type": "stream",
     "text": [
      "[2 2 2 1 1 2 2 1 1 1 2 0 2 2 2 2 2 2 2 1 1 1 1 2 2 1 1 2 1 2 1 2 2 1 1 2 1\n",
      " 1 2 1 2 2 2 1 1 1 1 1 1 2 1 2 2 2 2 1 2 2 1 1 2 2 2 1 2 1 1 2 2 1 1 2 1 2\n",
      " 2 2 2 1 0 2 1 2 1 2 1 2 2 2 1 2 1 1 2 1 1 1 1 2 2 2 2 1 1 1 0 2 2 0 0 1 2\n",
      " 0 0 0 0 0 0 0 1 0 0 0 2 0 0 0 0 0 0 0 0 0 0 0 0 0 0 0 0 0 0 0 0 0 0]\n"
     ]
    }
   ],
   "source": [
    "\n",
    "agrupador = KMeans(n_clusters=3)\n",
    "agrupador.fit(np_dataset)\n",
    "labels = agrupador.labels_\n",
    "print(labels)"
   ]
  },
  {
   "cell_type": "markdown",
   "metadata": {
    "id": "ETrm5ojBvoMa"
   },
   "source": [
    "* Utilizando Hierarquico"
   ]
  },
  {
   "cell_type": "code",
   "execution_count": 31,
   "metadata": {
    "colab": {
     "base_uri": "https://localhost:8080/",
     "height": 295
    },
    "id": "zrKrtV-Q38Yy",
    "outputId": "b9da15d1-a09b-41bc-dda4-fd9385b300db"
   },
   "outputs": [
    {
     "data": {
      "image/png": "[encoded data removed]",
      "text/plain": [
       "<Figure size 432x288 with 1 Axes>"
      ]
     },
     "metadata": {
      "needs_background": "light"
     },
     "output_type": "display_data"
    }
   ],
   "source": [
    "import matplotlib.pyplot as plt\n",
    "from scipy.cluster.hierarchy import dendrogram, linkage\n",
    "from sklearn.cluster import AgglomerativeClustering\n",
    "\n",
    "\n",
    "\n",
    "dendrograma = dendrogram(linkage(np_dataset, method = 'ward'))\n",
    "plt.title('Dendrograma')\n",
    "plt.xlabel('Pessoas')\n",
    "plt.ylabel('Distância Euclidiana')\n",
    "\n",
    "hc = AgglomerativeClustering(n_clusters = 3, affinity = 'euclidean', linkage = 'ward')\n",
    "previsoes = hc.fit_predict(np_dataset)"
   ]
  },
  {
   "cell_type": "code",
   "execution_count": 32,
   "metadata": {
    "colab": {
     "base_uri": "https://localhost:8080/",
     "height": 0
    },
    "id": "V1ZNGV8E4mzD",
    "outputId": "ffcb6af6-5259-46b9-8563-fe9c301669a4"
   },
   "outputs": [
    {
     "data": {
      "text/plain": [
       "array([2, 2, 0, 2, 0, 0, 0, 1, 0, 2, 2, 1, 2, 2, 2, 0, 2, 0, 0, 0, 0, 0,\n",
       "       0, 2, 0, 0, 0, 0, 0, 0, 2, 2, 2, 2, 0, 0, 0, 2, 0, 2, 0, 2, 0, 0,\n",
       "       0, 0, 0, 0, 0, 0, 0, 2, 2, 2, 0, 0, 0, 2, 0, 0, 2, 0, 0, 0, 0, 0,\n",
       "       0, 2, 2, 0, 0, 2, 0, 0, 0, 0, 0, 0, 2, 0, 2, 2, 0, 0, 0, 0, 0, 0,\n",
       "       0, 0, 0, 2, 0, 0, 0, 0, 0, 0, 0, 0, 0, 0, 0, 0, 2, 2, 0, 1, 1, 0,\n",
       "       1, 1, 1, 1, 1, 1, 1, 1, 0, 1, 1, 1, 0, 1, 1, 1, 1, 1, 1, 1, 1, 1,\n",
       "       1, 1, 1, 1, 1, 1, 1, 1, 1, 1, 1, 1, 1], dtype=int64)"
      ]
     },
     "execution_count": 32,
     "metadata": {},
     "output_type": "execute_result"
    }
   ],
   "source": [
    "hc = AgglomerativeClustering(n_clusters = 3, affinity = 'euclidean', linkage = 'ward')\n",
    "previsoes = hc.fit_predict(np_dataset)\n",
    "previsoes"
   ]
  },
  {
   "cell_type": "markdown",
   "metadata": {
    "id": "AT8_3kQr43EE"
   },
   "source": [
    "* Teste o K igual à 5 e 7 - ***KMEANS***"
   ]
  },
  {
   "cell_type": "code",
   "execution_count": 33,
   "metadata": {
    "colab": {
     "base_uri": "https://localhost:8080/",
     "height": 0
    },
    "id": "IDMRCZsn4t_6",
    "outputId": "e3850398-3f2c-4bb6-a75c-a334d886d0d3"
   },
   "outputs": [
    {
     "name": "stdout",
     "output_type": "stream",
     "text": [
      "K-means para 5 clusters\n",
      "[2 2 2 1 1 2 2 1 1 1 2 0 2 2 2 2 2 2 2 1 1 1 1 2 2 1 1 2 1 2 1 2 2 1 1 2 1\n",
      " 1 2 1 2 2 2 1 1 1 1 1 1 2 1 2 2 2 2 1 2 2 1 1 2 2 2 1 2 1 1 2 2 1 1 2 1 2\n",
      " 2 2 2 1 0 2 1 2 1 2 1 2 2 2 1 2 1 1 2 1 1 1 1 2 2 2 2 1 1 1 0 2 2 0 0 1 2\n",
      " 0 0 0 0 0 0 0 1 0 0 0 0 0 0 0 0 0 0 0 0 0 0 0 0 0 0 0 0 0 0 0 0 0 0]\n",
      "\n",
      "\n",
      "K-means para 7 clusters\n",
      "[2 2 2 0 0 2 2 1 0 0 2 1 2 2 2 2 2 2 2 0 0 0 0 2 2 0 0 2 0 2 0 2 2 0 0 2 0\n",
      " 0 2 0 2 2 2 0 0 0 0 0 0 2 0 2 2 2 2 0 2 2 0 0 2 2 2 0 2 0 0 2 2 0 0 2 0 2\n",
      " 2 2 2 0 1 2 0 2 0 2 0 2 2 2 0 2 0 0 2 0 0 0 0 2 2 2 2 0 0 0 2 2 2 1 1 0 2\n",
      " 1 1 1 1 1 1 1 0 1 1 1 2 1 1 1 1 1 1 1 1 1 1 1 1 1 1 1 1 1 1 1 1 1 1]\n",
      "\n",
      "\n"
     ]
    }
   ],
   "source": [
    "# K = 5\n",
    "agrupador = KMeans(n_clusters=3)\n",
    "agrupador.fit(np_dataset)\n",
    "labels = agrupador.labels_\n",
    "print('K-means para 5 clusters')\n",
    "print(labels)\n",
    "print('\\n')\n",
    "\n",
    "# K = 7\n",
    "agrupador = KMeans(n_clusters=3)\n",
    "agrupador.fit(np_dataset)\n",
    "labels = agrupador.labels_\n",
    "print('K-means para 7 clusters')\n",
    "print(labels)\n",
    "print('\\n')"
   ]
  },
  {
   "cell_type": "markdown",
   "metadata": {
    "id": "iYeSnSaJ5qF9"
   },
   "source": [
    "* Na execução do Hierárquico, varie 2 métodos do linkage; OBS.: utilize os\n",
    "mesmos valores de clusters escolhidos na questão anterior."
   ]
  },
  {
   "cell_type": "code",
   "execution_count": 34,
   "metadata": {
    "colab": {
     "base_uri": "https://localhost:8080/",
     "height": 424
    },
    "id": "WuY4elca5KJJ",
    "outputId": "ab539220-b302-44c9-dff8-dcbdc5a219e9"
   },
   "outputs": [
    {
     "data": {
      "text/plain": [
       "array([4, 4, 0, 2, 0, 0, 0, 1, 3, 2, 2, 1, 2, 2, 4, 0, 2, 0, 0, 0, 0, 0,\n",
       "       0, 4, 0, 0, 3, 0, 0, 0, 4, 4, 2, 2, 0, 0, 0, 4, 0, 2, 0, 4, 0, 0,\n",
       "       0, 0, 0, 0, 3, 0, 0, 4, 2, 2, 0, 0, 0, 4, 0, 3, 2, 0, 0, 0, 0, 0,\n",
       "       0, 4, 4, 0, 3, 2, 3, 0, 0, 3, 3, 0, 4, 0, 2, 4, 0, 0, 0, 0, 0, 3,\n",
       "       3, 0, 3, 4, 0, 0, 0, 3, 3, 0, 3, 0, 0, 0, 0, 0, 2, 4, 3, 1, 1, 3,\n",
       "       1, 1, 1, 1, 1, 1, 1, 1, 3, 1, 1, 1, 3, 1, 1, 1, 1, 1, 1, 1, 1, 1,\n",
       "       1, 1, 1, 1, 1, 1, 1, 1, 1, 1, 1, 1, 1], dtype=int64)"
      ]
     },
     "execution_count": 34,
     "metadata": {},
     "output_type": "execute_result"
    },
    {
     "data": {
      "image/png": "[encoded data removed]",
      "text/plain": [
       "<Figure size 432x288 with 1 Axes>"
      ]
     },
     "metadata": {
      "needs_background": "light"
     },
     "output_type": "display_data"
    }
   ],
   "source": [
    "# método: ward n_cluster = 5\n",
    "dendrograma = dendrogram(linkage(np_dataset, method = 'ward'))\n",
    "plt.title('Dendrograma')\n",
    "plt.xlabel('Pessoas')\n",
    "plt.ylabel('Distância Euclidiana')\n",
    "\n",
    "hc = AgglomerativeClustering(n_clusters = 5, affinity = 'euclidean', linkage = 'ward')\n",
    "previsoes = hc.fit_predict(np_dataset)\n",
    "previsoes\n",
    "\n"
   ]
  },
  {
   "cell_type": "code",
   "execution_count": 35,
   "metadata": {
    "colab": {
     "base_uri": "https://localhost:8080/",
     "height": 424
    },
    "id": "CItUyK9K5_4r",
    "outputId": "3df21bfd-2ac9-4929-90bc-377ac58d0424"
   },
   "outputs": [
    {
     "data": {
      "text/plain": [
       "array([4, 4, 2, 5, 0, 2, 2, 1, 3, 5, 5, 1, 5, 5, 4, 2, 5, 2, 2, 0, 0, 0,\n",
       "       0, 4, 2, 0, 3, 0, 0, 2, 4, 4, 5, 5, 0, 0, 0, 4, 2, 5, 2, 4, 2, 0,\n",
       "       0, 0, 0, 0, 3, 2, 0, 4, 5, 5, 2, 0, 2, 4, 0, 3, 5, 2, 2, 0, 2, 0,\n",
       "       0, 4, 4, 0, 3, 5, 3, 2, 2, 3, 3, 0, 4, 2, 5, 4, 0, 2, 0, 2, 2, 3,\n",
       "       3, 2, 3, 4, 2, 2, 0, 3, 3, 2, 3, 2, 2, 2, 2, 2, 5, 4, 3, 1, 1, 3,\n",
       "       6, 6, 6, 6, 1, 1, 6, 1, 3, 1, 1, 1, 3, 6, 1, 1, 1, 6, 6, 1, 1, 6,\n",
       "       6, 6, 6, 6, 1, 6, 1, 1, 1, 6, 6, 1, 6], dtype=int64)"
      ]
     },
     "execution_count": 35,
     "metadata": {},
     "output_type": "execute_result"
    },
    {
     "data": {
      "image/png": "[encoded data removed]",
      "text/plain": [
       "<Figure size 432x288 with 1 Axes>"
      ]
     },
     "metadata": {
      "needs_background": "light"
     },
     "output_type": "display_data"
    }
   ],
   "source": [
    "# método: ward n_cluster = 7\n",
    "dendrograma = dendrogram(linkage(np_dataset, method = 'ward'))\n",
    "plt.title('Dendrograma')\n",
    "plt.xlabel('Pessoas')\n",
    "plt.ylabel('Distância Euclidiana')\n",
    "\n",
    "hc = AgglomerativeClustering(n_clusters = 7, affinity = 'euclidean', linkage = 'ward')\n",
    "previsoes = hc.fit_predict(np_dataset)\n",
    "previsoes"
   ]
  },
  {
   "cell_type": "code",
   "execution_count": 36,
   "metadata": {
    "colab": {
     "base_uri": "https://localhost:8080/",
     "height": 424
    },
    "id": "QZ4uqCNa6Qy5",
    "outputId": "1dd10774-2aa3-4040-e5d0-764e94fff4b1"
   },
   "outputs": [
    {
     "data": {
      "text/plain": [
       "array([4, 4, 0, 2, 0, 0, 0, 1, 3, 2, 2, 1, 2, 2, 4, 0, 2, 0, 0, 0, 0, 0,\n",
       "       0, 4, 0, 0, 3, 0, 0, 0, 4, 4, 2, 2, 0, 0, 0, 4, 0, 2, 0, 4, 0, 0,\n",
       "       0, 0, 0, 0, 3, 0, 0, 4, 2, 2, 0, 0, 0, 4, 0, 3, 2, 0, 0, 0, 0, 0,\n",
       "       0, 4, 4, 0, 3, 2, 3, 0, 0, 3, 3, 0, 4, 0, 2, 4, 0, 0, 0, 0, 0, 3,\n",
       "       3, 0, 3, 4, 0, 0, 0, 3, 3, 0, 3, 0, 0, 0, 0, 0, 2, 4, 3, 1, 1, 3,\n",
       "       1, 1, 1, 1, 1, 1, 1, 1, 3, 1, 1, 1, 3, 1, 1, 1, 1, 1, 1, 1, 1, 1,\n",
       "       1, 1, 1, 1, 1, 1, 1, 1, 1, 1, 1, 1, 1], dtype=int64)"
      ]
     },
     "execution_count": 36,
     "metadata": {},
     "output_type": "execute_result"
    },
    {
     "data": {
      "image/png": "[encoded data removed]",
      "text/plain": [
       "<Figure size 432x288 with 1 Axes>"
      ]
     },
     "metadata": {
      "needs_background": "light"
     },
     "output_type": "display_data"
    }
   ],
   "source": [
    "# método: average n_cluster = 5\n",
    "dendrograma = dendrogram(linkage(np_dataset, method = 'average'))\n",
    "plt.title('Dendrograma')\n",
    "plt.xlabel('Pessoas')\n",
    "plt.ylabel('Distância Euclidiana')\n",
    "\n",
    "hc = AgglomerativeClustering(n_clusters = 5, affinity = 'euclidean', linkage = 'ward')\n",
    "previsoes = hc.fit_predict(np_dataset)\n",
    "previsoes\n"
   ]
  },
  {
   "cell_type": "code",
   "execution_count": 37,
   "metadata": {
    "colab": {
     "base_uri": "https://localhost:8080/",
     "height": 424
    },
    "id": "fYn_D41T6wXq",
    "outputId": "90350623-96e9-4b63-a17a-ed6140814912"
   },
   "outputs": [
    {
     "data": {
      "text/plain": [
       "array([4, 4, 2, 5, 0, 2, 2, 1, 3, 5, 5, 1, 5, 5, 4, 2, 5, 2, 2, 0, 0, 0,\n",
       "       0, 4, 2, 0, 3, 0, 0, 2, 4, 4, 5, 5, 0, 0, 0, 4, 2, 5, 2, 4, 2, 0,\n",
       "       0, 0, 0, 0, 3, 2, 0, 4, 5, 5, 2, 0, 2, 4, 0, 3, 5, 2, 2, 0, 2, 0,\n",
       "       0, 4, 4, 0, 3, 5, 3, 2, 2, 3, 3, 0, 4, 2, 5, 4, 0, 2, 0, 2, 2, 3,\n",
       "       3, 2, 3, 4, 2, 2, 0, 3, 3, 2, 3, 2, 2, 2, 2, 2, 5, 4, 3, 1, 1, 3,\n",
       "       6, 6, 6, 6, 1, 1, 6, 1, 3, 1, 1, 1, 3, 6, 1, 1, 1, 6, 6, 1, 1, 6,\n",
       "       6, 6, 6, 6, 1, 6, 1, 1, 1, 6, 6, 1, 6], dtype=int64)"
      ]
     },
     "execution_count": 37,
     "metadata": {},
     "output_type": "execute_result"
    },
    {
     "data": {
      "image/png": "[encoded data removed]",
      "text/plain": [
       "<Figure size 432x288 with 1 Axes>"
      ]
     },
     "metadata": {
      "needs_background": "light"
     },
     "output_type": "display_data"
    }
   ],
   "source": [
    "# método: average n_cluster = 7\n",
    "dendrograma = dendrogram(linkage(np_dataset, method = 'average'))\n",
    "plt.title('Dendrograma')\n",
    "plt.xlabel('Pessoas')\n",
    "plt.ylabel('Distância Euclidiana')\n",
    "\n",
    "hc = AgglomerativeClustering(n_clusters = 7, affinity = 'euclidean', linkage = 'ward')\n",
    "previsoes = hc.fit_predict(np_dataset)\n",
    "previsoes"
   ]
  },
  {
   "cell_type": "markdown",
   "metadata": {
    "id": "RzUhOHH7Vggx"
   },
   "source": [
    "# Análise\n",
    "\n",
    "O armazenamento em cluster hierárquico não pode manipular dados grandes, mas o armazenamento em cluster K Means pode, devido a isso, por estarmos manipulando uma base relativamente pequena, não houve problemas para usar o hierárquico. No entanto, ao considerar aumentar a quantidade de amostras, deve se considerar usar apenas o K-Means. \n",
    "O método escolhido é o K-Means, visto a sua ampla utilização por parte dos usuários, o método aplica ótimos resultados quando o numero de clusters já é definido.\n",
    "\n"
   ]
  },
  {
   "cell_type": "code",
   "execution_count": null,
   "metadata": {
    "id": "KFV4VFHL7Fia"
   },
   "outputs": [],
   "source": []
  },
  {
   "cell_type": "markdown",
   "metadata": {
    "id": "UucqAO46Wg7-"
   },
   "source": [
    "FASE BÔNUS: Diga vantagens e desvantagens do uso do AUTOML e como você faria para usá-lo, garantindo os melhores resultados possíveis.\n",
    "\n",
    "Vantagens de utilizar AutoML:\n",
    "•\tSão requeridos apenas conhecimento superficial de machine learning (aprendizado de máquina), que já é suficiente para se utilizar as ferramentas, automatizando passos e diminuindo o tempo para se ter resultados iniciais. \n",
    "•\tÉ possível aplicar em diferentes tipos de dados e problemas, podendo ser usado como baseline para pesquisas, com a possibilidade de incluir técnicas famosas.\n",
    "•\tAlgumas ferramentas possibilitam customizar modelos/layers.\n",
    "Já as desvantagens são:\n",
    "•\tPode oferecer uma customização que pode ser limitada ou dificultada, ou pode não obter resultado bom o bastante para o problema, precisando da intervenção de especialistas. \n",
    "•\tNão evitará a necessidade de esforço para se obter e preparar dados adequados para aprendizado de máquina, ou seja, será necessário que os dados tenham passado por um processo de tratamento (engenharia de dados).\n",
    "Na minha opinião, o uso do AUTOML contribui muito para a disseminação e aplicabilidade de técnicas de machine learning. A melhor forma para utilizar é aplicando em problemas que requerem o uso de estatística sofisticada, contribuindo para obter resultados cada vez mais precisos. \n"
   ]
  },
  {
   "cell_type": "code",
   "execution_count": null,
   "metadata": {
    "id": "ydt6T8WUWh9Q"
   },
   "outputs": [],
   "source": []
  }
 ],
 "metadata": {
  "colab": {
   "collapsed_sections": [],
   "name": "Atividade_2_IA.ipynb",
   "provenance": []
  },
  "kernelspec": {
   "display_name": "Python 3 (ipykernel)",
   "language": "python",
   "name": "python3"
  },
  "language_info": {
   "codemirror_mode": {
    "name": "ipython",
    "version": 3
   },
   "file_extension": ".py",
   "mimetype": "text/x-python",
   "name": "python",
   "nbconvert_exporter": "python",
   "pygments_lexer": "ipython3",
   "version": "3.9.7"
  }
 },
 "nbformat": 4,
 "nbformat_minor": 1
}
