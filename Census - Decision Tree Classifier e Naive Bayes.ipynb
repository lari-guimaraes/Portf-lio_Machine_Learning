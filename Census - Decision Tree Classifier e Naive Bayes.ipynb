{
 "cells": [
  {
   "cell_type": "markdown",
   "metadata": {
    "id": "Rgh32FSL_xzd"
   },
   "source": [
    "* O objetivo deste estudo é a utilização dos algoritmos Decision Tree e Naive Bayes do scikit-learn para prever/inferir a renda baseada nos demais atributos."
   ]
  },
  {
   "cell_type": "code",
   "execution_count": 1,
   "metadata": {
    "id": "q_dXHx6w6VGP"
   },
   "outputs": [],
   "source": [
    "# importando bibliotecas\n",
    "import pandas as pd\n",
    "import numpy as np\n",
    "import sklearn.preprocessing"
   ]
  },
  {
   "cell_type": "code",
   "execution_count": 2,
   "metadata": {
    "colab": {
     "base_uri": "https://localhost:8080/",
     "height": 250
    },
    "id": "BaAzUzkB6i0U",
    "outputId": "393e4795-35f2-4f12-d925-5a7911f28d72"
   },
   "outputs": [
    {
     "data": {
      "text/html": [
       "<div>\n",
       "<style scoped>\n",
       "    .dataframe tbody tr th:only-of-type {\n",
       "        vertical-align: middle;\n",
       "    }\n",
       "\n",
       "    .dataframe tbody tr th {\n",
       "        vertical-align: top;\n",
       "    }\n",
       "\n",
       "    .dataframe thead th {\n",
       "        text-align: right;\n",
       "    }\n",
       "</style>\n",
       "<table border=\"1\" class=\"dataframe\">\n",
       "  <thead>\n",
       "    <tr style=\"text-align: right;\">\n",
       "      <th></th>\n",
       "      <th>age</th>\n",
       "      <th>workclass</th>\n",
       "      <th>final-weight</th>\n",
       "      <th>education</th>\n",
       "      <th>education-num</th>\n",
       "      <th>marital-status</th>\n",
       "      <th>occupation</th>\n",
       "      <th>relationship</th>\n",
       "      <th>race</th>\n",
       "      <th>sex</th>\n",
       "      <th>capital-gain</th>\n",
       "      <th>capital-loos</th>\n",
       "      <th>hour-per-week</th>\n",
       "      <th>native-country</th>\n",
       "      <th>income</th>\n",
       "    </tr>\n",
       "  </thead>\n",
       "  <tbody>\n",
       "    <tr>\n",
       "      <th>0</th>\n",
       "      <td>39</td>\n",
       "      <td>State-gov</td>\n",
       "      <td>77516</td>\n",
       "      <td>Bachelors</td>\n",
       "      <td>13</td>\n",
       "      <td>Never-married</td>\n",
       "      <td>Adm-clerical</td>\n",
       "      <td>Not-in-family</td>\n",
       "      <td>White</td>\n",
       "      <td>Male</td>\n",
       "      <td>2174</td>\n",
       "      <td>0</td>\n",
       "      <td>40</td>\n",
       "      <td>United-States</td>\n",
       "      <td>&lt;=50K</td>\n",
       "    </tr>\n",
       "    <tr>\n",
       "      <th>1</th>\n",
       "      <td>50</td>\n",
       "      <td>Self-emp-not-inc</td>\n",
       "      <td>83311</td>\n",
       "      <td>Bachelors</td>\n",
       "      <td>13</td>\n",
       "      <td>Married-civ-spouse</td>\n",
       "      <td>Exec-managerial</td>\n",
       "      <td>Husband</td>\n",
       "      <td>White</td>\n",
       "      <td>Male</td>\n",
       "      <td>0</td>\n",
       "      <td>0</td>\n",
       "      <td>13</td>\n",
       "      <td>United-States</td>\n",
       "      <td>&lt;=50K</td>\n",
       "    </tr>\n",
       "    <tr>\n",
       "      <th>2</th>\n",
       "      <td>38</td>\n",
       "      <td>Private</td>\n",
       "      <td>215646</td>\n",
       "      <td>HS-grad</td>\n",
       "      <td>9</td>\n",
       "      <td>Divorced</td>\n",
       "      <td>Handlers-cleaners</td>\n",
       "      <td>Not-in-family</td>\n",
       "      <td>White</td>\n",
       "      <td>Male</td>\n",
       "      <td>0</td>\n",
       "      <td>0</td>\n",
       "      <td>40</td>\n",
       "      <td>United-States</td>\n",
       "      <td>&lt;=50K</td>\n",
       "    </tr>\n",
       "    <tr>\n",
       "      <th>3</th>\n",
       "      <td>53</td>\n",
       "      <td>Private</td>\n",
       "      <td>234721</td>\n",
       "      <td>11th</td>\n",
       "      <td>7</td>\n",
       "      <td>Married-civ-spouse</td>\n",
       "      <td>Handlers-cleaners</td>\n",
       "      <td>Husband</td>\n",
       "      <td>Black</td>\n",
       "      <td>Male</td>\n",
       "      <td>0</td>\n",
       "      <td>0</td>\n",
       "      <td>40</td>\n",
       "      <td>United-States</td>\n",
       "      <td>&lt;=50K</td>\n",
       "    </tr>\n",
       "    <tr>\n",
       "      <th>4</th>\n",
       "      <td>28</td>\n",
       "      <td>Private</td>\n",
       "      <td>338409</td>\n",
       "      <td>Bachelors</td>\n",
       "      <td>13</td>\n",
       "      <td>Married-civ-spouse</td>\n",
       "      <td>Prof-specialty</td>\n",
       "      <td>Wife</td>\n",
       "      <td>Black</td>\n",
       "      <td>Female</td>\n",
       "      <td>0</td>\n",
       "      <td>0</td>\n",
       "      <td>40</td>\n",
       "      <td>Cuba</td>\n",
       "      <td>&lt;=50K</td>\n",
       "    </tr>\n",
       "  </tbody>\n",
       "</table>\n",
       "</div>"
      ],
      "text/plain": [
       "   age          workclass  final-weight   education  education-num  \\\n",
       "0   39          State-gov         77516   Bachelors             13   \n",
       "1   50   Self-emp-not-inc         83311   Bachelors             13   \n",
       "2   38            Private        215646     HS-grad              9   \n",
       "3   53            Private        234721        11th              7   \n",
       "4   28            Private        338409   Bachelors             13   \n",
       "\n",
       "        marital-status          occupation    relationship    race      sex  \\\n",
       "0        Never-married        Adm-clerical   Not-in-family   White     Male   \n",
       "1   Married-civ-spouse     Exec-managerial         Husband   White     Male   \n",
       "2             Divorced   Handlers-cleaners   Not-in-family   White     Male   \n",
       "3   Married-civ-spouse   Handlers-cleaners         Husband   Black     Male   \n",
       "4   Married-civ-spouse      Prof-specialty            Wife   Black   Female   \n",
       "\n",
       "   capital-gain  capital-loos  hour-per-week  native-country  income  \n",
       "0          2174             0             40   United-States   <=50K  \n",
       "1             0             0             13   United-States   <=50K  \n",
       "2             0             0             40   United-States   <=50K  \n",
       "3             0             0             40   United-States   <=50K  \n",
       "4             0             0             40            Cuba   <=50K  "
      ]
     },
     "execution_count": 2,
     "metadata": {},
     "output_type": "execute_result"
    }
   ],
   "source": [
    "# importação e leitura do dataset\n",
    "dados = pd.read_csv('census.csv')\n",
    "dados.head()"
   ]
  },
  {
   "cell_type": "code",
   "execution_count": 3,
   "metadata": {
    "colab": {
     "base_uri": "https://localhost:8080/"
    },
    "id": "CV9vzafD7xSk",
    "outputId": "15abf5fe-58a9-45be-f136-b9e1c7cb79e0"
   },
   "outputs": [
    {
     "data": {
      "text/plain": [
       "(32561, 15)"
      ]
     },
     "execution_count": 3,
     "metadata": {},
     "output_type": "execute_result"
    }
   ],
   "source": [
    "# verificação do tamanho da base estudada\n",
    "dados.shape"
   ]
  },
  {
   "cell_type": "code",
   "execution_count": 4,
   "metadata": {
    "colab": {
     "base_uri": "https://localhost:8080/"
    },
    "id": "zM-ZQRnZBTjx",
    "outputId": "8b9c39dc-4ea1-42a6-e1c4-49295fabb66f"
   },
   "outputs": [
    {
     "data": {
      "text/plain": [
       " <=50K    24720\n",
       " >50K      7841\n",
       "Name: income, dtype: int64"
      ]
     },
     "execution_count": 4,
     "metadata": {},
     "output_type": "execute_result"
    }
   ],
   "source": [
    "dados.income.value_counts()"
   ]
  },
  {
   "cell_type": "code",
   "execution_count": 5,
   "metadata": {
    "colab": {
     "base_uri": "https://localhost:8080/",
     "height": 300
    },
    "id": "s8qfYc349Tlw",
    "outputId": "2ba72375-72b3-4126-833e-6107921ab485"
   },
   "outputs": [
    {
     "data": {
      "text/html": [
       "<div>\n",
       "<style scoped>\n",
       "    .dataframe tbody tr th:only-of-type {\n",
       "        vertical-align: middle;\n",
       "    }\n",
       "\n",
       "    .dataframe tbody tr th {\n",
       "        vertical-align: top;\n",
       "    }\n",
       "\n",
       "    .dataframe thead th {\n",
       "        text-align: right;\n",
       "    }\n",
       "</style>\n",
       "<table border=\"1\" class=\"dataframe\">\n",
       "  <thead>\n",
       "    <tr style=\"text-align: right;\">\n",
       "      <th></th>\n",
       "      <th>age</th>\n",
       "      <th>final-weight</th>\n",
       "      <th>education-num</th>\n",
       "      <th>capital-gain</th>\n",
       "      <th>capital-loos</th>\n",
       "      <th>hour-per-week</th>\n",
       "    </tr>\n",
       "  </thead>\n",
       "  <tbody>\n",
       "    <tr>\n",
       "      <th>count</th>\n",
       "      <td>32561.000000</td>\n",
       "      <td>3.256100e+04</td>\n",
       "      <td>32561.000000</td>\n",
       "      <td>32561.000000</td>\n",
       "      <td>32561.000000</td>\n",
       "      <td>32561.000000</td>\n",
       "    </tr>\n",
       "    <tr>\n",
       "      <th>mean</th>\n",
       "      <td>38.581647</td>\n",
       "      <td>1.897784e+05</td>\n",
       "      <td>10.080679</td>\n",
       "      <td>1077.648844</td>\n",
       "      <td>87.303830</td>\n",
       "      <td>40.437456</td>\n",
       "    </tr>\n",
       "    <tr>\n",
       "      <th>std</th>\n",
       "      <td>13.640433</td>\n",
       "      <td>1.055500e+05</td>\n",
       "      <td>2.572720</td>\n",
       "      <td>7385.292085</td>\n",
       "      <td>402.960219</td>\n",
       "      <td>12.347429</td>\n",
       "    </tr>\n",
       "    <tr>\n",
       "      <th>min</th>\n",
       "      <td>17.000000</td>\n",
       "      <td>1.228500e+04</td>\n",
       "      <td>1.000000</td>\n",
       "      <td>0.000000</td>\n",
       "      <td>0.000000</td>\n",
       "      <td>1.000000</td>\n",
       "    </tr>\n",
       "    <tr>\n",
       "      <th>25%</th>\n",
       "      <td>28.000000</td>\n",
       "      <td>1.178270e+05</td>\n",
       "      <td>9.000000</td>\n",
       "      <td>0.000000</td>\n",
       "      <td>0.000000</td>\n",
       "      <td>40.000000</td>\n",
       "    </tr>\n",
       "    <tr>\n",
       "      <th>50%</th>\n",
       "      <td>37.000000</td>\n",
       "      <td>1.783560e+05</td>\n",
       "      <td>10.000000</td>\n",
       "      <td>0.000000</td>\n",
       "      <td>0.000000</td>\n",
       "      <td>40.000000</td>\n",
       "    </tr>\n",
       "    <tr>\n",
       "      <th>75%</th>\n",
       "      <td>48.000000</td>\n",
       "      <td>2.370510e+05</td>\n",
       "      <td>12.000000</td>\n",
       "      <td>0.000000</td>\n",
       "      <td>0.000000</td>\n",
       "      <td>45.000000</td>\n",
       "    </tr>\n",
       "    <tr>\n",
       "      <th>max</th>\n",
       "      <td>90.000000</td>\n",
       "      <td>1.484705e+06</td>\n",
       "      <td>16.000000</td>\n",
       "      <td>99999.000000</td>\n",
       "      <td>4356.000000</td>\n",
       "      <td>99.000000</td>\n",
       "    </tr>\n",
       "  </tbody>\n",
       "</table>\n",
       "</div>"
      ],
      "text/plain": [
       "                age  final-weight  education-num  capital-gain  capital-loos  \\\n",
       "count  32561.000000  3.256100e+04   32561.000000  32561.000000  32561.000000   \n",
       "mean      38.581647  1.897784e+05      10.080679   1077.648844     87.303830   \n",
       "std       13.640433  1.055500e+05       2.572720   7385.292085    402.960219   \n",
       "min       17.000000  1.228500e+04       1.000000      0.000000      0.000000   \n",
       "25%       28.000000  1.178270e+05       9.000000      0.000000      0.000000   \n",
       "50%       37.000000  1.783560e+05      10.000000      0.000000      0.000000   \n",
       "75%       48.000000  2.370510e+05      12.000000      0.000000      0.000000   \n",
       "max       90.000000  1.484705e+06      16.000000  99999.000000   4356.000000   \n",
       "\n",
       "       hour-per-week  \n",
       "count   32561.000000  \n",
       "mean       40.437456  \n",
       "std        12.347429  \n",
       "min         1.000000  \n",
       "25%        40.000000  \n",
       "50%        40.000000  \n",
       "75%        45.000000  \n",
       "max        99.000000  "
      ]
     },
     "execution_count": 5,
     "metadata": {},
     "output_type": "execute_result"
    }
   ],
   "source": [
    "# analise geral (dados númericos)\n",
    "dados.describe()"
   ]
  },
  {
   "cell_type": "markdown",
   "metadata": {
    "id": "BYKbiCRhCwAF"
   },
   "source": [
    "## Pré-Processamento dos Dados"
   ]
  },
  {
   "cell_type": "code",
   "execution_count": 6,
   "metadata": {
    "colab": {
     "base_uri": "https://localhost:8080/"
    },
    "id": "Y8wo9BU9AXzw",
    "outputId": "d61e6430-eb08-4863-e256-b6c1d1f9ff2b"
   },
   "outputs": [
    {
     "data": {
      "text/plain": [
       "array([[39, ' State-gov', 77516, ..., 0, 40, ' United-States'],\n",
       "       [50, ' Self-emp-not-inc', 83311, ..., 0, 13, ' United-States'],\n",
       "       [38, ' Private', 215646, ..., 0, 40, ' United-States'],\n",
       "       ...,\n",
       "       [58, ' Private', 151910, ..., 0, 40, ' United-States'],\n",
       "       [22, ' Private', 201490, ..., 0, 20, ' United-States'],\n",
       "       [52, ' Self-emp-inc', 287927, ..., 0, 40, ' United-States']],\n",
       "      dtype=object)"
      ]
     },
     "execution_count": 6,
     "metadata": {},
     "output_type": "execute_result"
    }
   ],
   "source": [
    "# atributos independentes\n",
    "\n",
    "# aqui iremos selecionar todas as linhas/ e todas as colunas exceto a ultima (income), pois esta será a nossa coluna de previsão\n",
    "atributos_previsores = dados.iloc[:,0:14].values\n",
    "atributos_previsores"
   ]
  },
  {
   "cell_type": "code",
   "execution_count": 7,
   "metadata": {
    "id": "yL34ae5IDSvX"
   },
   "outputs": [],
   "source": [
    "# atributo dependente\n",
    "#aqui iremos selecionar a variável alvo (income), conforme determinado no objetivo do projeto, e todas as linhas do dataset\n",
    "\n",
    "classe_aprever= dados.iloc[:,14]"
   ]
  },
  {
   "cell_type": "markdown",
   "metadata": {
    "id": "niQ0awNxDwAJ"
   },
   "source": [
    "- Muito dos nossos atributos são do tipo string, ou seja, são variáveis categóricas. Dessa forma iremos aplicar uma codificação de atributos categóricos para transforma-los em códigos (dados númericos). Caso essa transformação não ocorra não é possivel aplicar os algoritmos de previsão.\n",
    "Para essa transformação iremos utilizar o LabelEncoder do sklearn. \n",
    "\n",
    "Os atributos que precisarão ser preprocessados são: workclass[coluna 1], education [coluna 3], marital-status [coluna 5], occupation [coluna 6], relationship [coluna 7], race [coluna 8], sex [coluna 9] e native-country [coluna 13]."
   ]
  },
  {
   "cell_type": "code",
   "execution_count": 8,
   "metadata": {
    "colab": {
     "base_uri": "https://localhost:8080/"
    },
    "id": "7YHhv-i6DpmA",
    "outputId": "f6c5c97e-3c91-4dcd-ab96-a281c080ac4c"
   },
   "outputs": [
    {
     "data": {
      "text/plain": [
       "array([[39, 7, 77516, ..., 0, 40, 39],\n",
       "       [50, 6, 83311, ..., 0, 13, 39],\n",
       "       [38, 4, 215646, ..., 0, 40, 39],\n",
       "       ...,\n",
       "       [58, 4, 151910, ..., 0, 40, 39],\n",
       "       [22, 4, 201490, ..., 0, 20, 39],\n",
       "       [52, 5, 287927, ..., 0, 40, 39]], dtype=object)"
      ]
     },
     "execution_count": 8,
     "metadata": {},
     "output_type": "execute_result"
    }
   ],
   "source": [
    "from sklearn.preprocessing import LabelEncoder\n",
    "\n",
    "label_encoder_previsores = LabelEncoder()\n",
    "atributos_previsores[:,1] = label_encoder_previsores.fit_transform(atributos_previsores[:,1])\n",
    "atributos_previsores[:,3] = label_encoder_previsores.fit_transform(atributos_previsores[:,3])\n",
    "atributos_previsores[:,5] = label_encoder_previsores.fit_transform(atributos_previsores[:,5])\n",
    "atributos_previsores[:,6] = label_encoder_previsores.fit_transform(atributos_previsores[:,6])\n",
    "atributos_previsores[:,7] = label_encoder_previsores.fit_transform(atributos_previsores[:,7])\n",
    "atributos_previsores[:,8] = label_encoder_previsores.fit_transform(atributos_previsores[:,8])\n",
    "atributos_previsores[:,9] = label_encoder_previsores.fit_transform(atributos_previsores[:,9])\n",
    "atributos_previsores[:,13] = label_encoder_previsores.fit_transform(atributos_previsores[:,13])\n",
    "atributos_previsores"
   ]
  },
  {
   "cell_type": "markdown",
   "metadata": {
    "id": "j6_i3PWTFWPi"
   },
   "source": [
    "* Depois de transformar as variáveis categóricas em númericos, é necessário aplicar binarização dos valores inteiros. Esse processo é extremamente importante, pois não permite que o algoritmo considere um valor maior mais importante que um valor menor. Dessa forma, colocamos todos em uma escala de 0 a 1. \n",
    "\n",
    "Um método muito utilizado e eficiente é o OneHotEnconder, e é este que iremos utilizar nesta etapa do pré-processamento."
   ]
  },
  {
   "cell_type": "code",
   "execution_count": 9,
   "metadata": {
    "colab": {
     "base_uri": "https://localhost:8080/"
    },
    "id": "9mUFLviEFOxH",
    "outputId": "895a4e86-132b-493c-8a75-14c363a9dcd7"
   },
   "outputs": [
    {
     "data": {
      "text/plain": [
       "array([[0., 0., 0., ..., 1., 0., 0.],\n",
       "       [0., 0., 0., ..., 1., 0., 0.],\n",
       "       [0., 0., 0., ..., 1., 0., 0.],\n",
       "       ...,\n",
       "       [0., 0., 0., ..., 1., 0., 0.],\n",
       "       [0., 0., 0., ..., 1., 0., 0.],\n",
       "       [0., 0., 0., ..., 1., 0., 0.]])"
      ]
     },
     "execution_count": 9,
     "metadata": {},
     "output_type": "execute_result"
    }
   ],
   "source": [
    "from sklearn.preprocessing import OneHotEncoder\n",
    "\n",
    "OHE = OneHotEncoder(categories='auto')\n",
    "atributos_previsores = OHE.fit_transform(atributos_previsores).toarray()\n",
    "atributos_previsores"
   ]
  },
  {
   "cell_type": "markdown",
   "metadata": {
    "id": "asHwwthhIaDy"
   },
   "source": [
    "* Para aplicar um algoritmo de Machine Learning, seja ele qual for, é sempre necessário dividir os dados em dois conjuntos: treino e teste. O treino deve ser o maior conjunto, e será utilizado literalmente para treinar o nosso modelo. E o conjunto de teste será os dados que o modelo utilizará para testar as suas saidas. \n",
    "Para esse projeto iremos utilizar 25% da base para teste e os demais para treino. Como ferramenta de divisão iremos utilizar o train_test_split do sklearn. "
   ]
  },
  {
   "cell_type": "code",
   "execution_count": 10,
   "metadata": {
    "id": "Bv2AJMlkGJ0e"
   },
   "outputs": [],
   "source": [
    "from sklearn.model_selection import train_test_split\n",
    "previsores_treinamento, previsores_teste, classe_treinamento, classe_teste = train_test_split(atributos_previsores, classe_aprever , test_size = 0.25, random_state = 0)"
   ]
  },
  {
   "cell_type": "markdown",
   "metadata": {
    "id": "YELG47ZeJJtQ"
   },
   "source": [
    "## Criando os modelos de previsão\n",
    "\n",
    "```\n",
    "```\n",
    "\n"
   ]
  },
  {
   "cell_type": "markdown",
   "metadata": {
    "id": "on6mGqIkJoLv"
   },
   "source": [
    "## Primeiro Modelo - Decision Tree Classifier\n",
    "\n",
    "* Parametros\n",
    "  - Iremos utilizar a função entropia para medir a qualidade da seleção dos nós\n"
   ]
  },
  {
   "cell_type": "code",
   "execution_count": 11,
   "metadata": {
    "id": "6-i9QYTuJkCk"
   },
   "outputs": [
    {
     "data": {
      "text/plain": [
       "DecisionTreeClassifier(criterion='entropy', random_state=0)"
      ]
     },
     "execution_count": 11,
     "metadata": {},
     "output_type": "execute_result"
    }
   ],
   "source": [
    "from sklearn.tree import DecisionTreeClassifier\n",
    "\n",
    "classificadorDTC = DecisionTreeClassifier(criterion='entropy', random_state=0)\n",
    "classificadorDTC.fit(previsores_treinamento, classe_treinamento)"
   ]
  },
  {
   "cell_type": "code",
   "execution_count": 12,
   "metadata": {
    "id": "0SbhhgO5KUm1"
   },
   "outputs": [],
   "source": [
    "# Aplicação de teste do modelo\n",
    "classe_prevista_teste_DTC = classificadorDTC.predict(previsores_teste)"
   ]
  },
  {
   "cell_type": "markdown",
   "metadata": {},
   "source": [
    "## Segundo Modelo - Naive Bayes\n",
    "\n",
    "\n"
   ]
  },
  {
   "cell_type": "code",
   "execution_count": 13,
   "metadata": {},
   "outputs": [
    {
     "data": {
      "text/plain": [
       "GaussianNB()"
      ]
     },
     "execution_count": 13,
     "metadata": {},
     "output_type": "execute_result"
    }
   ],
   "source": [
    "from sklearn.naive_bayes import GaussianNB\n",
    "\n",
    "classificadorNB = GaussianNB()\n",
    "classificadorNB.fit(previsores_treinamento, classe_treinamento)"
   ]
  },
  {
   "cell_type": "code",
   "execution_count": 14,
   "metadata": {},
   "outputs": [],
   "source": [
    "# Aplicação de teste do modelo\n",
    "classe_prevista_teste_NB = classificadorNB.predict(previsores_teste)"
   ]
  },
  {
   "cell_type": "markdown",
   "metadata": {},
   "source": [
    "## Performance dos modelos\n",
    "\n",
    "- Após aplicar os modelos no nosso dataset é muito impportante aplicar técnicas de verificação, pois isso permite que possamos compreender se o resultado que estamos obtendo é satisfatório, ou se cabe alguma melhoria."
   ]
  },
  {
   "cell_type": "markdown",
   "metadata": {},
   "source": [
    "## Performance - Decision Tree Classifier"
   ]
  },
  {
   "cell_type": "markdown",
   "metadata": {},
   "source": [
    "* Iremos calular a acurácia do modelo como técnica de análise através do accuracy_score do sklearn"
   ]
  },
  {
   "cell_type": "code",
   "execution_count": 15,
   "metadata": {},
   "outputs": [
    {
     "name": "stdout",
     "output_type": "stream",
     "text": [
      "Acurácia do Modelo: 84.61% \n"
     ]
    }
   ],
   "source": [
    "from sklearn.metrics import accuracy_score\n",
    "\n",
    "precisao_modelo_DTC = accuracy_score(classe_teste, classe_prevista_teste_DTC)\n",
    "print('Acurácia do Modelo: %.2f%% ' % (precisao_modelo_DTC*100))"
   ]
  },
  {
   "cell_type": "markdown",
   "metadata": {},
   "source": [
    "* Análise: 84.61% de acurácia é um ótimo resultado."
   ]
  },
  {
   "cell_type": "markdown",
   "metadata": {},
   "source": [
    "## Performance - Naive Bayes"
   ]
  },
  {
   "cell_type": "markdown",
   "metadata": {},
   "source": [
    "* Iremos calular a acurácia do modelo como técnica de análise através do accuracy_score do sklearn"
   ]
  },
  {
   "cell_type": "code",
   "execution_count": 16,
   "metadata": {},
   "outputs": [
    {
     "name": "stdout",
     "output_type": "stream",
     "text": [
      "Acurácia do Modelo: 50.41% \n"
     ]
    }
   ],
   "source": [
    "precisao_modelo_NB = accuracy_score(classe_teste, classe_prevista_teste_NB)\n",
    "print('Acurácia do Modelo: %.2f%% ' % (precisao_modelo_NB *100))"
   ]
  },
  {
   "cell_type": "markdown",
   "metadata": {},
   "source": [
    "* Análise: 50.41% de acurácia é um MAL/PÉSSIMO resultado. E possivelmente, isso se deve a forma como utilizamos como pré-processamos os dados. Pesquisando sobre o algoritmo Naive Bayes (na documentação do metodo e biblioteca sklearn), concluimos que o pré-processamento não contribui com a eficiência do algoritmo, o que podemos provar através dessa acurácia.\n",
    "    Dessa forma vamos aplicar outro método de pré-processamento conforme pesquisa, o LabelEnconder nos atributos categóricos, mas iremos aplicar o método StandardScaler nas colunas que já eram númericas. O objetivo é colocar todos os valores na mesma escala."
   ]
  },
  {
   "cell_type": "markdown",
   "metadata": {},
   "source": [
    "# A partir daqui iremos realizar toda a etapa de pré-processamento novamente"
   ]
  },
  {
   "cell_type": "code",
   "execution_count": 17,
   "metadata": {},
   "outputs": [
    {
     "data": {
      "text/plain": [
       "array([[39, ' State-gov', 77516, ..., 0, 40, ' United-States'],\n",
       "       [50, ' Self-emp-not-inc', 83311, ..., 0, 13, ' United-States'],\n",
       "       [38, ' Private', 215646, ..., 0, 40, ' United-States'],\n",
       "       ...,\n",
       "       [58, ' Private', 151910, ..., 0, 40, ' United-States'],\n",
       "       [22, ' Private', 201490, ..., 0, 20, ' United-States'],\n",
       "       [52, ' Self-emp-inc', 287927, ..., 0, 40, ' United-States']],\n",
       "      dtype=object)"
      ]
     },
     "execution_count": 17,
     "metadata": {},
     "output_type": "execute_result"
    }
   ],
   "source": [
    "# atributos independentes\n",
    "\n",
    "# aqui iremos selecionar todas as linhas/ e todas as colunas exceto a ultima (income), pois esta será a nossa coluna de previsão\n",
    "atributos_previsores = dados.iloc[:,0:14].values\n",
    "atributos_previsores"
   ]
  },
  {
   "cell_type": "code",
   "execution_count": 18,
   "metadata": {},
   "outputs": [],
   "source": [
    "# atributo dependente\n",
    "#aqui iremos selecionar a variável alvo (income), conforme determinado no objetivo do projeto, e todas as linhas do dataset\n",
    "\n",
    "classe_aprever= dados.iloc[:,14]"
   ]
  },
  {
   "cell_type": "code",
   "execution_count": 19,
   "metadata": {},
   "outputs": [
    {
     "data": {
      "text/plain": [
       "array([[39, 7, 77516, ..., 0, 40, 39],\n",
       "       [50, 6, 83311, ..., 0, 13, 39],\n",
       "       [38, 4, 215646, ..., 0, 40, 39],\n",
       "       ...,\n",
       "       [58, 4, 151910, ..., 0, 40, 39],\n",
       "       [22, 4, 201490, ..., 0, 20, 39],\n",
       "       [52, 5, 287927, ..., 0, 40, 39]], dtype=object)"
      ]
     },
     "execution_count": 19,
     "metadata": {},
     "output_type": "execute_result"
    }
   ],
   "source": [
    "label_encoder_previsores = LabelEncoder()\n",
    "atributos_previsores[:,1] = label_encoder_previsores.fit_transform(atributos_previsores[:,1])\n",
    "atributos_previsores[:,3] = label_encoder_previsores.fit_transform(atributos_previsores[:,3])\n",
    "atributos_previsores[:,5] = label_encoder_previsores.fit_transform(atributos_previsores[:,5])\n",
    "atributos_previsores[:,6] = label_encoder_previsores.fit_transform(atributos_previsores[:,6])\n",
    "atributos_previsores[:,7] = label_encoder_previsores.fit_transform(atributos_previsores[:,7])\n",
    "atributos_previsores[:,8] = label_encoder_previsores.fit_transform(atributos_previsores[:,8])\n",
    "atributos_previsores[:,9] = label_encoder_previsores.fit_transform(atributos_previsores[:,9])\n",
    "atributos_previsores[:,13] = label_encoder_previsores.fit_transform(atributos_previsores[:,13])\n",
    "atributos_previsores"
   ]
  },
  {
   "cell_type": "code",
   "execution_count": 20,
   "metadata": {},
   "outputs": [],
   "source": [
    "from sklearn.preprocessing import StandardScaler\n",
    "scaler = StandardScaler()\n",
    "\n",
    "atributos_previsores[:,0] =  scaler.fit_transform(atributos_previsores[:,0].reshape(-1,1)).ravel()\n",
    "atributos_previsores[:,2] =  scaler.fit_transform(atributos_previsores[:,2].reshape(-1,1)).ravel()\n",
    "atributos_previsores[:,4] =  scaler.fit_transform(atributos_previsores[:,4].reshape(-1,1)).ravel()\n",
    "atributos_previsores[:,10] =  scaler.fit_transform(atributos_previsores[:,10].reshape(-1,1)).ravel()\n",
    "atributos_previsores[:,11] =  scaler.fit_transform(atributos_previsores[:,11].reshape(-1,1)).ravel()\n",
    "atributos_previsores[:,12] =  scaler.fit_transform(atributos_previsores[:,12].reshape(-1,1)).ravel()"
   ]
  },
  {
   "cell_type": "code",
   "execution_count": 21,
   "metadata": {},
   "outputs": [],
   "source": [
    "# aplicar novamente o train_test_split\n",
    "previsores_treinamento, previsores_teste, classe_treinamento, classe_teste = train_test_split(atributos_previsores, classe_aprever , test_size = 0.25, random_state = 0)"
   ]
  },
  {
   "cell_type": "code",
   "execution_count": 22,
   "metadata": {},
   "outputs": [
    {
     "data": {
      "text/plain": [
       "GaussianNB()"
      ]
     },
     "execution_count": 22,
     "metadata": {},
     "output_type": "execute_result"
    }
   ],
   "source": [
    "#aplica o modelo novamente\n",
    "classificadorNB = GaussianNB()\n",
    "classificadorNB.fit(previsores_treinamento, classe_treinamento)"
   ]
  },
  {
   "cell_type": "code",
   "execution_count": 23,
   "metadata": {},
   "outputs": [],
   "source": [
    "#testa novamente\n",
    "classe_prevista_teste_NB = classificadorNB.predict(previsores_teste)"
   ]
  },
  {
   "cell_type": "code",
   "execution_count": 24,
   "metadata": {},
   "outputs": [
    {
     "name": "stdout",
     "output_type": "stream",
     "text": [
      "Acurácia do Modelo: 80.46% \n"
     ]
    }
   ],
   "source": [
    "# calcula a acurácia novamente\n",
    "precisao_modelo_NB = accuracy_score(classe_teste, classe_prevista_teste_NB)\n",
    "print('Acurácia do Modelo: %.2f%% ' % (precisao_modelo_NB *100))"
   ]
  },
  {
   "cell_type": "markdown",
   "metadata": {},
   "source": [
    "* Análise: Pronto, agora obtemos um resultado muito melhor, próximo ao alcançando no Decision Tree Classifier, no entanto ainda inferior ao outro método."
   ]
  },
  {
   "cell_type": "markdown",
   "metadata": {},
   "source": [
    "## Conclusão"
   ]
  },
  {
   "cell_type": "markdown",
   "metadata": {},
   "source": [
    "# Decision Tree Classifier"
   ]
  },
  {
   "cell_type": "code",
   "execution_count": 25,
   "metadata": {},
   "outputs": [
    {
     "name": "stdout",
     "output_type": "stream",
     "text": [
      "De 8141 classes o modelo DECISION TREE CLASSIFIER acertou 6888 classes e errou 1253 classes.\n",
      " \n"
     ]
    },
    {
     "data": {
      "text/html": [
       "<div>\n",
       "<style scoped>\n",
       "    .dataframe tbody tr th:only-of-type {\n",
       "        vertical-align: middle;\n",
       "    }\n",
       "\n",
       "    .dataframe tbody tr th {\n",
       "        vertical-align: top;\n",
       "    }\n",
       "\n",
       "    .dataframe thead th {\n",
       "        text-align: right;\n",
       "    }\n",
       "</style>\n",
       "<table border=\"1\" class=\"dataframe\">\n",
       "  <thead>\n",
       "    <tr style=\"text-align: right;\">\n",
       "      <th></th>\n",
       "      <th>Classe_Prevista_DTC</th>\n",
       "      <th>Classe_Real</th>\n",
       "    </tr>\n",
       "    <tr>\n",
       "      <th>Comparacao</th>\n",
       "      <th></th>\n",
       "      <th></th>\n",
       "    </tr>\n",
       "  </thead>\n",
       "  <tbody>\n",
       "    <tr>\n",
       "      <th>False</th>\n",
       "      <td>1253</td>\n",
       "      <td>1253</td>\n",
       "    </tr>\n",
       "    <tr>\n",
       "      <th>True</th>\n",
       "      <td>6888</td>\n",
       "      <td>6888</td>\n",
       "    </tr>\n",
       "  </tbody>\n",
       "</table>\n",
       "</div>"
      ],
      "text/plain": [
       "            Classe_Prevista_DTC  Classe_Real\n",
       "Comparacao                                  \n",
       "False                      1253         1253\n",
       "True                       6888         6888"
      ]
     },
     "execution_count": 25,
     "metadata": {},
     "output_type": "execute_result"
    }
   ],
   "source": [
    "# Comparando a Classe Prevista com a Classe Real\n",
    "\n",
    "df = pd.DataFrame( )\n",
    "df['Classe_Prevista_DTC'] = classe_prevista_teste_DTC\n",
    "df['Classe_Real'] = classe_teste.values\n",
    "df['Comparacao'] = df['Classe_Prevista_DTC'] == df['Classe_Real']\n",
    "\n",
    "df_comparacao = df.groupby(by='Comparacao').count()\n",
    "\n",
    "print('De %d classes o modelo DECISION TREE CLASSIFIER acertou %d classes e errou %d classes.\\n ' % (df_comparacao['Classe_Prevista_DTC'].sum(), df_comparacao.iloc[[1], [0]].values, df_comparacao.iloc[[0], [0]].values))\n",
    "\n",
    "df_comparacao"
   ]
  },
  {
   "cell_type": "markdown",
   "metadata": {},
   "source": [
    "## Naive Bayes"
   ]
  },
  {
   "cell_type": "code",
   "execution_count": 26,
   "metadata": {},
   "outputs": [
    {
     "name": "stdout",
     "output_type": "stream",
     "text": [
      "De 8141 classes o modelo NAIVE BAYES acertou 6550 classes e errou 1591 classes.\n",
      " \n"
     ]
    },
    {
     "data": {
      "text/html": [
       "<div>\n",
       "<style scoped>\n",
       "    .dataframe tbody tr th:only-of-type {\n",
       "        vertical-align: middle;\n",
       "    }\n",
       "\n",
       "    .dataframe tbody tr th {\n",
       "        vertical-align: top;\n",
       "    }\n",
       "\n",
       "    .dataframe thead th {\n",
       "        text-align: right;\n",
       "    }\n",
       "</style>\n",
       "<table border=\"1\" class=\"dataframe\">\n",
       "  <thead>\n",
       "    <tr style=\"text-align: right;\">\n",
       "      <th></th>\n",
       "      <th>Classe_Prevista_NB</th>\n",
       "      <th>Classe_Real</th>\n",
       "    </tr>\n",
       "    <tr>\n",
       "      <th>Comparacao</th>\n",
       "      <th></th>\n",
       "      <th></th>\n",
       "    </tr>\n",
       "  </thead>\n",
       "  <tbody>\n",
       "    <tr>\n",
       "      <th>False</th>\n",
       "      <td>1591</td>\n",
       "      <td>1591</td>\n",
       "    </tr>\n",
       "    <tr>\n",
       "      <th>True</th>\n",
       "      <td>6550</td>\n",
       "      <td>6550</td>\n",
       "    </tr>\n",
       "  </tbody>\n",
       "</table>\n",
       "</div>"
      ],
      "text/plain": [
       "            Classe_Prevista_NB  Classe_Real\n",
       "Comparacao                                 \n",
       "False                     1591         1591\n",
       "True                      6550         6550"
      ]
     },
     "execution_count": 26,
     "metadata": {},
     "output_type": "execute_result"
    }
   ],
   "source": [
    "# Comparando a Classe Prevista com a Classe Real\n",
    "\n",
    "df = pd.DataFrame( )\n",
    "df['Classe_Prevista_NB'] = classe_prevista_teste_NB\n",
    "df['Classe_Real'] = classe_teste.values\n",
    "df['Comparacao'] = df['Classe_Prevista_NB'] == df['Classe_Real']\n",
    "\n",
    "df_comparacao = df.groupby(by='Comparacao').count()\n",
    "\n",
    "print('De %d classes o modelo NAIVE BAYES acertou %d classes e errou %d classes.\\n ' % (df_comparacao['Classe_Prevista_NB'].sum(), df_comparacao.iloc[[1], [0]].values, df_comparacao.iloc[[0], [0]].values))\n",
    "\n",
    "df_comparacao"
   ]
  },
  {
   "cell_type": "markdown",
   "metadata": {},
   "source": [
    "* Concluimos que, de acordo com o relatório aqui proposto podemos observar nos resultados acima que o 'Algoritmo Decision Tree' obteve um melhor resultado em relação ao 'Algoritmo Naive Bayes' para o dataset 'census.csv'.\n",
    "\n",
    "O Algoritmo Decision Tree Classifier foi superior ao Algoritmo Naive Bayes em relação a acurácia e ao teste de comparação de acertos de classe.\n",
    "\n",
    "Ainda reitero a importancia da utilização de técnicas de validação, como por exemplo o score da acurácia que nos permitiu realizar o pré-processamento dos dados novamente para aplicação no algoritmo Naive Bayes. Esse tipo de trabalho contribui para que possamos estar em contato com situações reais e buscar informações para resolver as questões da maneira mais efetiva possivel. "
   ]
  },
  {
   "cell_type": "code",
   "execution_count": null,
   "metadata": {},
   "outputs": [],
   "source": []
  }
 ],
 "metadata": {
  "colab": {
   "name": "Untitled16.ipynb",
   "provenance": []
  },
  "kernelspec": {
   "display_name": "Python 3 (ipykernel)",
   "language": "python",
   "name": "python3"
  },
  "language_info": {
   "codemirror_mode": {
    "name": "ipython",
    "version": 3
   },
   "file_extension": ".py",
   "mimetype": "text/x-python",
   "name": "python",
   "nbconvert_exporter": "python",
   "pygments_lexer": "ipython3",
   "version": "3.9.7"
  }
 },
 "nbformat": 4,
 "nbformat_minor": 1
}
