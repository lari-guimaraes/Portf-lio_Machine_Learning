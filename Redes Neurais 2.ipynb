{
 "cells": [
  {
   "cell_type": "markdown",
   "id": "e9b3f7c2",
   "metadata": {},
   "source": [
    "# Etapa 1: Importar as bibliotecas Python necessárias"
   ]
  },
  {
   "cell_type": "code",
   "execution_count": 1,
   "id": "905050d5",
   "metadata": {},
   "outputs": [],
   "source": [
    "from random import random\n",
    "from math import exp\n",
    "import numpy as np"
   ]
  },
  {
   "cell_type": "markdown",
   "id": "593ba6f2",
   "metadata": {},
   "source": [
    "# Etapa 2: Inicializar a rede"
   ]
  },
  {
   "cell_type": "markdown",
   "id": "fd4e9f4f",
   "metadata": {},
   "source": [
    "Uma rede é organizada em camadas. A camada de entrada é realmente apenas uma linha do nosso conjunto de dados de treinamento. A primeira camada real é a camada oculta. Isso é seguido pela camada de saída que possui um neurônio para cada valor de classe."
   ]
  },
  {
   "cell_type": "code",
   "execution_count": 2,
   "id": "06b27094",
   "metadata": {},
   "outputs": [],
   "source": [
    "def iniciar_rede(n_entrada, n_camada, n_saida):\n",
    "    rede_neural = list()\n",
    "    camada_layer = [{'pesos':[random() for i in range(n_entrada + 1)]} for i in range(n_camada)]\n",
    "    rede_neural.append(camada_layer)\n",
    "    saida_layer = [{'pesos':[random() for i in range(n_camada + 1)]} for i in range(n_saida)]\n",
    "    rede_neural.append(saida_layer)\n",
    "    return rede_neural"
   ]
  },
  {
   "cell_type": "markdown",
   "id": "5020edad",
   "metadata": {},
   "source": [
    "# Etapa 3: Propagar para a frente (Foward Propagate)"
   ]
  },
  {
   "cell_type": "code",
   "execution_count": 3,
   "id": "bde9cc20",
   "metadata": {},
   "outputs": [],
   "source": [
    "# ativação do neurônio - calcular a ativação do neurônio para uma entrada\n",
    "# a função assume que o viés é o último peso na lista de pesos. Isso ajuda aqui e mais tarde a facilitar a leitura do código.\n",
    "def ativar(pesos, entradas):\n",
    "    ativacao = pesos[-1]\n",
    "    for i in range(len(pesos)-1):\n",
    "        ativacao += pesos[i] * entradas[i]\n",
    "    return ativacao"
   ]
  },
  {
   "cell_type": "code",
   "execution_count": 4,
   "id": "b312a5a2",
   "metadata": {},
   "outputs": [],
   "source": [
    "# função de transferência - função sigmóide\n",
    "def transferencia(ativacao):\n",
    "        return 1.0 / (1.0 + exp(-ativacao))"
   ]
  },
  {
   "cell_type": "markdown",
   "id": "6f257e01",
   "metadata": {},
   "source": [
    "Trabalhamos através de cada camada da nossa rede, calculando as saídas para cada neurônio. Todas as saídas de uma camada se tornam entradas para os neurônios na próxima camada."
   ]
  },
  {
   "cell_type": "code",
   "execution_count": 5,
   "id": "5e73a92c",
   "metadata": {},
   "outputs": [],
   "source": [
    "# propagação direta\n",
    "def propagacao_direta(rede_neural, fileira):\n",
    "    entradas = fileira\n",
    "    for camada in rede_neural:\n",
    "        novas_entradas = []\n",
    "        for neuronio in camada:\n",
    "            ativacao = ativar(neuronio['pesos'], entradas)\n",
    "            neuronio['saida'] = transferencia(ativacao)\n",
    "            novas_entradas.append(neuronio['saida'])\n",
    "        entradas = novas_entradas\n",
    "    return entradas"
   ]
  },
  {
   "cell_type": "markdown",
   "id": "5268ec7a",
   "metadata": {},
   "source": [
    "# 4. Backpropagation de erro - Aplicação da Regra Delta.\n",
    "\n"
   ]
  },
  {
   "cell_type": "markdown",
   "id": "feedfd9a",
   "metadata": {},
   "source": [
    "O erro é calculado entre as saídas esperadas e as saídas propagadas a partir da rede. Esses erros são propagados para trás pela rede, da camada de saída para a camada oculta, atribuindo a culpa pelo erro e atualizando os pesos à medida que avançam."
   ]
  },
  {
   "cell_type": "code",
   "execution_count": 6,
   "id": "d9242bf6",
   "metadata": {},
   "outputs": [],
   "source": [
    "# para o neuronio de saida\n",
    "def derivado_transferencia(saida):\n",
    "    return saida * (1.0 - saida)\n",
    "\n",
    "\n",
    "# Erro de retropropagação e armazenamento em neurônios\n",
    "def retropopagacao_erro(rede_neural, esperado):\n",
    "    \n",
    "    for i in reversed(range(len(rede_neural))):\n",
    "        camada = rede_neural[i]\n",
    "        erros = list()\n",
    "        if i != len(rede_neural)-1:\n",
    "            for j in range(len(camada)):\n",
    "                erro = 0.0\n",
    "                for neuronio in rede_neural[i + 1]:\n",
    "                    erro += (neuronio['pesos'][j] * neuronio['delta'])\n",
    "                erros.append(erro)\n",
    "        else:\n",
    "            for j in range(len(camada)):\n",
    "                neuronio = camada[j]\n",
    "                erros.append(esperado[j] - neuronio['saida'])\n",
    "        for j in range(len(camada)):\n",
    "            neuronio = camada[j]\n",
    "            neuronio['delta'] = erros[j] * derivado_transferencia(neuronio['saida'])\n",
    "\n"
   ]
  },
  {
   "cell_type": "markdown",
   "id": "f3a51dac",
   "metadata": {},
   "source": [
    "# 5. Treinamento da Rede"
   ]
  },
  {
   "cell_type": "code",
   "execution_count": 7,
   "id": "b58463fe",
   "metadata": {},
   "outputs": [],
   "source": [
    "# atualizar os pesos da rede neural com os erros calculados\n",
    "def atualizar_pesos(rede_neural, fileira, taxa_aprendizado):\n",
    "    for i in range(len(rede_neural)):\n",
    "        entradas = fileira[:-1]\n",
    "        if i != 0:\n",
    "            entradas = [neuronio['saida'] for neuronio in rede_neural[i - 1]]\n",
    "        for neuronio in rede_neural[i]:\n",
    "            for j in range(len(entradas)):\n",
    "                neuronio['pesos'][j] += taxa_aprendizado * neuronio['delta'] * entradas[j]\n",
    "            neuronio['pesos'][-1] += taxa_aprendizado * neuronio['delta']"
   ]
  },
  {
   "cell_type": "code",
   "execution_count": 8,
   "id": "37e35196",
   "metadata": {},
   "outputs": [],
   "source": [
    "\n",
    "def treino_rede_neural(rede_neural, treino, taxa_aprendizado, n_epoca, n_saida):\n",
    "    for epoca in range(n_epoca):\n",
    "        for fileira in treino:\n",
    "            entradas = propagacao_direta(rede_neural, fileira)\n",
    "            esperado = [0 for i in range(n_saida)]\n",
    "            esperado[fileira[-1]] = 1\n",
    "            atualizar_pesos(rede_neural, fileira, taxa_aprendizado)\n",
    "        "
   ]
  },
  {
   "cell_type": "markdown",
   "id": "cda9bdb7",
   "metadata": {},
   "source": [
    "# 6. Previsão"
   ]
  },
  {
   "cell_type": "code",
   "execution_count": 9,
   "id": "911e7d36",
   "metadata": {},
   "outputs": [],
   "source": [
    "def previsao(rede_neural, fileira):\n",
    "    saidas = propagacao_direta(rede_neural, fileira)\n",
    "    return saidas.index(max(saidas))"
   ]
  },
  {
   "cell_type": "markdown",
   "id": "cc72ed6a",
   "metadata": {},
   "source": [
    "# 7. Dados do problema"
   ]
  },
  {
   "cell_type": "code",
   "execution_count": 10,
   "id": "e905828f",
   "metadata": {},
   "outputs": [],
   "source": [
    "#dados iniciais\n",
    "x1 = [0, 0, 1 ,1]\n",
    "x2 = [0, 1, 0 ,1]\n",
    "x3 = [0, 1, 1 ,1]\n",
    "y_real = [0,0,1,1]"
   ]
  },
  {
   "cell_type": "code",
   "execution_count": 11,
   "id": "7c636b3a",
   "metadata": {},
   "outputs": [],
   "source": [
    "# Parâmetros iniciais\n",
    "entradas = np.array([[0, 0, 0], [0,1,1], [1,0,1], [1,1,1]])\n",
    "saidas = np.array([[0], [0], [1] ,[1]])\n",
    "taxa_aprendizado = 0.3"
   ]
  },
  {
   "cell_type": "code",
   "execution_count": 12,
   "id": "79eb4e57",
   "metadata": {},
   "outputs": [
    {
     "data": {
      "text/plain": [
       "array([[0, 0, 0, 0],\n",
       "       [0, 1, 1, 0],\n",
       "       [1, 0, 1, 1],\n",
       "       [1, 1, 1, 1]])"
      ]
     },
     "execution_count": 12,
     "metadata": {},
     "output_type": "execute_result"
    }
   ],
   "source": [
    "porta_xor = np.concatenate([entradas,saidas], axis=1)\n",
    "porta_xor\n",
    "\n",
    "\n",
    "[0, 0, 0, 0],"
   ]
  },
  {
   "cell_type": "markdown",
   "id": "4ade837c",
   "metadata": {},
   "source": [
    "# 8. Execução"
   ]
  },
  {
   "cell_type": "code",
   "execution_count": 40,
   "id": "f00f975b",
   "metadata": {},
   "outputs": [],
   "source": [
    "# definições iniciais\n",
    "n_epoca = 12\n",
    "n_camada = 3\n",
    "n_saida = len(set([fileira[-1] for fileira in porta_xor]))\n",
    "n_entrada = len(porta_xor[0]) - 1"
   ]
  },
  {
   "cell_type": "code",
   "execution_count": 41,
   "id": "271be8a7",
   "metadata": {},
   "outputs": [
    {
     "data": {
      "text/plain": [
       "[[{'pesos': [0.6269296097816154,\n",
       "    0.8578078100245371,\n",
       "    0.6887709924262514,\n",
       "    0.8891642184880671]},\n",
       "  {'pesos': [0.3702923334857996,\n",
       "    0.25206079882539556,\n",
       "    0.6034523346775699,\n",
       "    0.7087920267313705]},\n",
       "  {'pesos': [0.7177924827924559,\n",
       "    0.6137095690316698,\n",
       "    0.6851126802655503,\n",
       "    0.39880735564942205]}],\n",
       " [{'pesos': [0.7045181007498424,\n",
       "    0.49219997155039175,\n",
       "    0.14574656711103906,\n",
       "    0.987745394822506]},\n",
       "  {'pesos': [0.43919967671213966,\n",
       "    0.25322364252476304,\n",
       "    0.9994937990230005,\n",
       "    0.7163132504939299]}]]"
      ]
     },
     "execution_count": 41,
     "metadata": {},
     "output_type": "execute_result"
    }
   ],
   "source": [
    "# criar rede neural\n",
    "rede_neural = iniciar_rede(n_entrada, n_camada, n_saida)\n",
    "rede_neural"
   ]
  },
  {
   "cell_type": "code",
   "execution_count": 42,
   "id": "1d5518f1",
   "metadata": {},
   "outputs": [
    {
     "data": {
      "text/plain": [
       "[0.8703553973780198, 0.8575848584355563]"
      ]
     },
     "execution_count": 42,
     "metadata": {},
     "output_type": "execute_result"
    }
   ],
   "source": [
    "fileira = [0, 0, 0,0]\n",
    "saida = propagacao_direta(rede_neural, fileira)\n",
    "saida"
   ]
  },
  {
   "cell_type": "code",
   "execution_count": 43,
   "id": "35fbb8bc",
   "metadata": {},
   "outputs": [
    {
     "name": "stdout",
     "output_type": "stream",
     "text": [
      "[{'pesos': [0.6269296097816154, 0.8578078100245371, 0.6887709924262514, 0.8891642184880671], 'saida': 0.7087176664942968, 'delta': -0.012706231123689096}, {'pesos': [0.3702923334857996, 0.25206079882539556, 0.6034523346775699, 0.7087920267313705], 'saida': 0.6701341869530425, 'delta': -0.009711713016568986}, {'pesos': [0.7177924827924559, 0.6137095690316698, 0.6851126802655503, 0.39880735564942205], 'saida': 0.5984010807951675, 'delta': 0.0007380832984132359}]\n",
      "[{'pesos': [0.7045181007498424, 0.49219997155039175, 0.14574656711103906, 0.987745394822506], 'saida': 0.8703553973780198, 'delta': -0.09820818721184855}, {'pesos': [0.43919967671213966, 0.25322364252476304, 0.9994937990230005, 0.7163132504939299], 'saida': 0.8575848584355563, 'delta': 0.017393598313844773}]\n"
     ]
    }
   ],
   "source": [
    "\n",
    "esperado = [0,1,0,1]\n",
    "retropopagacao_erro(rede_neural, esperado)\n",
    "for camada in rede_neural:\n",
    "    print(camada)"
   ]
  },
  {
   "cell_type": "code",
   "execution_count": 44,
   "id": "d76e3b97",
   "metadata": {},
   "outputs": [],
   "source": [
    "treino_rede_neural(rede_neural, porta_xor, taxa_aprendizado, n_epoca, n_saida)\n"
   ]
  },
  {
   "cell_type": "markdown",
   "id": "aa9dfb4e",
   "metadata": {},
   "source": [
    "# Resultado Previsão"
   ]
  },
  {
   "cell_type": "code",
   "execution_count": 45,
   "id": "cabae0f4",
   "metadata": {},
   "outputs": [
    {
     "name": "stdout",
     "output_type": "stream",
     "text": [
      "Esperado=0, Previsto=1\n",
      "Esperado=0, Previsto=1\n",
      "Esperado=1, Previsto=1\n",
      "Esperado=1, Previsto=1\n"
     ]
    }
   ],
   "source": [
    "for fileira in porta_xor:\n",
    "    previsao_y = previsao(rede_neural, fileira)\n",
    "    print('Esperado=%d, Previsto=%d' % (fileira[-1], previsao_y))"
   ]
  },
  {
   "cell_type": "code",
   "execution_count": null,
   "id": "0ea156cb",
   "metadata": {},
   "outputs": [],
   "source": []
  }
 ],
 "metadata": {
  "kernelspec": {
   "display_name": "Python 3 (ipykernel)",
   "language": "python",
   "name": "python3"
  },
  "language_info": {
   "codemirror_mode": {
    "name": "ipython",
    "version": 3
   },
   "file_extension": ".py",
   "mimetype": "text/x-python",
   "name": "python",
   "nbconvert_exporter": "python",
   "pygments_lexer": "ipython3",
   "version": "3.9.7"
  }
 },
 "nbformat": 4,
 "nbformat_minor": 5
}
