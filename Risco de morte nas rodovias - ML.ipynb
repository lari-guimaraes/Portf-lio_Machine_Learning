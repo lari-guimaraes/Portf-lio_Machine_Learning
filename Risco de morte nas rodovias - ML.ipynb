{
 "cells": [
  {
   "cell_type": "markdown",
   "metadata": {},
   "source": [
    "<h1 style='color: green; font-size: 36px; font-weight: bold;'>Atividade - Inteligência Artificial/Estatística</h1>"
   ]
  },
  {
   "cell_type": "markdown",
   "metadata": {},
   "source": [
    "# <font color='red' style='font-size: 30px;'>1. Descrição do problema</font>\n",
    "<hr style='border: 2px solid red;'>"
   ]
  },
  {
   "cell_type": "markdown",
   "metadata": {},
   "source": [
    "## O Dataset e o Projeto\n",
    "<hr>\n",
    "\n",
    "### Descrição:\n",
    "<p style='font-size: 18px; line-height: 2; margin: 10px 50px; text-align: justify;'>A base de dados contém todos os acidentes que aconteceram em rodovias\n",
    "federais (BRs) nos anos de 2019, 2020 e 2021. Os dados foram fornecidos\n",
    "pela própria Polícia Rodoviária Federal em seu site. </p>\n",
    "\n",
    "<p style='font-size: 18px; line-height: 2; margin: 10px 50px; text-align: justify;'>O objetivo deste treinamento será estimar um modelo de <b>Machine Learning</b> utilizando a técnica de <b>SVC - Classificação de vetores C-Support</b> para demonstrar os impactos das variáveis disponibilizadas neste dataset sobre o <b>RISCO DE OCORRÊNCIA DE ACIDENTES GRAVES</b>. No final do projeto teremos um modelo de previsão para o RISCO DE OCORRÊNCIA DE ACIDENTES GRAVES segundo os inputs de um conjunto de variáveis (X's).</p>\n",
    "\n"
   ]
  },
  {
   "cell_type": "markdown",
   "metadata": {},
   "source": [
    "# <font color='red' style='font-size: 30px;'>2. Pré-processamento dos dados</font>\n",
    "<hr style='border: 2px solid red;'>"
   ]
  },
  {
   "cell_type": "markdown",
   "metadata": {},
   "source": [
    "## Importando bibliotecas\n"
   ]
  },
  {
   "cell_type": "code",
   "execution_count": 243,
   "metadata": {},
   "outputs": [],
   "source": [
    "import matplotlib.pyplot as plt\n",
    "%matplotlib inline\n",
    "from datetime import datetime, date, time\n",
    "import pandas as pd\n",
    "import numpy as np\n",
    "import seaborn as sns\n",
    "import warnings\n",
    "import math\n",
    "\n",
    "\n",
    "warnings.filterwarnings('ignore')"
   ]
  },
  {
   "cell_type": "markdown",
   "metadata": {},
   "source": [
    "## Leitura dos dados"
   ]
  },
  {
   "cell_type": "code",
   "execution_count": 244,
   "metadata": {},
   "outputs": [],
   "source": [
    "dados = pd.read_csv(\"database.csv\", sep=\";\", parse_dates = ['data_inversa'])"
   ]
  },
  {
   "cell_type": "markdown",
   "metadata": {},
   "source": [
    "## Visualizar os dados"
   ]
  },
  {
   "cell_type": "code",
   "execution_count": 245,
   "metadata": {
    "scrolled": true
   },
   "outputs": [
    {
     "data": {
      "text/html": [
       "<div>\n",
       "<style scoped>\n",
       "    .dataframe tbody tr th:only-of-type {\n",
       "        vertical-align: middle;\n",
       "    }\n",
       "\n",
       "    .dataframe tbody tr th {\n",
       "        vertical-align: top;\n",
       "    }\n",
       "\n",
       "    .dataframe thead th {\n",
       "        text-align: right;\n",
       "    }\n",
       "</style>\n",
       "<table border=\"1\" class=\"dataframe\">\n",
       "  <thead>\n",
       "    <tr style=\"text-align: right;\">\n",
       "      <th></th>\n",
       "      <th>id</th>\n",
       "      <th>pesid</th>\n",
       "      <th>data_inversa</th>\n",
       "      <th>uf</th>\n",
       "      <th>br</th>\n",
       "      <th>km</th>\n",
       "      <th>fase_dia</th>\n",
       "      <th>condicao_metereologica</th>\n",
       "      <th>tipo_pista</th>\n",
       "      <th>tracado_via</th>\n",
       "      <th>...</th>\n",
       "      <th>ano_fabricacao_veiculo</th>\n",
       "      <th>tipo_envolvido</th>\n",
       "      <th>estado_fisico</th>\n",
       "      <th>idade</th>\n",
       "      <th>sexo</th>\n",
       "      <th>ilesos</th>\n",
       "      <th>feridos_leves</th>\n",
       "      <th>feridos_graves</th>\n",
       "      <th>mortos</th>\n",
       "      <th>ano_ocorrencia</th>\n",
       "    </tr>\n",
       "  </thead>\n",
       "  <tbody>\n",
       "    <tr>\n",
       "      <th>0</th>\n",
       "      <td>389058</td>\n",
       "      <td>869091</td>\n",
       "      <td>2021-11-10</td>\n",
       "      <td>AM</td>\n",
       "      <td>174</td>\n",
       "      <td>977</td>\n",
       "      <td>Pleno dia</td>\n",
       "      <td>Céu Claro</td>\n",
       "      <td>Simples</td>\n",
       "      <td>Não Informado</td>\n",
       "      <td>...</td>\n",
       "      <td>2011</td>\n",
       "      <td>Passageiro</td>\n",
       "      <td>Lesões Leves</td>\n",
       "      <td>0</td>\n",
       "      <td>Masculino</td>\n",
       "      <td>0</td>\n",
       "      <td>1</td>\n",
       "      <td>0</td>\n",
       "      <td>0</td>\n",
       "      <td>2021</td>\n",
       "    </tr>\n",
       "    <tr>\n",
       "      <th>1</th>\n",
       "      <td>364848</td>\n",
       "      <td>812950</td>\n",
       "      <td>2021-06-18</td>\n",
       "      <td>RS</td>\n",
       "      <td>158</td>\n",
       "      <td>566,2</td>\n",
       "      <td>Pleno dia</td>\n",
       "      <td>Céu Claro</td>\n",
       "      <td>Simples</td>\n",
       "      <td>Não Informado</td>\n",
       "      <td>...</td>\n",
       "      <td>2011</td>\n",
       "      <td>Passageiro</td>\n",
       "      <td>Ileso</td>\n",
       "      <td>0</td>\n",
       "      <td>Masculino</td>\n",
       "      <td>1</td>\n",
       "      <td>0</td>\n",
       "      <td>0</td>\n",
       "      <td>0</td>\n",
       "      <td>2021</td>\n",
       "    </tr>\n",
       "    <tr>\n",
       "      <th>2</th>\n",
       "      <td>346247</td>\n",
       "      <td>772989</td>\n",
       "      <td>2021-03-14</td>\n",
       "      <td>SC</td>\n",
       "      <td>101</td>\n",
       "      <td>223</td>\n",
       "      <td>Plena Noite</td>\n",
       "      <td>Chuva</td>\n",
       "      <td>Dupla</td>\n",
       "      <td>Não Informado</td>\n",
       "      <td>...</td>\n",
       "      <td>2011</td>\n",
       "      <td>Passageiro</td>\n",
       "      <td>Lesões Leves</td>\n",
       "      <td>0</td>\n",
       "      <td>Ignorado</td>\n",
       "      <td>0</td>\n",
       "      <td>1</td>\n",
       "      <td>0</td>\n",
       "      <td>0</td>\n",
       "      <td>2021</td>\n",
       "    </tr>\n",
       "    <tr>\n",
       "      <th>3</th>\n",
       "      <td>404482</td>\n",
       "      <td>904519</td>\n",
       "      <td>2021-12-28</td>\n",
       "      <td>SC</td>\n",
       "      <td>101</td>\n",
       "      <td>50</td>\n",
       "      <td>Pleno dia</td>\n",
       "      <td>Sol</td>\n",
       "      <td>Múltipla</td>\n",
       "      <td>Desvio Temporário</td>\n",
       "      <td>...</td>\n",
       "      <td>2011</td>\n",
       "      <td>Passageiro</td>\n",
       "      <td>Lesões Leves</td>\n",
       "      <td>0</td>\n",
       "      <td>Masculino</td>\n",
       "      <td>0</td>\n",
       "      <td>1</td>\n",
       "      <td>0</td>\n",
       "      <td>0</td>\n",
       "      <td>2021</td>\n",
       "    </tr>\n",
       "    <tr>\n",
       "      <th>4</th>\n",
       "      <td>404388</td>\n",
       "      <td>904207</td>\n",
       "      <td>2021-12-27</td>\n",
       "      <td>SC</td>\n",
       "      <td>280</td>\n",
       "      <td>99,1</td>\n",
       "      <td>Pleno dia</td>\n",
       "      <td>Chuva</td>\n",
       "      <td>Simples</td>\n",
       "      <td>Curva</td>\n",
       "      <td>...</td>\n",
       "      <td>2011</td>\n",
       "      <td>Passageiro</td>\n",
       "      <td>Lesões Leves</td>\n",
       "      <td>0</td>\n",
       "      <td>Masculino</td>\n",
       "      <td>0</td>\n",
       "      <td>1</td>\n",
       "      <td>0</td>\n",
       "      <td>0</td>\n",
       "      <td>2021</td>\n",
       "    </tr>\n",
       "    <tr>\n",
       "      <th>...</th>\n",
       "      <td>...</td>\n",
       "      <td>...</td>\n",
       "      <td>...</td>\n",
       "      <td>...</td>\n",
       "      <td>...</td>\n",
       "      <td>...</td>\n",
       "      <td>...</td>\n",
       "      <td>...</td>\n",
       "      <td>...</td>\n",
       "      <td>...</td>\n",
       "      <td>...</td>\n",
       "      <td>...</td>\n",
       "      <td>...</td>\n",
       "      <td>...</td>\n",
       "      <td>...</td>\n",
       "      <td>...</td>\n",
       "      <td>...</td>\n",
       "      <td>...</td>\n",
       "      <td>...</td>\n",
       "      <td>...</td>\n",
       "      <td>...</td>\n",
       "    </tr>\n",
       "    <tr>\n",
       "      <th>460525</th>\n",
       "      <td>294738</td>\n",
       "      <td>655335</td>\n",
       "      <td>2020-11-07</td>\n",
       "      <td>GO</td>\n",
       "      <td>153</td>\n",
       "      <td>615</td>\n",
       "      <td>Pleno dia</td>\n",
       "      <td>Céu Claro</td>\n",
       "      <td>Dupla</td>\n",
       "      <td>Reta</td>\n",
       "      <td>...</td>\n",
       "      <td>1900</td>\n",
       "      <td>Condutor</td>\n",
       "      <td>Lesões Leves</td>\n",
       "      <td>61</td>\n",
       "      <td>Masculino</td>\n",
       "      <td>0</td>\n",
       "      <td>1</td>\n",
       "      <td>0</td>\n",
       "      <td>0</td>\n",
       "      <td>2020</td>\n",
       "    </tr>\n",
       "    <tr>\n",
       "      <th>460526</th>\n",
       "      <td>201653</td>\n",
       "      <td>452470</td>\n",
       "      <td>2019-06-04</td>\n",
       "      <td>MG</td>\n",
       "      <td>40</td>\n",
       "      <td>110,2</td>\n",
       "      <td>Plena Noite</td>\n",
       "      <td>Céu Claro</td>\n",
       "      <td>Simples</td>\n",
       "      <td>Reta</td>\n",
       "      <td>...</td>\n",
       "      <td>1900</td>\n",
       "      <td>Condutor</td>\n",
       "      <td>Não Informado</td>\n",
       "      <td>61</td>\n",
       "      <td>Não Informado</td>\n",
       "      <td>0</td>\n",
       "      <td>0</td>\n",
       "      <td>0</td>\n",
       "      <td>0</td>\n",
       "      <td>2019</td>\n",
       "    </tr>\n",
       "    <tr>\n",
       "      <th>460527</th>\n",
       "      <td>298823</td>\n",
       "      <td>665673</td>\n",
       "      <td>2020-01-08</td>\n",
       "      <td>MT</td>\n",
       "      <td>364</td>\n",
       "      <td>203,8</td>\n",
       "      <td>Plena Noite</td>\n",
       "      <td>Céu Claro</td>\n",
       "      <td>Dupla</td>\n",
       "      <td>Não Informado</td>\n",
       "      <td>...</td>\n",
       "      <td>1900</td>\n",
       "      <td>Condutor</td>\n",
       "      <td>Ileso</td>\n",
       "      <td>61</td>\n",
       "      <td>Masculino</td>\n",
       "      <td>1</td>\n",
       "      <td>0</td>\n",
       "      <td>0</td>\n",
       "      <td>0</td>\n",
       "      <td>2020</td>\n",
       "    </tr>\n",
       "    <tr>\n",
       "      <th>460528</th>\n",
       "      <td>267624</td>\n",
       "      <td>598469</td>\n",
       "      <td>2020-06-02</td>\n",
       "      <td>BA</td>\n",
       "      <td>101</td>\n",
       "      <td>181,2</td>\n",
       "      <td>Pleno dia</td>\n",
       "      <td>Céu Claro</td>\n",
       "      <td>Simples</td>\n",
       "      <td>Reta</td>\n",
       "      <td>...</td>\n",
       "      <td>1900</td>\n",
       "      <td>Condutor</td>\n",
       "      <td>Lesões Graves</td>\n",
       "      <td>63</td>\n",
       "      <td>Masculino</td>\n",
       "      <td>0</td>\n",
       "      <td>0</td>\n",
       "      <td>1</td>\n",
       "      <td>0</td>\n",
       "      <td>2020</td>\n",
       "    </tr>\n",
       "    <tr>\n",
       "      <th>460529</th>\n",
       "      <td>360993</td>\n",
       "      <td>804391</td>\n",
       "      <td>2021-05-30</td>\n",
       "      <td>RJ</td>\n",
       "      <td>116</td>\n",
       "      <td>299</td>\n",
       "      <td>Pleno dia</td>\n",
       "      <td>Nublado</td>\n",
       "      <td>Dupla</td>\n",
       "      <td>Interseção de vias</td>\n",
       "      <td>...</td>\n",
       "      <td>1900</td>\n",
       "      <td>Condutor</td>\n",
       "      <td>Ileso</td>\n",
       "      <td>64</td>\n",
       "      <td>Masculino</td>\n",
       "      <td>1</td>\n",
       "      <td>0</td>\n",
       "      <td>0</td>\n",
       "      <td>0</td>\n",
       "      <td>2021</td>\n",
       "    </tr>\n",
       "  </tbody>\n",
       "</table>\n",
       "<p>460530 rows × 22 columns</p>\n",
       "</div>"
      ],
      "text/plain": [
       "            id   pesid data_inversa  uf   br     km     fase_dia  \\\n",
       "0       389058  869091   2021-11-10  AM  174    977    Pleno dia   \n",
       "1       364848  812950   2021-06-18  RS  158  566,2    Pleno dia   \n",
       "2       346247  772989   2021-03-14  SC  101    223  Plena Noite   \n",
       "3       404482  904519   2021-12-28  SC  101     50    Pleno dia   \n",
       "4       404388  904207   2021-12-27  SC  280   99,1    Pleno dia   \n",
       "...        ...     ...          ...  ..  ...    ...          ...   \n",
       "460525  294738  655335   2020-11-07  GO  153    615    Pleno dia   \n",
       "460526  201653  452470   2019-06-04  MG   40  110,2  Plena Noite   \n",
       "460527  298823  665673   2020-01-08  MT  364  203,8  Plena Noite   \n",
       "460528  267624  598469   2020-06-02  BA  101  181,2    Pleno dia   \n",
       "460529  360993  804391   2021-05-30  RJ  116    299    Pleno dia   \n",
       "\n",
       "       condicao_metereologica tipo_pista         tracado_via  ...  \\\n",
       "0                   Céu Claro    Simples       Não Informado  ...   \n",
       "1                   Céu Claro    Simples       Não Informado  ...   \n",
       "2                       Chuva      Dupla       Não Informado  ...   \n",
       "3                         Sol   Múltipla   Desvio Temporário  ...   \n",
       "4                       Chuva    Simples               Curva  ...   \n",
       "...                       ...        ...                 ...  ...   \n",
       "460525              Céu Claro      Dupla                Reta  ...   \n",
       "460526              Céu Claro    Simples                Reta  ...   \n",
       "460527              Céu Claro      Dupla       Não Informado  ...   \n",
       "460528              Céu Claro    Simples                Reta  ...   \n",
       "460529                Nublado      Dupla  Interseção de vias  ...   \n",
       "\n",
       "       ano_fabricacao_veiculo tipo_envolvido  estado_fisico idade  \\\n",
       "0                        2011     Passageiro   Lesões Leves     0   \n",
       "1                        2011     Passageiro          Ileso     0   \n",
       "2                        2011     Passageiro   Lesões Leves     0   \n",
       "3                        2011     Passageiro   Lesões Leves     0   \n",
       "4                        2011     Passageiro   Lesões Leves     0   \n",
       "...                       ...            ...            ...   ...   \n",
       "460525                   1900       Condutor   Lesões Leves    61   \n",
       "460526                   1900       Condutor  Não Informado    61   \n",
       "460527                   1900       Condutor          Ileso    61   \n",
       "460528                   1900       Condutor  Lesões Graves    63   \n",
       "460529                   1900       Condutor          Ileso    64   \n",
       "\n",
       "                 sexo  ilesos feridos_leves  feridos_graves  mortos  \\\n",
       "0           Masculino       0             1               0       0   \n",
       "1           Masculino       1             0               0       0   \n",
       "2            Ignorado       0             1               0       0   \n",
       "3           Masculino       0             1               0       0   \n",
       "4           Masculino       0             1               0       0   \n",
       "...               ...     ...           ...             ...     ...   \n",
       "460525      Masculino       0             1               0       0   \n",
       "460526  Não Informado       0             0               0       0   \n",
       "460527      Masculino       1             0               0       0   \n",
       "460528      Masculino       0             0               1       0   \n",
       "460529      Masculino       1             0               0       0   \n",
       "\n",
       "        ano_ocorrencia  \n",
       "0                 2021  \n",
       "1                 2021  \n",
       "2                 2021  \n",
       "3                 2021  \n",
       "4                 2021  \n",
       "...                ...  \n",
       "460525            2020  \n",
       "460526            2019  \n",
       "460527            2020  \n",
       "460528            2020  \n",
       "460529            2021  \n",
       "\n",
       "[460530 rows x 22 columns]"
      ]
     },
     "execution_count": 245,
     "metadata": {},
     "output_type": "execute_result"
    }
   ],
   "source": [
    "dados"
   ]
  },
  {
   "cell_type": "code",
   "execution_count": 246,
   "metadata": {},
   "outputs": [
    {
     "name": "stdout",
     "output_type": "stream",
     "text": [
      "<class 'pandas.core.frame.DataFrame'>\n",
      "RangeIndex: 460530 entries, 0 to 460529\n",
      "Data columns (total 22 columns):\n",
      " #   Column                  Non-Null Count   Dtype         \n",
      "---  ------                  --------------   -----         \n",
      " 0   id                      460530 non-null  int64         \n",
      " 1   pesid                   460530 non-null  int64         \n",
      " 2   data_inversa            460530 non-null  datetime64[ns]\n",
      " 3   uf                      460530 non-null  object        \n",
      " 4   br                      460530 non-null  int64         \n",
      " 5   km                      460530 non-null  object        \n",
      " 6   fase_dia                460530 non-null  object        \n",
      " 7   condicao_metereologica  460530 non-null  object        \n",
      " 8   tipo_pista              460530 non-null  object        \n",
      " 9   tracado_via             460530 non-null  object        \n",
      " 10  uso_solo                460530 non-null  object        \n",
      " 11  tipo_veiculo            460530 non-null  object        \n",
      " 12  ano_fabricacao_veiculo  460530 non-null  int64         \n",
      " 13  tipo_envolvido          460530 non-null  object        \n",
      " 14  estado_fisico           460530 non-null  object        \n",
      " 15  idade                   460530 non-null  int64         \n",
      " 16  sexo                    460530 non-null  object        \n",
      " 17  ilesos                  460530 non-null  int64         \n",
      " 18  feridos_leves           460530 non-null  int64         \n",
      " 19  feridos_graves          460530 non-null  int64         \n",
      " 20  mortos                  460530 non-null  int64         \n",
      " 21  ano_ocorrencia          460530 non-null  int64         \n",
      "dtypes: datetime64[ns](1), int64(10), object(11)\n",
      "memory usage: 77.3+ MB\n"
     ]
    }
   ],
   "source": [
    "# Verificando as informações sobre os dataframe, incluindo a memória\n",
    "dados.info()"
   ]
  },
  {
   "cell_type": "markdown",
   "metadata": {},
   "source": [
    "## Verificando o tamanho do dataset"
   ]
  },
  {
   "cell_type": "code",
   "execution_count": 247,
   "metadata": {},
   "outputs": [
    {
     "data": {
      "text/plain": [
       "(460530, 22)"
      ]
     },
     "execution_count": 247,
     "metadata": {},
     "output_type": "execute_result"
    }
   ],
   "source": [
    "dados.shape"
   ]
  },
  {
   "cell_type": "markdown",
   "metadata": {},
   "source": [
    "## Conhecendo os atributos que servirão de análise"
   ]
  },
  {
   "cell_type": "code",
   "execution_count": 249,
   "metadata": {},
   "outputs": [
    {
     "name": "stdout",
     "output_type": "stream",
     "text": [
      "mortos\n",
      "0    444527\n",
      "1     16003\n",
      "dtype: int64\n"
     ]
    },
    {
     "data": {
      "text/plain": [
       "<AxesSubplot:xlabel='mortos'>"
      ]
     },
     "execution_count": 249,
     "metadata": {},
     "output_type": "execute_result"
    },
    {
     "data": {
      "image/png": "[encoded data removed]",
      "text/plain": [
       "<Figure size 432x288 with 1 Axes>"
      ]
     },
     "metadata": {
      "needs_background": "light"
     },
     "output_type": "display_data"
    }
   ],
   "source": [
    "# Agrupando acidentes por mortes\n",
    "\n",
    "agrupar_morte = dados.groupby(['mortos']).size()\n",
    "print(agrupar_morte)\n",
    "# verificando em um gráfico de barras\n",
    "agrupar_morte.plot.bar(color = 'blue')"
   ]
  },
  {
   "cell_type": "code",
   "execution_count": 250,
   "metadata": {},
   "outputs": [
    {
     "name": "stdout",
     "output_type": "stream",
     "text": [
      "Mortos =  16003\n",
      "Ilesos =  192732\n",
      "Feridos leves =  168952\n",
      "Feridos graves =  53267\n"
     ]
    }
   ],
   "source": [
    "# Verificando o total de mortes\n",
    "Total_mortos = dados['mortos'].sum()\n",
    "print('Mortos = ', Total_mortos)\n",
    "Total_ilesos = dados['ilesos'].sum()\n",
    "print('Ilesos = ', Total_ilesos)\n",
    "Total_feridos_leves = dados['feridos_leves'].sum()\n",
    "print('Feridos leves = ', Total_feridos_leves)\n",
    "Total_feridos_graves = dados['feridos_graves'].sum()\n",
    "print('Feridos graves = ', Total_feridos_graves)"
   ]
  },
  {
   "cell_type": "code",
   "execution_count": 251,
   "metadata": {},
   "outputs": [
    {
     "data": {
      "text/plain": [
       "460530"
      ]
     },
     "execution_count": 251,
     "metadata": {},
     "output_type": "execute_result"
    }
   ],
   "source": [
    "total_acidentes = dados.shape[0]\n",
    "total_acidentes"
   ]
  },
  {
   "cell_type": "code",
   "execution_count": 252,
   "metadata": {},
   "outputs": [
    {
     "data": {
      "text/plain": [
       "ilesos            41.9\n",
       "mortos             3.5\n",
       "feridos_leves     36.7\n",
       "feridos_graves    11.6\n",
       "dtype: float64"
      ]
     },
     "execution_count": 252,
     "metadata": {},
     "output_type": "execute_result"
    }
   ],
   "source": [
    "#Observando a porcentagem das mortes em relação ao número total de acidentes\n",
    "\n",
    "total_acidentes = dados.shape[0]\n",
    "acidentes1 = round(dados[['ilesos','mortos','feridos_leves','feridos_graves']].sum()/total_acidentes * 100, 1)\n",
    "acidentes1"
   ]
  },
  {
   "cell_type": "code",
   "execution_count": 253,
   "metadata": {},
   "outputs": [
    {
     "data": {
      "image/png": "[encoded data removed]",
      "text/plain": [
       "<Figure size 432x288 with 1 Axes>"
      ]
     },
     "metadata": {},
     "output_type": "display_data"
    }
   ],
   "source": [
    "# Verificando em um gráfico de pizza\n",
    "labels = 'Nenhuma', 'Leve','Fatal','Grave'\n",
    "percentagem = [ 41.9, 36.7,3.5,11.6]\n",
    "\n",
    "fig1, ax1 = plt.subplots()\n",
    "ax1.pie(percentagem, labels=labels, autopct='%1.1f%%', shadow=True, startangle=90)\n",
    "\n",
    "ax1.axis('equal')\n",
    "\n",
    "#Título do gráfico\n",
    "ax1.set_title('% DA GRAVIDADE DOS ACIDENTES')\n",
    "\n",
    "plt.show()\n"
   ]
  },
  {
   "cell_type": "markdown",
   "metadata": {},
   "source": [
    "# Verificando os dados acima, percebe-se que o número de mortes, em relação ao total de pessoas envolvidas, é relativamente baixo(3,5%), de forma que isso pode prejudicar a classificação nos algoritmos de Machine Learning(ML)\n",
    "\n",
    "\n",
    "# Entretanto, percebi que posso agregar os acidentes graves, juntamente aos fatais, fato de maior relevância para todo o estudo."
   ]
  },
  {
   "cell_type": "code",
   "execution_count": 254,
   "metadata": {},
   "outputs": [
    {
     "data": {
      "text/html": [
       "<div>\n",
       "<style scoped>\n",
       "    .dataframe tbody tr th:only-of-type {\n",
       "        vertical-align: middle;\n",
       "    }\n",
       "\n",
       "    .dataframe tbody tr th {\n",
       "        vertical-align: top;\n",
       "    }\n",
       "\n",
       "    .dataframe thead th {\n",
       "        text-align: right;\n",
       "    }\n",
       "</style>\n",
       "<table border=\"1\" class=\"dataframe\">\n",
       "  <thead>\n",
       "    <tr style=\"text-align: right;\">\n",
       "      <th></th>\n",
       "      <th>id</th>\n",
       "      <th>pesid</th>\n",
       "      <th>br</th>\n",
       "      <th>ano_fabricacao_veiculo</th>\n",
       "      <th>idade</th>\n",
       "      <th>ilesos</th>\n",
       "      <th>feridos_leves</th>\n",
       "      <th>feridos_graves</th>\n",
       "      <th>mortos</th>\n",
       "      <th>ano_ocorrencia</th>\n",
       "    </tr>\n",
       "  </thead>\n",
       "  <tbody>\n",
       "    <tr>\n",
       "      <th>id</th>\n",
       "      <td>1.000000</td>\n",
       "      <td>0.999895</td>\n",
       "      <td>-0.016639</td>\n",
       "      <td>0.002997</td>\n",
       "      <td>-0.004915</td>\n",
       "      <td>-0.003403</td>\n",
       "      <td>-0.015519</td>\n",
       "      <td>0.007059</td>\n",
       "      <td>0.009155</td>\n",
       "      <td>0.941269</td>\n",
       "    </tr>\n",
       "    <tr>\n",
       "      <th>pesid</th>\n",
       "      <td>0.999895</td>\n",
       "      <td>1.000000</td>\n",
       "      <td>-0.016772</td>\n",
       "      <td>0.003044</td>\n",
       "      <td>-0.004976</td>\n",
       "      <td>-0.003316</td>\n",
       "      <td>-0.015519</td>\n",
       "      <td>0.007120</td>\n",
       "      <td>0.008501</td>\n",
       "      <td>0.941395</td>\n",
       "    </tr>\n",
       "    <tr>\n",
       "      <th>br</th>\n",
       "      <td>-0.016639</td>\n",
       "      <td>-0.016772</td>\n",
       "      <td>1.000000</td>\n",
       "      <td>-0.004895</td>\n",
       "      <td>0.005793</td>\n",
       "      <td>-0.008583</td>\n",
       "      <td>-0.006173</td>\n",
       "      <td>0.016832</td>\n",
       "      <td>0.010094</td>\n",
       "      <td>-0.018337</td>\n",
       "    </tr>\n",
       "    <tr>\n",
       "      <th>ano_fabricacao_veiculo</th>\n",
       "      <td>0.002997</td>\n",
       "      <td>0.003044</td>\n",
       "      <td>-0.004895</td>\n",
       "      <td>1.000000</td>\n",
       "      <td>0.020196</td>\n",
       "      <td>0.006799</td>\n",
       "      <td>-0.006730</td>\n",
       "      <td>-0.001868</td>\n",
       "      <td>0.000403</td>\n",
       "      <td>0.003785</td>\n",
       "    </tr>\n",
       "    <tr>\n",
       "      <th>idade</th>\n",
       "      <td>-0.004915</td>\n",
       "      <td>-0.004976</td>\n",
       "      <td>0.005793</td>\n",
       "      <td>0.020196</td>\n",
       "      <td>1.000000</td>\n",
       "      <td>0.102326</td>\n",
       "      <td>-0.097173</td>\n",
       "      <td>-0.026290</td>\n",
       "      <td>0.028506</td>\n",
       "      <td>0.001648</td>\n",
       "    </tr>\n",
       "    <tr>\n",
       "      <th>ilesos</th>\n",
       "      <td>-0.003403</td>\n",
       "      <td>-0.003316</td>\n",
       "      <td>-0.008583</td>\n",
       "      <td>0.006799</td>\n",
       "      <td>0.102326</td>\n",
       "      <td>1.000000</td>\n",
       "      <td>-0.645770</td>\n",
       "      <td>-0.306807</td>\n",
       "      <td>-0.160963</td>\n",
       "      <td>-0.002704</td>\n",
       "    </tr>\n",
       "    <tr>\n",
       "      <th>feridos_leves</th>\n",
       "      <td>-0.015519</td>\n",
       "      <td>-0.015519</td>\n",
       "      <td>-0.006173</td>\n",
       "      <td>-0.006730</td>\n",
       "      <td>-0.097173</td>\n",
       "      <td>-0.645770</td>\n",
       "      <td>1.000000</td>\n",
       "      <td>-0.275293</td>\n",
       "      <td>-0.144430</td>\n",
       "      <td>-0.011671</td>\n",
       "    </tr>\n",
       "    <tr>\n",
       "      <th>feridos_graves</th>\n",
       "      <td>0.007059</td>\n",
       "      <td>0.007120</td>\n",
       "      <td>0.016832</td>\n",
       "      <td>-0.001868</td>\n",
       "      <td>-0.026290</td>\n",
       "      <td>-0.306807</td>\n",
       "      <td>-0.275293</td>\n",
       "      <td>1.000000</td>\n",
       "      <td>-0.068619</td>\n",
       "      <td>0.003102</td>\n",
       "    </tr>\n",
       "    <tr>\n",
       "      <th>mortos</th>\n",
       "      <td>0.009155</td>\n",
       "      <td>0.008501</td>\n",
       "      <td>0.010094</td>\n",
       "      <td>0.000403</td>\n",
       "      <td>0.028506</td>\n",
       "      <td>-0.160963</td>\n",
       "      <td>-0.144430</td>\n",
       "      <td>-0.068619</td>\n",
       "      <td>1.000000</td>\n",
       "      <td>0.006521</td>\n",
       "    </tr>\n",
       "    <tr>\n",
       "      <th>ano_ocorrencia</th>\n",
       "      <td>0.941269</td>\n",
       "      <td>0.941395</td>\n",
       "      <td>-0.018337</td>\n",
       "      <td>0.003785</td>\n",
       "      <td>0.001648</td>\n",
       "      <td>-0.002704</td>\n",
       "      <td>-0.011671</td>\n",
       "      <td>0.003102</td>\n",
       "      <td>0.006521</td>\n",
       "      <td>1.000000</td>\n",
       "    </tr>\n",
       "  </tbody>\n",
       "</table>\n",
       "</div>"
      ],
      "text/plain": [
       "                              id     pesid        br  ano_fabricacao_veiculo  \\\n",
       "id                      1.000000  0.999895 -0.016639                0.002997   \n",
       "pesid                   0.999895  1.000000 -0.016772                0.003044   \n",
       "br                     -0.016639 -0.016772  1.000000               -0.004895   \n",
       "ano_fabricacao_veiculo  0.002997  0.003044 -0.004895                1.000000   \n",
       "idade                  -0.004915 -0.004976  0.005793                0.020196   \n",
       "ilesos                 -0.003403 -0.003316 -0.008583                0.006799   \n",
       "feridos_leves          -0.015519 -0.015519 -0.006173               -0.006730   \n",
       "feridos_graves          0.007059  0.007120  0.016832               -0.001868   \n",
       "mortos                  0.009155  0.008501  0.010094                0.000403   \n",
       "ano_ocorrencia          0.941269  0.941395 -0.018337                0.003785   \n",
       "\n",
       "                           idade    ilesos  feridos_leves  feridos_graves  \\\n",
       "id                     -0.004915 -0.003403      -0.015519        0.007059   \n",
       "pesid                  -0.004976 -0.003316      -0.015519        0.007120   \n",
       "br                      0.005793 -0.008583      -0.006173        0.016832   \n",
       "ano_fabricacao_veiculo  0.020196  0.006799      -0.006730       -0.001868   \n",
       "idade                   1.000000  0.102326      -0.097173       -0.026290   \n",
       "ilesos                  0.102326  1.000000      -0.645770       -0.306807   \n",
       "feridos_leves          -0.097173 -0.645770       1.000000       -0.275293   \n",
       "feridos_graves         -0.026290 -0.306807      -0.275293        1.000000   \n",
       "mortos                  0.028506 -0.160963      -0.144430       -0.068619   \n",
       "ano_ocorrencia          0.001648 -0.002704      -0.011671        0.003102   \n",
       "\n",
       "                          mortos  ano_ocorrencia  \n",
       "id                      0.009155        0.941269  \n",
       "pesid                   0.008501        0.941395  \n",
       "br                      0.010094       -0.018337  \n",
       "ano_fabricacao_veiculo  0.000403        0.003785  \n",
       "idade                   0.028506        0.001648  \n",
       "ilesos                 -0.160963       -0.002704  \n",
       "feridos_leves          -0.144430       -0.011671  \n",
       "feridos_graves         -0.068619        0.003102  \n",
       "mortos                  1.000000        0.006521  \n",
       "ano_ocorrencia          0.006521        1.000000  "
      ]
     },
     "execution_count": 254,
     "metadata": {},
     "output_type": "execute_result"
    }
   ],
   "source": [
    "dados.corr()"
   ]
  },
  {
   "cell_type": "code",
   "execution_count": 255,
   "metadata": {},
   "outputs": [
    {
     "data": {
      "text/plain": [
       "Index(['id', 'pesid', 'data_inversa', 'uf', 'br', 'km', 'fase_dia',\n",
       "       'condicao_metereologica', 'tipo_pista', 'tracado_via', 'uso_solo',\n",
       "       'tipo_veiculo', 'ano_fabricacao_veiculo', 'tipo_envolvido',\n",
       "       'estado_fisico', 'idade', 'sexo', 'ilesos', 'feridos_leves',\n",
       "       'feridos_graves', 'mortos', 'ano_ocorrencia'],\n",
       "      dtype='object')"
      ]
     },
     "execution_count": 255,
     "metadata": {},
     "output_type": "execute_result"
    }
   ],
   "source": [
    "dados.columns"
   ]
  },
  {
   "cell_type": "markdown",
   "metadata": {},
   "source": [
    "# A partir da visualização dos principais atributos, será realizado uma junção de dois atributos do dataset : \"mortos\" + \"feridos_graves\". "
   ]
  },
  {
   "cell_type": "code",
   "execution_count": 256,
   "metadata": {},
   "outputs": [
    {
     "data": {
      "text/html": [
       "<div>\n",
       "<style scoped>\n",
       "    .dataframe tbody tr th:only-of-type {\n",
       "        vertical-align: middle;\n",
       "    }\n",
       "\n",
       "    .dataframe tbody tr th {\n",
       "        vertical-align: top;\n",
       "    }\n",
       "\n",
       "    .dataframe thead th {\n",
       "        text-align: right;\n",
       "    }\n",
       "</style>\n",
       "<table border=\"1\" class=\"dataframe\">\n",
       "  <thead>\n",
       "    <tr style=\"text-align: right;\">\n",
       "      <th></th>\n",
       "      <th>feridos_graves</th>\n",
       "      <th>mortos</th>\n",
       "    </tr>\n",
       "  </thead>\n",
       "  <tbody>\n",
       "    <tr>\n",
       "      <th>317124</th>\n",
       "      <td>0</td>\n",
       "      <td>1</td>\n",
       "    </tr>\n",
       "    <tr>\n",
       "      <th>451449</th>\n",
       "      <td>0</td>\n",
       "      <td>0</td>\n",
       "    </tr>\n",
       "    <tr>\n",
       "      <th>21604</th>\n",
       "      <td>0</td>\n",
       "      <td>0</td>\n",
       "    </tr>\n",
       "    <tr>\n",
       "      <th>378157</th>\n",
       "      <td>0</td>\n",
       "      <td>0</td>\n",
       "    </tr>\n",
       "    <tr>\n",
       "      <th>197877</th>\n",
       "      <td>0</td>\n",
       "      <td>0</td>\n",
       "    </tr>\n",
       "    <tr>\n",
       "      <th>202579</th>\n",
       "      <td>0</td>\n",
       "      <td>0</td>\n",
       "    </tr>\n",
       "    <tr>\n",
       "      <th>411698</th>\n",
       "      <td>0</td>\n",
       "      <td>0</td>\n",
       "    </tr>\n",
       "    <tr>\n",
       "      <th>21772</th>\n",
       "      <td>0</td>\n",
       "      <td>0</td>\n",
       "    </tr>\n",
       "    <tr>\n",
       "      <th>183806</th>\n",
       "      <td>0</td>\n",
       "      <td>0</td>\n",
       "    </tr>\n",
       "    <tr>\n",
       "      <th>59967</th>\n",
       "      <td>0</td>\n",
       "      <td>0</td>\n",
       "    </tr>\n",
       "  </tbody>\n",
       "</table>\n",
       "</div>"
      ],
      "text/plain": [
       "        feridos_graves  mortos\n",
       "317124               0       1\n",
       "451449               0       0\n",
       "21604                0       0\n",
       "378157               0       0\n",
       "197877               0       0\n",
       "202579               0       0\n",
       "411698               0       0\n",
       "21772                0       0\n",
       "183806               0       0\n",
       "59967                0       0"
      ]
     },
     "execution_count": 256,
     "metadata": {},
     "output_type": "execute_result"
    }
   ],
   "source": [
    "# CRIANDO O DATAFRAME 'risco_grave\" COM APENAS OS ATRIBUTOS mortos e feridos_graves\n",
    "risco_grave = pd.read_csv(\"database.csv\", sep=';',encoding='latin-1', usecols=[19,20])\n",
    "risco_grave.sample(10)"
   ]
  },
  {
   "cell_type": "code",
   "execution_count": 257,
   "metadata": {},
   "outputs": [
    {
     "name": "stdout",
     "output_type": "stream",
     "text": [
      "<class 'pandas.core.frame.DataFrame'>\n",
      "RangeIndex: 460530 entries, 0 to 460529\n",
      "Data columns (total 2 columns):\n",
      " #   Column          Non-Null Count   Dtype\n",
      "---  ------          --------------   -----\n",
      " 0   feridos_graves  460530 non-null  int64\n",
      " 1   mortos          460530 non-null  int64\n",
      "dtypes: int64(2)\n",
      "memory usage: 7.0 MB\n"
     ]
    }
   ],
   "source": [
    "risco_grave.info()"
   ]
  },
  {
   "cell_type": "code",
   "execution_count": 258,
   "metadata": {},
   "outputs": [
    {
     "data": {
      "text/html": [
       "<div>\n",
       "<style scoped>\n",
       "    .dataframe tbody tr th:only-of-type {\n",
       "        vertical-align: middle;\n",
       "    }\n",
       "\n",
       "    .dataframe tbody tr th {\n",
       "        vertical-align: top;\n",
       "    }\n",
       "\n",
       "    .dataframe thead th {\n",
       "        text-align: right;\n",
       "    }\n",
       "</style>\n",
       "<table border=\"1\" class=\"dataframe\">\n",
       "  <thead>\n",
       "    <tr style=\"text-align: right;\">\n",
       "      <th></th>\n",
       "      <th>feridos_graves</th>\n",
       "      <th>mortos</th>\n",
       "      <th>risco</th>\n",
       "    </tr>\n",
       "  </thead>\n",
       "  <tbody>\n",
       "    <tr>\n",
       "      <th>0</th>\n",
       "      <td>0</td>\n",
       "      <td>0</td>\n",
       "      <td>0</td>\n",
       "    </tr>\n",
       "    <tr>\n",
       "      <th>1</th>\n",
       "      <td>0</td>\n",
       "      <td>0</td>\n",
       "      <td>0</td>\n",
       "    </tr>\n",
       "    <tr>\n",
       "      <th>2</th>\n",
       "      <td>0</td>\n",
       "      <td>0</td>\n",
       "      <td>0</td>\n",
       "    </tr>\n",
       "    <tr>\n",
       "      <th>3</th>\n",
       "      <td>0</td>\n",
       "      <td>0</td>\n",
       "      <td>0</td>\n",
       "    </tr>\n",
       "    <tr>\n",
       "      <th>4</th>\n",
       "      <td>0</td>\n",
       "      <td>0</td>\n",
       "      <td>0</td>\n",
       "    </tr>\n",
       "    <tr>\n",
       "      <th>5</th>\n",
       "      <td>1</td>\n",
       "      <td>0</td>\n",
       "      <td>1</td>\n",
       "    </tr>\n",
       "    <tr>\n",
       "      <th>6</th>\n",
       "      <td>0</td>\n",
       "      <td>0</td>\n",
       "      <td>0</td>\n",
       "    </tr>\n",
       "    <tr>\n",
       "      <th>7</th>\n",
       "      <td>0</td>\n",
       "      <td>0</td>\n",
       "      <td>0</td>\n",
       "    </tr>\n",
       "    <tr>\n",
       "      <th>8</th>\n",
       "      <td>0</td>\n",
       "      <td>0</td>\n",
       "      <td>0</td>\n",
       "    </tr>\n",
       "    <tr>\n",
       "      <th>9</th>\n",
       "      <td>0</td>\n",
       "      <td>0</td>\n",
       "      <td>0</td>\n",
       "    </tr>\n",
       "  </tbody>\n",
       "</table>\n",
       "</div>"
      ],
      "text/plain": [
       "   feridos_graves  mortos  risco\n",
       "0               0       0      0\n",
       "1               0       0      0\n",
       "2               0       0      0\n",
       "3               0       0      0\n",
       "4               0       0      0\n",
       "5               1       0      1\n",
       "6               0       0      0\n",
       "7               0       0      0\n",
       "8               0       0      0\n",
       "9               0       0      0"
      ]
     },
     "execution_count": 258,
     "metadata": {},
     "output_type": "execute_result"
    }
   ],
   "source": [
    "#criando a coluna 'risco', que será a CLASSE do nosso estudo,  para unir(SOMAR) os valores de 'mortos' + 'feridos_graves'\n",
    "risco_grave['risco'] = risco_grave.sum(axis=1)\n",
    "risco_grave.head(10)"
   ]
  },
  {
   "cell_type": "code",
   "execution_count": 259,
   "metadata": {},
   "outputs": [
    {
     "name": "stdout",
     "output_type": "stream",
     "text": [
      " O número de pessoas que morreram ou tiveram ferimentos graves foi: 69270\n",
      " O número de pessoas que morreram  foi: 16003\n",
      " O número de pessoas que tiveram ferimentos graves foi: 53267\n"
     ]
    }
   ],
   "source": [
    "# Somando as mortes com feridos_graves\n",
    "total_risco_grave = risco_grave['risco'].sum()\n",
    "total_mortos = risco_grave['mortos'].sum()\n",
    "total_feridos_graves = risco_grave['feridos_graves'].sum()\n",
    "print( f\" O número de pessoas que morreram ou tiveram ferimentos graves foi: {total_risco_grave}\")\n",
    "print( f\" O número de pessoas que morreram  foi: {total_mortos}\")\n",
    "print( f\" O número de pessoas que tiveram ferimentos graves foi: {total_feridos_graves}\")\n"
   ]
  },
  {
   "cell_type": "code",
   "execution_count": 260,
   "metadata": {},
   "outputs": [
    {
     "data": {
      "text/html": [
       "<div>\n",
       "<style scoped>\n",
       "    .dataframe tbody tr th:only-of-type {\n",
       "        vertical-align: middle;\n",
       "    }\n",
       "\n",
       "    .dataframe tbody tr th {\n",
       "        vertical-align: top;\n",
       "    }\n",
       "\n",
       "    .dataframe thead th {\n",
       "        text-align: right;\n",
       "    }\n",
       "</style>\n",
       "<table border=\"1\" class=\"dataframe\">\n",
       "  <thead>\n",
       "    <tr style=\"text-align: right;\">\n",
       "      <th></th>\n",
       "      <th>risco</th>\n",
       "    </tr>\n",
       "  </thead>\n",
       "  <tbody>\n",
       "    <tr>\n",
       "      <th>0</th>\n",
       "      <td>0</td>\n",
       "    </tr>\n",
       "    <tr>\n",
       "      <th>1</th>\n",
       "      <td>0</td>\n",
       "    </tr>\n",
       "    <tr>\n",
       "      <th>2</th>\n",
       "      <td>0</td>\n",
       "    </tr>\n",
       "    <tr>\n",
       "      <th>3</th>\n",
       "      <td>0</td>\n",
       "    </tr>\n",
       "    <tr>\n",
       "      <th>4</th>\n",
       "      <td>0</td>\n",
       "    </tr>\n",
       "    <tr>\n",
       "      <th>...</th>\n",
       "      <td>...</td>\n",
       "    </tr>\n",
       "    <tr>\n",
       "      <th>460525</th>\n",
       "      <td>0</td>\n",
       "    </tr>\n",
       "    <tr>\n",
       "      <th>460526</th>\n",
       "      <td>0</td>\n",
       "    </tr>\n",
       "    <tr>\n",
       "      <th>460527</th>\n",
       "      <td>0</td>\n",
       "    </tr>\n",
       "    <tr>\n",
       "      <th>460528</th>\n",
       "      <td>1</td>\n",
       "    </tr>\n",
       "    <tr>\n",
       "      <th>460529</th>\n",
       "      <td>0</td>\n",
       "    </tr>\n",
       "  </tbody>\n",
       "</table>\n",
       "<p>460530 rows × 1 columns</p>\n",
       "</div>"
      ],
      "text/plain": [
       "        risco\n",
       "0           0\n",
       "1           0\n",
       "2           0\n",
       "3           0\n",
       "4           0\n",
       "...       ...\n",
       "460525      0\n",
       "460526      0\n",
       "460527      0\n",
       "460528      1\n",
       "460529      0\n",
       "\n",
       "[460530 rows x 1 columns]"
      ]
     },
     "execution_count": 260,
     "metadata": {},
     "output_type": "execute_result"
    }
   ],
   "source": [
    "# removendo os atributos 'mortos' e 'feridos_graves'\n",
    "risco = risco_grave.drop(columns=['mortos', 'feridos_graves'])\n",
    "risco"
   ]
  },
  {
   "cell_type": "code",
   "execution_count": 261,
   "metadata": {},
   "outputs": [],
   "source": [
    "risco_backup = risco.copy()"
   ]
  },
  {
   "cell_type": "code",
   "execution_count": 262,
   "metadata": {},
   "outputs": [
    {
     "data": {
      "text/html": [
       "<div>\n",
       "<style scoped>\n",
       "    .dataframe tbody tr th:only-of-type {\n",
       "        vertical-align: middle;\n",
       "    }\n",
       "\n",
       "    .dataframe tbody tr th {\n",
       "        vertical-align: top;\n",
       "    }\n",
       "\n",
       "    .dataframe thead th {\n",
       "        text-align: right;\n",
       "    }\n",
       "</style>\n",
       "<table border=\"1\" class=\"dataframe\">\n",
       "  <thead>\n",
       "    <tr style=\"text-align: right;\">\n",
       "      <th></th>\n",
       "      <th>risco</th>\n",
       "    </tr>\n",
       "  </thead>\n",
       "  <tbody>\n",
       "    <tr>\n",
       "      <th>0</th>\n",
       "      <td>False</td>\n",
       "    </tr>\n",
       "    <tr>\n",
       "      <th>1</th>\n",
       "      <td>False</td>\n",
       "    </tr>\n",
       "    <tr>\n",
       "      <th>2</th>\n",
       "      <td>False</td>\n",
       "    </tr>\n",
       "    <tr>\n",
       "      <th>3</th>\n",
       "      <td>False</td>\n",
       "    </tr>\n",
       "    <tr>\n",
       "      <th>4</th>\n",
       "      <td>False</td>\n",
       "    </tr>\n",
       "    <tr>\n",
       "      <th>5</th>\n",
       "      <td>True</td>\n",
       "    </tr>\n",
       "    <tr>\n",
       "      <th>6</th>\n",
       "      <td>False</td>\n",
       "    </tr>\n",
       "    <tr>\n",
       "      <th>7</th>\n",
       "      <td>False</td>\n",
       "    </tr>\n",
       "    <tr>\n",
       "      <th>8</th>\n",
       "      <td>False</td>\n",
       "    </tr>\n",
       "    <tr>\n",
       "      <th>9</th>\n",
       "      <td>False</td>\n",
       "    </tr>\n",
       "    <tr>\n",
       "      <th>10</th>\n",
       "      <td>False</td>\n",
       "    </tr>\n",
       "    <tr>\n",
       "      <th>11</th>\n",
       "      <td>False</td>\n",
       "    </tr>\n",
       "    <tr>\n",
       "      <th>12</th>\n",
       "      <td>False</td>\n",
       "    </tr>\n",
       "    <tr>\n",
       "      <th>13</th>\n",
       "      <td>False</td>\n",
       "    </tr>\n",
       "    <tr>\n",
       "      <th>14</th>\n",
       "      <td>False</td>\n",
       "    </tr>\n",
       "    <tr>\n",
       "      <th>15</th>\n",
       "      <td>False</td>\n",
       "    </tr>\n",
       "    <tr>\n",
       "      <th>16</th>\n",
       "      <td>False</td>\n",
       "    </tr>\n",
       "    <tr>\n",
       "      <th>17</th>\n",
       "      <td>False</td>\n",
       "    </tr>\n",
       "    <tr>\n",
       "      <th>18</th>\n",
       "      <td>False</td>\n",
       "    </tr>\n",
       "    <tr>\n",
       "      <th>19</th>\n",
       "      <td>True</td>\n",
       "    </tr>\n",
       "  </tbody>\n",
       "</table>\n",
       "</div>"
      ],
      "text/plain": [
       "    risco\n",
       "0   False\n",
       "1   False\n",
       "2   False\n",
       "3   False\n",
       "4   False\n",
       "5    True\n",
       "6   False\n",
       "7   False\n",
       "8   False\n",
       "9   False\n",
       "10  False\n",
       "11  False\n",
       "12  False\n",
       "13  False\n",
       "14  False\n",
       "15  False\n",
       "16  False\n",
       "17  False\n",
       "18  False\n",
       "19   True"
      ]
     },
     "execution_count": 262,
     "metadata": {},
     "output_type": "execute_result"
    }
   ],
   "source": [
    "#TRANSFORMANDO O DATAFRAME EM BOOLEANO\n",
    "risco2 = risco.astype(bool)\n",
    "risco2.head(20)\n",
    "\n",
    "## VALORES = 0 >>>> ASSUMEM O VALOR FALSE\n",
    "## VALORES DIFERENTES DE 0 >>>> VALOR TRUE >> REPRESENTA OS ACIDENTES FATAIS OU COM RISCO GRAVE"
   ]
  },
  {
   "cell_type": "code",
   "execution_count": 263,
   "metadata": {},
   "outputs": [
    {
     "name": "stdout",
     "output_type": "stream",
     "text": [
      "risco\n",
      "False    391260\n",
      "True      69270\n",
      "dtype: int64\n"
     ]
    }
   ],
   "source": [
    "# Em relação ao agrupamento abaixo, impende informar que os valores \"True\" \n",
    "# NÃO INDICAM o número de pessoas que se acidentaram de forma grave ou morreram. \n",
    "# Esse valor indica o NUMERO DE ACIDENTES em que houve morte ou pessoas gravemente feridas. \n",
    "\n",
    "agrupar_risco= risco2.groupby('risco').size()\n",
    "print(agrupar_risco)"
   ]
  },
  {
   "cell_type": "code",
   "execution_count": 264,
   "metadata": {},
   "outputs": [],
   "source": [
    "# unindo o df dados com o risco2\n",
    "\n",
    "risco_acidentes = pd.concat([dados,risco2], axis=1, join='inner')"
   ]
  },
  {
   "cell_type": "code",
   "execution_count": 266,
   "metadata": {},
   "outputs": [
    {
     "data": {
      "text/plain": [
       "(460530, 23)"
      ]
     },
     "execution_count": 266,
     "metadata": {},
     "output_type": "execute_result"
    }
   ],
   "source": [
    "risco_acidentes.shape\n",
    "#NOVO DATAFRAME COM UMA COLUNA A MAIS, JUSTAMENTE A COLUNA 'risco' QUE SERÁ A NOSSA CLASSE"
   ]
  },
  {
   "cell_type": "markdown",
   "metadata": {},
   "source": [
    "## O dataframe risco_acidentes passa a ser o dataframe de análise, porque nele agora contempla a coluna de valor para esse projeto, no caso a coluna \"risco\""
   ]
  },
  {
   "cell_type": "code",
   "execution_count": 267,
   "metadata": {},
   "outputs": [
    {
     "data": {
      "text/html": [
       "<div>\n",
       "<style scoped>\n",
       "    .dataframe tbody tr th:only-of-type {\n",
       "        vertical-align: middle;\n",
       "    }\n",
       "\n",
       "    .dataframe tbody tr th {\n",
       "        vertical-align: top;\n",
       "    }\n",
       "\n",
       "    .dataframe thead th {\n",
       "        text-align: right;\n",
       "    }\n",
       "</style>\n",
       "<table border=\"1\" class=\"dataframe\">\n",
       "  <thead>\n",
       "    <tr style=\"text-align: right;\">\n",
       "      <th></th>\n",
       "      <th>id</th>\n",
       "      <th>pesid</th>\n",
       "      <th>data_inversa</th>\n",
       "      <th>uf</th>\n",
       "      <th>br</th>\n",
       "      <th>km</th>\n",
       "      <th>fase_dia</th>\n",
       "      <th>condicao_metereologica</th>\n",
       "      <th>tipo_pista</th>\n",
       "      <th>tracado_via</th>\n",
       "      <th>...</th>\n",
       "      <th>tipo_envolvido</th>\n",
       "      <th>estado_fisico</th>\n",
       "      <th>idade</th>\n",
       "      <th>sexo</th>\n",
       "      <th>ilesos</th>\n",
       "      <th>feridos_leves</th>\n",
       "      <th>feridos_graves</th>\n",
       "      <th>mortos</th>\n",
       "      <th>ano_ocorrencia</th>\n",
       "      <th>risco</th>\n",
       "    </tr>\n",
       "  </thead>\n",
       "  <tbody>\n",
       "    <tr>\n",
       "      <th>0</th>\n",
       "      <td>389058</td>\n",
       "      <td>869091</td>\n",
       "      <td>2021-11-10</td>\n",
       "      <td>AM</td>\n",
       "      <td>174</td>\n",
       "      <td>977</td>\n",
       "      <td>Pleno dia</td>\n",
       "      <td>Céu Claro</td>\n",
       "      <td>Simples</td>\n",
       "      <td>Não Informado</td>\n",
       "      <td>...</td>\n",
       "      <td>Passageiro</td>\n",
       "      <td>Lesões Leves</td>\n",
       "      <td>0</td>\n",
       "      <td>Masculino</td>\n",
       "      <td>0</td>\n",
       "      <td>1</td>\n",
       "      <td>0</td>\n",
       "      <td>0</td>\n",
       "      <td>2021</td>\n",
       "      <td>False</td>\n",
       "    </tr>\n",
       "    <tr>\n",
       "      <th>1</th>\n",
       "      <td>364848</td>\n",
       "      <td>812950</td>\n",
       "      <td>2021-06-18</td>\n",
       "      <td>RS</td>\n",
       "      <td>158</td>\n",
       "      <td>566,2</td>\n",
       "      <td>Pleno dia</td>\n",
       "      <td>Céu Claro</td>\n",
       "      <td>Simples</td>\n",
       "      <td>Não Informado</td>\n",
       "      <td>...</td>\n",
       "      <td>Passageiro</td>\n",
       "      <td>Ileso</td>\n",
       "      <td>0</td>\n",
       "      <td>Masculino</td>\n",
       "      <td>1</td>\n",
       "      <td>0</td>\n",
       "      <td>0</td>\n",
       "      <td>0</td>\n",
       "      <td>2021</td>\n",
       "      <td>False</td>\n",
       "    </tr>\n",
       "    <tr>\n",
       "      <th>2</th>\n",
       "      <td>346247</td>\n",
       "      <td>772989</td>\n",
       "      <td>2021-03-14</td>\n",
       "      <td>SC</td>\n",
       "      <td>101</td>\n",
       "      <td>223</td>\n",
       "      <td>Plena Noite</td>\n",
       "      <td>Chuva</td>\n",
       "      <td>Dupla</td>\n",
       "      <td>Não Informado</td>\n",
       "      <td>...</td>\n",
       "      <td>Passageiro</td>\n",
       "      <td>Lesões Leves</td>\n",
       "      <td>0</td>\n",
       "      <td>Ignorado</td>\n",
       "      <td>0</td>\n",
       "      <td>1</td>\n",
       "      <td>0</td>\n",
       "      <td>0</td>\n",
       "      <td>2021</td>\n",
       "      <td>False</td>\n",
       "    </tr>\n",
       "    <tr>\n",
       "      <th>3</th>\n",
       "      <td>404482</td>\n",
       "      <td>904519</td>\n",
       "      <td>2021-12-28</td>\n",
       "      <td>SC</td>\n",
       "      <td>101</td>\n",
       "      <td>50</td>\n",
       "      <td>Pleno dia</td>\n",
       "      <td>Sol</td>\n",
       "      <td>Múltipla</td>\n",
       "      <td>Desvio Temporário</td>\n",
       "      <td>...</td>\n",
       "      <td>Passageiro</td>\n",
       "      <td>Lesões Leves</td>\n",
       "      <td>0</td>\n",
       "      <td>Masculino</td>\n",
       "      <td>0</td>\n",
       "      <td>1</td>\n",
       "      <td>0</td>\n",
       "      <td>0</td>\n",
       "      <td>2021</td>\n",
       "      <td>False</td>\n",
       "    </tr>\n",
       "    <tr>\n",
       "      <th>4</th>\n",
       "      <td>404388</td>\n",
       "      <td>904207</td>\n",
       "      <td>2021-12-27</td>\n",
       "      <td>SC</td>\n",
       "      <td>280</td>\n",
       "      <td>99,1</td>\n",
       "      <td>Pleno dia</td>\n",
       "      <td>Chuva</td>\n",
       "      <td>Simples</td>\n",
       "      <td>Curva</td>\n",
       "      <td>...</td>\n",
       "      <td>Passageiro</td>\n",
       "      <td>Lesões Leves</td>\n",
       "      <td>0</td>\n",
       "      <td>Masculino</td>\n",
       "      <td>0</td>\n",
       "      <td>1</td>\n",
       "      <td>0</td>\n",
       "      <td>0</td>\n",
       "      <td>2021</td>\n",
       "      <td>False</td>\n",
       "    </tr>\n",
       "  </tbody>\n",
       "</table>\n",
       "<p>5 rows × 23 columns</p>\n",
       "</div>"
      ],
      "text/plain": [
       "       id   pesid data_inversa  uf   br     km     fase_dia  \\\n",
       "0  389058  869091   2021-11-10  AM  174    977    Pleno dia   \n",
       "1  364848  812950   2021-06-18  RS  158  566,2    Pleno dia   \n",
       "2  346247  772989   2021-03-14  SC  101    223  Plena Noite   \n",
       "3  404482  904519   2021-12-28  SC  101     50    Pleno dia   \n",
       "4  404388  904207   2021-12-27  SC  280   99,1    Pleno dia   \n",
       "\n",
       "  condicao_metereologica tipo_pista        tracado_via  ... tipo_envolvido  \\\n",
       "0              Céu Claro    Simples      Não Informado  ...     Passageiro   \n",
       "1              Céu Claro    Simples      Não Informado  ...     Passageiro   \n",
       "2                  Chuva      Dupla      Não Informado  ...     Passageiro   \n",
       "3                    Sol   Múltipla  Desvio Temporário  ...     Passageiro   \n",
       "4                  Chuva    Simples              Curva  ...     Passageiro   \n",
       "\n",
       "  estado_fisico  idade       sexo ilesos  feridos_leves feridos_graves  \\\n",
       "0  Lesões Leves      0  Masculino      0              1              0   \n",
       "1         Ileso      0  Masculino      1              0              0   \n",
       "2  Lesões Leves      0   Ignorado      0              1              0   \n",
       "3  Lesões Leves      0  Masculino      0              1              0   \n",
       "4  Lesões Leves      0  Masculino      0              1              0   \n",
       "\n",
       "   mortos  ano_ocorrencia  risco  \n",
       "0       0            2021  False  \n",
       "1       0            2021  False  \n",
       "2       0            2021  False  \n",
       "3       0            2021  False  \n",
       "4       0            2021  False  \n",
       "\n",
       "[5 rows x 23 columns]"
      ]
     },
     "execution_count": 267,
     "metadata": {},
     "output_type": "execute_result"
    }
   ],
   "source": [
    "risco_acidentes.head()"
   ]
  },
  {
   "cell_type": "markdown",
   "metadata": {},
   "source": [
    "# Verificando o balanceamento da coluna alvo [risco]"
   ]
  },
  {
   "cell_type": "code",
   "execution_count": 269,
   "metadata": {},
   "outputs": [
    {
     "data": {
      "text/plain": [
       "Text(0, 0.5, 'Qtide')"
      ]
     },
     "execution_count": 269,
     "metadata": {},
     "output_type": "execute_result"
    },
    {
     "data": {
      "image/png": "[encoded data removed]",
      "text/plain": [
       "<Figure size 432x288 with 1 Axes>"
      ]
     },
     "metadata": {
      "needs_background": "light"
     },
     "output_type": "display_data"
    }
   ],
   "source": [
    "ax = risco_acidentes['risco'].value_counts().plot(kind=\"bar\", title='Risco de ocorrência de acidentes graves')\n",
    "ax.set_xlabel(\"Apresenta Risco GRAVE?\")\n",
    "ax.set_ylabel(\"Qtide\")"
   ]
  },
  {
   "cell_type": "markdown",
   "metadata": {},
   "source": [
    "# Conclusão:  Apresenta desbalanceamento de alto nível, precisaremos aplicar técnicas de balanceamento"
   ]
  },
  {
   "cell_type": "markdown",
   "metadata": {},
   "source": [
    "## - Continua o pré-processamento"
   ]
  },
  {
   "cell_type": "markdown",
   "metadata": {},
   "source": [
    "# Os atributos desnecessários são aqueles que julgo que não possuem alta relevância para o entendimento da situação de risco de um acidente"
   ]
  },
  {
   "cell_type": "code",
   "execution_count": 270,
   "metadata": {},
   "outputs": [
    {
     "data": {
      "text/html": [
       "<div>\n",
       "<style scoped>\n",
       "    .dataframe tbody tr th:only-of-type {\n",
       "        vertical-align: middle;\n",
       "    }\n",
       "\n",
       "    .dataframe tbody tr th {\n",
       "        vertical-align: top;\n",
       "    }\n",
       "\n",
       "    .dataframe thead th {\n",
       "        text-align: right;\n",
       "    }\n",
       "</style>\n",
       "<table border=\"1\" class=\"dataframe\">\n",
       "  <thead>\n",
       "    <tr style=\"text-align: right;\">\n",
       "      <th></th>\n",
       "      <th>uf</th>\n",
       "      <th>br</th>\n",
       "      <th>km</th>\n",
       "      <th>fase_dia</th>\n",
       "      <th>condicao_metereologica</th>\n",
       "      <th>tipo_pista</th>\n",
       "      <th>tracado_via</th>\n",
       "      <th>uso_solo</th>\n",
       "      <th>risco</th>\n",
       "    </tr>\n",
       "  </thead>\n",
       "  <tbody>\n",
       "    <tr>\n",
       "      <th>0</th>\n",
       "      <td>AM</td>\n",
       "      <td>174</td>\n",
       "      <td>977</td>\n",
       "      <td>Pleno dia</td>\n",
       "      <td>Céu Claro</td>\n",
       "      <td>Simples</td>\n",
       "      <td>Não Informado</td>\n",
       "      <td>Não</td>\n",
       "      <td>False</td>\n",
       "    </tr>\n",
       "    <tr>\n",
       "      <th>1</th>\n",
       "      <td>RS</td>\n",
       "      <td>158</td>\n",
       "      <td>566,2</td>\n",
       "      <td>Pleno dia</td>\n",
       "      <td>Céu Claro</td>\n",
       "      <td>Simples</td>\n",
       "      <td>Não Informado</td>\n",
       "      <td>Sim</td>\n",
       "      <td>False</td>\n",
       "    </tr>\n",
       "    <tr>\n",
       "      <th>2</th>\n",
       "      <td>SC</td>\n",
       "      <td>101</td>\n",
       "      <td>223</td>\n",
       "      <td>Plena Noite</td>\n",
       "      <td>Chuva</td>\n",
       "      <td>Dupla</td>\n",
       "      <td>Não Informado</td>\n",
       "      <td>Não</td>\n",
       "      <td>False</td>\n",
       "    </tr>\n",
       "    <tr>\n",
       "      <th>3</th>\n",
       "      <td>SC</td>\n",
       "      <td>101</td>\n",
       "      <td>50</td>\n",
       "      <td>Pleno dia</td>\n",
       "      <td>Sol</td>\n",
       "      <td>Múltipla</td>\n",
       "      <td>Desvio Temporário</td>\n",
       "      <td>Não</td>\n",
       "      <td>False</td>\n",
       "    </tr>\n",
       "    <tr>\n",
       "      <th>4</th>\n",
       "      <td>SC</td>\n",
       "      <td>280</td>\n",
       "      <td>99,1</td>\n",
       "      <td>Pleno dia</td>\n",
       "      <td>Chuva</td>\n",
       "      <td>Simples</td>\n",
       "      <td>Curva</td>\n",
       "      <td>Não</td>\n",
       "      <td>False</td>\n",
       "    </tr>\n",
       "  </tbody>\n",
       "</table>\n",
       "</div>"
      ],
      "text/plain": [
       "   uf   br     km     fase_dia condicao_metereologica tipo_pista  \\\n",
       "0  AM  174    977    Pleno dia              Céu Claro    Simples   \n",
       "1  RS  158  566,2    Pleno dia              Céu Claro    Simples   \n",
       "2  SC  101    223  Plena Noite                  Chuva      Dupla   \n",
       "3  SC  101     50    Pleno dia                    Sol   Múltipla   \n",
       "4  SC  280   99,1    Pleno dia                  Chuva    Simples   \n",
       "\n",
       "         tracado_via uso_solo  risco  \n",
       "0      Não Informado      Não  False  \n",
       "1      Não Informado      Sim  False  \n",
       "2      Não Informado      Não  False  \n",
       "3  Desvio Temporário      Não  False  \n",
       "4              Curva      Não  False  "
      ]
     },
     "execution_count": 270,
     "metadata": {},
     "output_type": "execute_result"
    }
   ],
   "source": [
    "# remover atributos desnecessários\n",
    "risco_acidentes = risco_acidentes.drop(labels = ['pesid', 'id','data_inversa','ano_fabricacao_veiculo', 'tipo_envolvido', 'sexo', 'ilesos', 'idade', 'feridos_leves', 'feridos_graves', 'mortos', 'ano_ocorrencia', 'estado_fisico', 'tipo_veiculo'], axis=1)\n",
    "risco_acidentes.head()"
   ]
  },
  {
   "cell_type": "code",
   "execution_count": 271,
   "metadata": {},
   "outputs": [
    {
     "data": {
      "text/plain": [
       "uf                        0\n",
       "br                        0\n",
       "km                        0\n",
       "fase_dia                  0\n",
       "condicao_metereologica    0\n",
       "tipo_pista                0\n",
       "tracado_via               0\n",
       "uso_solo                  0\n",
       "risco                     0\n",
       "dtype: int64"
      ]
     },
     "execution_count": 271,
     "metadata": {},
     "output_type": "execute_result"
    }
   ],
   "source": [
    "# Consultando linhas com valore faltantes.\n",
    "risco_acidentes.isnull().sum().sort_values(ascending=False)"
   ]
  },
  {
   "cell_type": "code",
   "execution_count": 272,
   "metadata": {},
   "outputs": [
    {
     "name": "stdout",
     "output_type": "stream",
     "text": [
      "<class 'pandas.core.frame.DataFrame'>\n",
      "RangeIndex: 460530 entries, 0 to 460529\n",
      "Data columns (total 9 columns):\n",
      " #   Column                  Non-Null Count   Dtype \n",
      "---  ------                  --------------   ----- \n",
      " 0   uf                      460530 non-null  object\n",
      " 1   br                      460530 non-null  int64 \n",
      " 2   km                      460530 non-null  object\n",
      " 3   fase_dia                460530 non-null  object\n",
      " 4   condicao_metereologica  460530 non-null  object\n",
      " 5   tipo_pista              460530 non-null  object\n",
      " 6   tracado_via             460530 non-null  object\n",
      " 7   uso_solo                460530 non-null  object\n",
      " 8   risco                   460530 non-null  bool  \n",
      "dtypes: bool(1), int64(1), object(7)\n",
      "memory usage: 28.5+ MB\n"
     ]
    }
   ],
   "source": [
    "risco_acidentes.info()"
   ]
  },
  {
   "cell_type": "markdown",
   "metadata": {},
   "source": [
    "# Transformando as variavéis do tipo string e tratando a variável km "
   ]
  },
  {
   "cell_type": "code",
   "execution_count": 273,
   "metadata": {},
   "outputs": [],
   "source": [
    "from sklearn.preprocessing import LabelEncoder"
   ]
  },
  {
   "cell_type": "code",
   "execution_count": 274,
   "metadata": {},
   "outputs": [],
   "source": [
    "transformar_uf = {'AC': 0,\n",
    "    'AL': 1,\n",
    "    'AP': 2,\n",
    "    'AM': 3,\n",
    "    'BA': 4,\n",
    "    'CE': 5,\n",
    "    'DF': 6,\n",
    "    'ES': 7,\n",
    "    'GO': 8,\n",
    "    'MA': 9,\n",
    "    'MT': 10,\n",
    "    'MS': 11,\n",
    "    'MG': 12,\n",
    "    'PA': 13,\n",
    "    'PB': 14,\n",
    "    'PR': 15,\n",
    "    'PE': 16,\n",
    "    'PI': 17,\n",
    "    'RJ': 18,\n",
    "    'RN': 19,\n",
    "    'RS': 20,\n",
    "    'RO': 21,\n",
    "    'RR': 22,\n",
    "    'SC': 23,\n",
    "    'SP': 24,\n",
    "    'SE': 25,\n",
    "    'TO': 26}\n",
    "\n",
    "transformar_fase = {'Plena Noite' : 0, 'Amanhecer' : 1, 'Pleno dia' : 2, 'Anoitecer' : 3}\n",
    "\n",
    "transformar_condicao = {'Céu Claro' : 0, 'Nublado' : 1, 'Chuva' : 2, 'Garoa/Chuvisco' : 3, 'Ignorado' : 4,\n",
    "                                 'Nevoeiro/Neblina' : 5, 'Vento' : 6, 'Sol' : 7,  'Granizo' : 8, 'Neve': 9}\n",
    "\n",
    "tranformar_tipo_pista = {'Múltipla' : 0, 'Dupla' : 1, 'Simples' : 2}\n",
    "\n",
    "\n",
    "transformar_tracado_via = {'Curva' : 0, 'Reta' : 1, 'Viaduto' : 2, 'Interseção de vias' : 3, 'Não Informado' : 4, 'Rotatória' : 5,\n",
    "                         'Desvio Temporário' : 6, 'Retorno Regulamentado' : 7, 'Túnel' : 8, 'Ponte' : 9}\n",
    "\n",
    "transformar_uso_solo = { 'Sim' : 1, 'Não' : 0 }\n",
    "\n",
    "tranformar_risco = { False : 0, True : 1}\n",
    "\n",
    "risco_acidentes.replace({'uf': transformar_uf, \n",
    "                 'fase_dia': transformar_fase,\n",
    "                 'condicao_metereologica' : transformar_condicao,\n",
    "                 'tipo_pista' : tranformar_tipo_pista,\n",
    "                 'tracado_via' : transformar_tracado_via,\n",
    "                 'uso_solo' : transformar_uso_solo,\n",
    "                 'risco' : tranformar_risco ,\n",
    "                }, inplace=True)"
   ]
  },
  {
   "cell_type": "code",
   "execution_count": 275,
   "metadata": {},
   "outputs": [
    {
     "data": {
      "text/html": [
       "<div>\n",
       "<style scoped>\n",
       "    .dataframe tbody tr th:only-of-type {\n",
       "        vertical-align: middle;\n",
       "    }\n",
       "\n",
       "    .dataframe tbody tr th {\n",
       "        vertical-align: top;\n",
       "    }\n",
       "\n",
       "    .dataframe thead th {\n",
       "        text-align: right;\n",
       "    }\n",
       "</style>\n",
       "<table border=\"1\" class=\"dataframe\">\n",
       "  <thead>\n",
       "    <tr style=\"text-align: right;\">\n",
       "      <th></th>\n",
       "      <th>uf</th>\n",
       "      <th>br</th>\n",
       "      <th>km</th>\n",
       "      <th>fase_dia</th>\n",
       "      <th>condicao_metereologica</th>\n",
       "      <th>tipo_pista</th>\n",
       "      <th>tracado_via</th>\n",
       "      <th>uso_solo</th>\n",
       "      <th>risco</th>\n",
       "    </tr>\n",
       "  </thead>\n",
       "  <tbody>\n",
       "    <tr>\n",
       "      <th>0</th>\n",
       "      <td>3</td>\n",
       "      <td>174</td>\n",
       "      <td>977</td>\n",
       "      <td>2</td>\n",
       "      <td>0</td>\n",
       "      <td>2</td>\n",
       "      <td>4</td>\n",
       "      <td>0</td>\n",
       "      <td>0</td>\n",
       "    </tr>\n",
       "    <tr>\n",
       "      <th>1</th>\n",
       "      <td>20</td>\n",
       "      <td>158</td>\n",
       "      <td>566,2</td>\n",
       "      <td>2</td>\n",
       "      <td>0</td>\n",
       "      <td>2</td>\n",
       "      <td>4</td>\n",
       "      <td>1</td>\n",
       "      <td>0</td>\n",
       "    </tr>\n",
       "    <tr>\n",
       "      <th>2</th>\n",
       "      <td>23</td>\n",
       "      <td>101</td>\n",
       "      <td>223</td>\n",
       "      <td>0</td>\n",
       "      <td>2</td>\n",
       "      <td>1</td>\n",
       "      <td>4</td>\n",
       "      <td>0</td>\n",
       "      <td>0</td>\n",
       "    </tr>\n",
       "    <tr>\n",
       "      <th>3</th>\n",
       "      <td>23</td>\n",
       "      <td>101</td>\n",
       "      <td>50</td>\n",
       "      <td>2</td>\n",
       "      <td>7</td>\n",
       "      <td>0</td>\n",
       "      <td>6</td>\n",
       "      <td>0</td>\n",
       "      <td>0</td>\n",
       "    </tr>\n",
       "    <tr>\n",
       "      <th>4</th>\n",
       "      <td>23</td>\n",
       "      <td>280</td>\n",
       "      <td>99,1</td>\n",
       "      <td>2</td>\n",
       "      <td>2</td>\n",
       "      <td>2</td>\n",
       "      <td>0</td>\n",
       "      <td>0</td>\n",
       "      <td>0</td>\n",
       "    </tr>\n",
       "  </tbody>\n",
       "</table>\n",
       "</div>"
      ],
      "text/plain": [
       "   uf   br     km  fase_dia  condicao_metereologica  tipo_pista  tracado_via  \\\n",
       "0   3  174    977         2                       0           2            4   \n",
       "1  20  158  566,2         2                       0           2            4   \n",
       "2  23  101    223         0                       2           1            4   \n",
       "3  23  101     50         2                       7           0            6   \n",
       "4  23  280   99,1         2                       2           2            0   \n",
       "\n",
       "   uso_solo  risco  \n",
       "0         0      0  \n",
       "1         1      0  \n",
       "2         0      0  \n",
       "3         0      0  \n",
       "4         0      0  "
      ]
     },
     "execution_count": 275,
     "metadata": {},
     "output_type": "execute_result"
    }
   ],
   "source": [
    "risco_acidentes.head()"
   ]
  },
  {
   "cell_type": "code",
   "execution_count": 276,
   "metadata": {},
   "outputs": [],
   "source": [
    "labelencoder = LabelEncoder()\n",
    "risco_acidentes['km'] = labelencoder.fit_transform(risco_acidentes['km'])"
   ]
  },
  {
   "cell_type": "code",
   "execution_count": 277,
   "metadata": {},
   "outputs": [
    {
     "name": "stdout",
     "output_type": "stream",
     "text": [
      "<class 'pandas.core.frame.DataFrame'>\n",
      "RangeIndex: 460530 entries, 0 to 460529\n",
      "Data columns (total 9 columns):\n",
      " #   Column                  Non-Null Count   Dtype\n",
      "---  ------                  --------------   -----\n",
      " 0   uf                      460530 non-null  int64\n",
      " 1   br                      460530 non-null  int64\n",
      " 2   km                      460530 non-null  int32\n",
      " 3   fase_dia                460530 non-null  int64\n",
      " 4   condicao_metereologica  460530 non-null  int64\n",
      " 5   tipo_pista              460530 non-null  int64\n",
      " 6   tracado_via             460530 non-null  int64\n",
      " 7   uso_solo                460530 non-null  int64\n",
      " 8   risco                   460530 non-null  int64\n",
      "dtypes: int32(1), int64(8)\n",
      "memory usage: 29.9 MB\n"
     ]
    }
   ],
   "source": [
    "risco_acidentes.info()"
   ]
  },
  {
   "cell_type": "markdown",
   "metadata": {},
   "source": [
    "# Balanceando a variável alvo (RISCO)"
   ]
  },
  {
   "cell_type": "code",
   "execution_count": 278,
   "metadata": {},
   "outputs": [
    {
     "data": {
      "text/plain": [
       "0    391260\n",
       "1     69270\n",
       "Name: risco, dtype: int64"
      ]
     },
     "execution_count": 278,
     "metadata": {},
     "output_type": "execute_result"
    }
   ],
   "source": [
    "# Verifiando a quantidade de valores únicos da coluna risco \n",
    "risco_acidentes.risco.value_counts()"
   ]
  },
  {
   "cell_type": "markdown",
   "metadata": {},
   "source": [
    "# Irei balancear através do valor mais baixo"
   ]
  },
  {
   "cell_type": "code",
   "execution_count": 279,
   "metadata": {},
   "outputs": [],
   "source": [
    "data_analise = risco_acidentes[risco_acidentes.risco==0].sample(69270)"
   ]
  },
  {
   "cell_type": "code",
   "execution_count": 280,
   "metadata": {},
   "outputs": [],
   "source": [
    "data = data_analise.append(risco_acidentes[risco_acidentes.risco==1].sample(69270))"
   ]
  },
  {
   "cell_type": "code",
   "execution_count": 281,
   "metadata": {},
   "outputs": [
    {
     "data": {
      "text/plain": [
       "0    69270\n",
       "1    69270\n",
       "Name: risco, dtype: int64"
      ]
     },
     "execution_count": 281,
     "metadata": {},
     "output_type": "execute_result"
    }
   ],
   "source": [
    "data.risco.value_counts()"
   ]
  },
  {
   "cell_type": "code",
   "execution_count": 283,
   "metadata": {},
   "outputs": [
    {
     "data": {
      "text/plain": [
       "Text(0, 0.5, 'Qtide')"
      ]
     },
     "execution_count": 283,
     "metadata": {},
     "output_type": "execute_result"
    },
    {
     "data": {
      "image/png": "[encoded data removed]",
      "text/plain": [
       "<Figure size 432x288 with 1 Axes>"
      ]
     },
     "metadata": {
      "needs_background": "light"
     },
     "output_type": "display_data"
    }
   ],
   "source": [
    "# a coluna alvo depois de ser balanceada\n",
    "ax = data['risco'].value_counts().plot(kind=\"bar\", title='Risco de ocorrência de acidentes graves')\n",
    "ax.set_xlabel(\"Risco GRAVE?\")\n",
    "ax.set_ylabel(\"Qtide\")"
   ]
  },
  {
   "cell_type": "markdown",
   "metadata": {},
   "source": [
    "## Agora os nossos dados estão devidamente pré-processados para seguirem para aplicação do modelo de machine learning"
   ]
  },
  {
   "cell_type": "markdown",
   "metadata": {},
   "source": [
    "# <font color='red' style='font-size: 30px;'>3. Escolha do algoritmo</font>\n",
    "<hr style='border: 2px solid red;'>"
   ]
  },
  {
   "cell_type": "code",
   "execution_count": null,
   "metadata": {},
   "outputs": [],
   "source": [
    "## SVC\n",
    "<hr>\n",
    "\n",
    "documentação: https://scikit-learn.org/stable/modules/generated/sklearn.svm.SVC.html\n",
    "\n",
    "### Descrição:\n",
    "<p style='font-size: 18px; line-height: 2; margin: 10px 50px; text-align: justify;'> Como o nosso modelo busca prever se há a eminência de risco grave para um possivel acidentes, a resolução deste problema deve se tratar de uma classificação.\n",
    "Ou seja, a nossa máquina preditiva deve ser capaz de classificar o risco grave de um acidente, em verdadeiro ou falso. Dessa forma, o modelo deve se tratar de um classificador.    </p>\n",
    "\n",
    "<p style='font-size: 18px; line-height: 2; margin: 10px 50px; text-align: justify;'> O algoritmo escolhido para este problema é o SVC - Classificação de vetores C-Support. A implementação é baseada em libsvm. O tempo de ajuste escala pelo menos quadraticamente com o número de amostras e pode ser impraticável além de dezenas de milhares de amostras.</p>\n"
   ]
  },
  {
   "cell_type": "code",
   "execution_count": 228,
   "metadata": {},
   "outputs": [],
   "source": [
    "y = risco_acidentes['risco']"
   ]
  },
  {
   "cell_type": "code",
   "execution_count": 229,
   "metadata": {},
   "outputs": [],
   "source": [
    "x = risco_acidentes[['uf', 'br', 'km', 'fase_dia', 'condicao_metereologica', 'tipo_pista',\n",
    "       'tracado_via', 'uso_solo']]"
   ]
  },
  {
   "cell_type": "code",
   "execution_count": 237,
   "metadata": {},
   "outputs": [
    {
     "name": "stdout",
     "output_type": "stream",
     "text": [
      "Treinaremos com 345397 elementos e testaremos com 115133 elementos\n",
      "A acurácia foi 84.96%\n"
     ]
    }
   ],
   "source": [
    "from sklearn.preprocessing import StandardScaler\n",
    "from sklearn.model_selection import train_test_split\n",
    "from sklearn.svm import SVC\n",
    "from sklearn.metrics import accuracy_score\n",
    "\n",
    "SEED = 5\n",
    "np.random.seed(SEED)\n",
    "raw_treino_x, raw_teste_x, treino_y, teste_y = train_test_split(x, y, test_size = 0.25,\n",
    "                                                         stratify = y)\n",
    "print(\"Treinaremos com %d elementos e testaremos com %d elementos\" % (len(treino_x), len(teste_x)))\n",
    "\n",
    "scaler = StandardScaler()\n",
    "scaler.fit(treino_x)\n",
    "treino_x = scaler.transform(raw_treino_x)\n",
    "teste_x = scaler.transform(raw_teste_x)\n",
    "\n",
    "modelo = SVC()\n",
    "modelo.fit(treino_x, treino_y)\n",
    "previsoes = modelo.predict(teste_x)\n",
    "\n",
    "acuracia = accuracy_score(teste_y, previsoes) * 100\n",
    "print(\"A acurácia foi %.2f%%\" % acuracia)"
   ]
  },
  {
   "cell_type": "markdown",
   "metadata": {},
   "source": [
    "## Criando um simulador simples"
   ]
  },
  {
   "cell_type": "code",
   "execution_count": 240,
   "metadata": {},
   "outputs": [],
   "source": [
    "teste = np.array([[25,116.0,3175,3,7,2,1,1]])"
   ]
  },
  {
   "cell_type": "code",
   "execution_count": 241,
   "metadata": {},
   "outputs": [
    {
     "data": {
      "text/plain": [
       "array([0], dtype=int64)"
      ]
     },
     "execution_count": 241,
     "metadata": {},
     "output_type": "execute_result"
    }
   ],
   "source": [
    "modelo.predict(teste)"
   ]
  }
 ],
 "metadata": {
  "kernelspec": {
   "display_name": "Python 3 (ipykernel)",
   "language": "python",
   "name": "python3"
  },
  "language_info": {
   "codemirror_mode": {
    "name": "ipython",
    "version": 3
   },
   "file_extension": ".py",
   "mimetype": "text/x-python",
   "name": "python",
   "nbconvert_exporter": "python",
   "pygments_lexer": "ipython3",
   "version": "3.9.7"
  }
 },
 "nbformat": 4,
 "nbformat_minor": 2
}
