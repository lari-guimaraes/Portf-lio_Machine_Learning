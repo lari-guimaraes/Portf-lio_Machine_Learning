{
 "cells": [
  {
   "cell_type": "markdown",
   "id": "d7764da8",
   "metadata": {},
   "source": [
    "# O Problema OneMax"
   ]
  },
  {
   "cell_type": "markdown",
   "id": "d37c3f0c",
   "metadata": {},
   "source": [
    "O problema OneMax é uma tarefa de otimização simples que é frequentemente usada como o Hello World dos frameworks de algoritmos genéticos. A tarefa do OneMax é encontrar a string binária de um determinado comprimento que maximize a soma de seus dígitos. Por exemplo, o problema OneMax de comprimento 5 considerará candidatos como os seguintes:\n",
    " * 10010 (soma dos dígitos = 2)\n",
    " * 01110 (soma dos dígitos = 3)\n",
    " * 11111 (soma dos dígitos = 5)"
   ]
  },
  {
   "cell_type": "markdown",
   "id": "4150a7d6",
   "metadata": {},
   "source": [
    "# Escolhendo o cromossomo"
   ]
  },
  {
   "cell_type": "markdown",
   "id": "61ac9b98",
   "metadata": {},
   "source": [
    "* Como o problema do OneMax lida com strings binárias, a escolha do cromossomo é fácil - cada indivíduo será representado com uma string binária que representa diretamente uma solução candidata. Na implementação real do Python, isso será implementado como uma lista contendo valores inteiros de 0 ou 1. O comprimento do cromossomo corresponde ao tamanho do problema OneMax. Por exemplo, para um problema OneMax de tamanho 5, o indivíduo 10010 será representado pela lista [1, 0, 0, 1, 0]."
   ]
  },
  {
   "cell_type": "markdown",
   "id": "b0172662",
   "metadata": {},
   "source": [
    "# Implementação do Algoritmo"
   ]
  },
  {
   "cell_type": "code",
   "execution_count": 19,
   "id": "5132ba45",
   "metadata": {},
   "outputs": [
    {
     "name": "stdout",
     "output_type": "stream",
     "text": [
      "Requirement already satisfied: deap in c:\\users\\laris\\anaconda3\\lib\\site-packages (1.3.1)\n",
      "Requirement already satisfied: numpy in c:\\users\\laris\\anaconda3\\lib\\site-packages (from deap) (1.20.3)\n"
     ]
    }
   ],
   "source": [
    "# importação de bibliotecas\n",
    "\n",
    "!pip install deap\n",
    "\n",
    "from deap import base\n",
    "from deap import creator\n",
    "from deap import tools\n",
    "\n",
    "import random\n",
    "import matplotlib.pyplot as plt\n",
    "import seaborn as sns"
   ]
  },
  {
   "cell_type": "markdown",
   "id": "2778b948",
   "metadata": {},
   "source": [
    "* Próximo passo, é declarar as constantes que irão ser os parametros para o problema e ajudarão a controlar o comportamento do algoritmo genético"
   ]
  },
  {
   "cell_type": "code",
   "execution_count": 5,
   "id": "67a9066f",
   "metadata": {},
   "outputs": [],
   "source": [
    "# contantes do problema:\n",
    "comprimento_onemax = 100  # comprimento da cadeia a ser otimizada\n",
    "\n",
    "# Constantes do Algoritmo Genetico:\n",
    "tamanho_populacao = 200\n",
    "p_crossover = 0.9  # probabilidade para crossover\n",
    "p_mutacao = 0.1   # probabilidade para  mutação de um individuo\n",
    "max_geracoes = 50"
   ]
  },
  {
   "cell_type": "markdown",
   "id": "7bcb924c",
   "metadata": {},
   "source": [
    "* Um aspecto muito importante do algoritmo genético é o uso de probabilidade, que introz um elemento aleatório (randômico) para o comportamento do algoritmo. A seguir será definido um valor constante a função random. É valido lembrar, que para valores diferentes, o algoritmo também dará resultados diferentes. "
   ]
  },
  {
   "cell_type": "code",
   "execution_count": 7,
   "id": "12611b30",
   "metadata": {},
   "outputs": [],
   "source": [
    "# configurando o random seed:\n",
    "random_seed = 42\n",
    "random.seed(random_seed)"
   ]
  },
  {
   "cell_type": "markdown",
   "id": "8bdd1709",
   "metadata": {},
   "source": [
    "* Próximo passo, é utilizar uma função para criar um operador 0 ou 1, que customiza a função random.randomint(a,b), retornando um valor N inteiro que respeita a <= N <= b"
   ]
  },
  {
   "cell_type": "code",
   "execution_count": 8,
   "id": "18be9cd1",
   "metadata": {},
   "outputs": [],
   "source": [
    "# Criando um operador randomico que retorna 0 ou 1:\n",
    "toolbox = base.Toolbox()\n",
    "toolbox.register(\"zeroOuUm\", random.randint, 0, 1)\n"
   ]
  },
  {
   "cell_type": "markdown",
   "id": "85448cad",
   "metadata": {},
   "source": [
    "* Agora é preciso criar o que é chamado de classe Fitness. Para alcançar o objetivo do algoritmo, utilizamos a estratégi FItnessMax, usando uma tupla de pesos com um único peso positivo."
   ]
  },
  {
   "cell_type": "code",
   "execution_count": 9,
   "id": "e034219e",
   "metadata": {},
   "outputs": [],
   "source": [
    "# definindo um objetivo unico, maximizando a fitness strategy:\n",
    "creator.create(\"FitnessMax\", base.Fitness, weights=(1.0,))\n"
   ]
  },
  {
   "cell_type": "markdown",
   "id": "1bf007de",
   "metadata": {},
   "source": [
    "* Utilizando a biblioteca DEAP, é convenção utilizar uma classe chamada Individual para representar cada um dos individuos de uma população. A classe é criada com o objetivo de ajudar a ferramente creator. "
   ]
  },
  {
   "cell_type": "code",
   "execution_count": 10,
   "id": "27e15ea6",
   "metadata": {},
   "outputs": [],
   "source": [
    "# criando a classe Individual na lista\n",
    "creator.create(\"Individual\", list, fitness=creator.FitnessMax)"
   ]
  },
  {
   "cell_type": "markdown",
   "id": "57badbe3",
   "metadata": {},
   "source": [
    "* AGora iremos registrar o operador individualCreator, ele tem a função de criar uma instância na classe Individual, preenchido de valores aleatorios de 0 ou 1. Logo depois, criaremos um operador população que irá gerar uma lista de individuos. "
   ]
  },
  {
   "cell_type": "code",
   "execution_count": 13,
   "id": "594953de",
   "metadata": {},
   "outputs": [],
   "source": [
    "# criando o operador individual operator para preenchimento da classe Individual:\n",
    "toolbox.register(\"individualCreator\", tools.initRepeat, creator.Individual, toolbox.zeroOuUm, comprimento_onemax)\n",
    "\n",
    "# criando o operador populacao  para gerar uma lista de individuos:\n",
    "toolbox.register(\"populationCreator\", tools.initRepeat, list, toolbox.individualCreator)"
   ]
  },
  {
   "cell_type": "markdown",
   "id": "3b7a1cd3",
   "metadata": {},
   "source": [
    "* Para facilitar o calculo de condicionamento (evaluation na terminologia DEAP), iremos começar definindo uma função autônoma que aceita uma instancia da classe Individual e retorna a condinção referente. "
   ]
  },
  {
   "cell_type": "code",
   "execution_count": 14,
   "id": "1024289f",
   "metadata": {},
   "outputs": [],
   "source": [
    "# calculo de condicionamento:\n",
    "# calcular o número de 1's no indivíduo\n",
    "def oneMaxFitness(individual):\n",
    "    return sum(individual),  # retorna uma tupla"
   ]
  },
  {
   "cell_type": "markdown",
   "id": "c8a5d724",
   "metadata": {},
   "source": [
    "* Por fim, determinamos um operador evaluate como um apeliado para a função oneMaxFitness() que foi definido anteriormente"
   ]
  },
  {
   "cell_type": "code",
   "execution_count": 15,
   "id": "368b4db0",
   "metadata": {},
   "outputs": [],
   "source": [
    "toolbox.register(\"evaluate\", oneMaxFitness)\n"
   ]
  },
  {
   "cell_type": "markdown",
   "id": "b535dbff",
   "metadata": {},
   "source": [
    "* Os operadores genericos são tipicamente criados por função existentes apelidadas de um módulo de ferramentas(tools) e são parametrizados conforme necessário. Aqui, foi escolhido 3 argumentos:\n",
    "    * seleção de torneio com um tamanho de torneio de 3\n",
    "    * crossover de ponto único\n",
    "    * mutação de flip-bit"
   ]
  },
  {
   "cell_type": "code",
   "execution_count": 16,
   "id": "701e9343",
   "metadata": {},
   "outputs": [],
   "source": [
    "# Operadores genéticos:\n",
    "\n",
    "# seleção de torneio com um tamanho de torneio de 3:\n",
    "toolbox.register(\"select\", tools.selTournament, tournsize=3)\n",
    "\n",
    "# crossover de ponto único:\n",
    "toolbox.register(\"mate\", tools.cxOnePoint)\n",
    "\n",
    "# mutação de flip-bit:\n",
    "# indpb: Probabilidade independente para cada atributo ser invertido - (Independent probability for each attribute to be flipped)\n",
    "toolbox.register(\"mutate\", tools.mutFlipBit, indpb=1.0/comprimento_onemax)"
   ]
  },
  {
   "cell_type": "markdown",
   "id": "52c0e0d7",
   "metadata": {},
   "source": [
    "# Solução do algoritmo"
   ]
  },
  {
   "cell_type": "markdown",
   "id": "dfc2df0e",
   "metadata": {},
   "source": [
    "* A resolução será aplicada em um função main(). \n",
    " \n",
    "    1. Primeiro passo é criar um população inicial utilizando o operador populationCreator que foi definido anteriormente. \n",
    "    2. Segundo passo é calcular o condicionamento (fitness) para cada individuo da população inicial utilizando a função map() do próprio Python paa aplicar o operador evaluate para cada item da população.\n",
    "    3. Depois, uma vez que os itens de fitnessValues respectivamente correspondem aos da população (que é uma lista de indivíduos), iremos usar a função zip() para combiná-los e atribuir a tupla de aptidão correspondente a cada indivíduo.\n",
    "    4. Quarto passo, como temos a objetivo único apto (fitness), extraímos o primeiro valor de cada aptidão para coletar estatísticas.\n",
    "    5. Logo após, a estatística coletada será o valor máximo de fitness e o valor médio (médio) de fitness para cada geração, duas listas serão utilizadas para o seu propósito.\n",
    "    6. Finalmente o algoritmo está pronto para o circuito principal do fluxo genético. No topo do loop encontramos as condições de parada.\n",
    "    7. O contador de geração é atualizado em seguida, e é usado pela condição de parada.\n",
    "    8. O ponto central do algoritmo genetico são os operadores genéticos, que serão aplicados utilizando a função toolbox.select().\n",
    "    9. Os individuos selecionados estão alocados em uma lista chamada offspring, e serão clonados para que possamos aplicar os operadores geneticos sem afetar a população original.\n",
    "    10. Neste passo, será aplicado o operador genetico crossover. Através da programação em Python é possivel aplicar fatias estendidas para emparelhar cada item indexado par da lista de descendentes com o seguinte.\n",
    "    11. O ultimo operador genetico a ser aplicado é o de mutação. Interando em cada item de toda offspring, o operador ira aplicar a probabilidade configurada de acordo com a probabilidade constante de mutação, p_mutacao. \n",
    "    12. Individuos que não foram alterados pelos operadores crossover ou de mutação, e que tiveram seus valor condicionados (fitness), e que foram calculados na geração anterior, não precisam ser calculados novamente. Ao resto dos individuos, terá atribuição de valor vazio.\n",
    "    13. Os operadores geneticos estão prontos. Já podemos substituir a populção antiga pela nova população.\n",
    "    14. Os valores de aptidão atuais são coletados para permitir a coleta de estatísticas.\n",
    "    15. O maximo e media dos valores condicionados (fitness)  são encontrados, e estes valores são adicionados aos acumuladores de estatisticas.\n",
    "    16. Além disso, localizamos o índice do (primeiro) melhor indivíduo usando o valor máximo de aptidão que acabamos de encontrar e imprimimos esse indivídu.\n",
    "    17. Para finalizar, são aplicadas funções gráficas para analise. "
   ]
  },
  {
   "cell_type": "code",
   "execution_count": 20,
   "id": "dc0a47b4",
   "metadata": {},
   "outputs": [
    {
     "name": "stdout",
     "output_type": "stream",
     "text": [
      "- Generation 1: Max Fitness = 65.0, Avg Fitness = 54.195\n",
      "Best Individual =  0 1 0 1 1 1 1 0 0 1 1 1 1 1 1 1 1 0 0 1 1 1 0 1 1 1 1 0 0 1 0 1 0 1 1 1 1 1 0 1 0 1 0 1 1 1 0 0 1 1 1 0 1 0 1 1 1 0 0 0 0 0 1 1 1 1 0 1 1 1 1 0 1 1 0 1 1 0 0 1 1 1 1 1 1 1 0 1 1 1 0 1 0 1 0 1 0 0 1 0 \n",
      "\n",
      "- Generation 2: Max Fitness = 67.0, Avg Fitness = 57.3\n",
      "Best Individual =  1 1 1 0 1 1 0 1 1 0 1 0 1 1 1 1 1 0 0 0 1 1 1 0 0 1 0 0 1 0 1 0 1 0 1 1 0 1 1 1 0 0 1 1 1 0 1 1 1 0 1 1 0 1 0 1 0 1 1 0 1 1 1 1 0 1 1 1 1 0 1 0 1 1 0 1 1 1 1 1 1 1 0 0 1 1 1 1 0 1 0 1 0 0 1 1 1 1 1 1 \n",
      "\n",
      "- Generation 3: Max Fitness = 69.0, Avg Fitness = 60.51\n",
      "Best Individual =  0 1 0 1 1 1 1 0 0 1 1 1 1 1 1 1 1 0 0 1 1 1 0 1 1 1 1 0 0 1 0 1 0 1 1 1 1 1 0 1 0 1 0 1 1 0 1 0 0 1 1 0 0 1 0 0 1 1 1 1 1 0 1 1 1 1 1 1 1 1 1 0 1 0 0 1 1 1 1 0 1 0 1 1 1 0 1 1 1 0 1 1 1 1 0 1 1 0 1 1 \n",
      "\n",
      "- Generation 4: Max Fitness = 74.0, Avg Fitness = 63.95\n",
      "Best Individual =  1 1 1 0 1 1 0 1 1 0 1 1 0 1 0 0 1 1 1 1 1 0 0 1 1 0 1 1 1 1 1 1 0 1 1 1 1 1 1 1 1 1 1 1 1 0 1 1 1 0 1 1 0 1 0 1 0 1 1 0 1 1 1 1 1 1 0 1 1 0 1 0 1 1 0 1 1 1 1 1 1 1 0 0 1 1 1 1 0 1 0 1 0 0 1 1 1 1 1 1 \n",
      "\n",
      "- Generation 5: Max Fitness = 74.0, Avg Fitness = 66.695\n",
      "Best Individual =  0 1 0 1 1 1 1 0 0 1 1 1 1 1 1 1 1 0 0 1 1 1 0 1 1 1 1 1 1 1 1 1 0 1 1 1 0 1 0 1 1 0 1 0 1 1 1 0 1 0 1 0 1 1 1 1 0 1 1 1 1 1 1 1 1 0 1 1 1 0 1 0 1 1 0 1 1 1 1 1 1 1 0 0 1 1 1 1 0 1 0 1 0 0 1 1 1 1 1 1 \n",
      "\n",
      "- Generation 6: Max Fitness = 76.0, Avg Fitness = 69.285\n",
      "Best Individual =  1 1 0 1 1 0 1 1 1 1 0 1 1 0 1 1 1 1 1 1 0 1 0 0 0 1 0 1 1 1 1 1 0 1 1 1 1 1 1 1 1 1 1 1 1 1 1 1 0 1 1 1 1 1 1 1 1 1 0 0 1 0 0 1 1 1 1 1 1 1 1 1 1 0 0 1 1 0 1 1 1 0 0 1 1 1 1 1 0 0 1 1 0 1 1 1 1 1 0 1 \n",
      "\n",
      "- Generation 7: Max Fitness = 78.0, Avg Fitness = 71.555\n",
      "Best Individual =  1 1 1 1 1 0 1 1 1 1 0 1 1 0 1 1 1 1 1 1 0 1 0 0 0 1 0 1 1 1 1 1 0 1 1 1 1 1 1 1 1 1 1 1 1 1 1 1 0 1 1 1 1 1 1 1 0 1 1 1 1 1 1 1 1 0 1 1 1 0 0 1 1 0 1 0 1 1 1 1 1 1 1 0 1 1 0 0 0 0 1 1 1 1 1 1 1 1 0 1 \n",
      "\n",
      "- Generation 8: Max Fitness = 79.0, Avg Fitness = 73.59\n",
      "Best Individual =  1 1 1 1 0 1 1 1 1 1 0 1 1 0 1 1 1 1 1 1 0 1 0 0 0 1 0 1 1 1 1 1 0 1 1 1 1 1 1 1 1 1 1 1 1 0 1 1 0 1 1 1 1 1 1 1 0 1 1 1 1 1 1 1 1 0 1 1 1 0 1 0 1 1 0 1 1 1 1 1 1 1 1 1 1 0 0 0 1 1 1 1 0 0 1 1 1 1 1 1 \n",
      "\n",
      "- Generation 9: Max Fitness = 79.0, Avg Fitness = 75.43\n",
      "Best Individual =  1 1 0 1 1 0 1 1 0 1 1 1 1 1 1 1 1 1 1 1 0 1 0 0 0 1 0 1 1 1 1 1 0 1 1 1 0 1 0 1 1 1 1 1 1 1 1 1 0 1 1 1 1 1 1 0 1 1 1 1 1 1 1 1 1 1 1 1 1 1 1 0 1 1 1 0 1 1 1 1 1 1 1 0 1 1 0 0 0 0 1 1 1 1 1 1 1 1 0 1 \n",
      "\n",
      "- Generation 10: Max Fitness = 81.0, Avg Fitness = 76.845\n",
      "Best Individual =  1 1 1 1 1 0 1 1 0 1 1 1 1 1 1 1 1 1 1 1 1 0 0 1 1 0 1 1 1 1 1 1 1 1 1 1 1 1 1 1 1 1 1 1 1 0 1 1 1 0 1 1 0 1 0 1 0 1 1 1 1 0 1 1 1 1 1 1 1 1 1 1 1 1 0 1 1 1 1 1 1 1 0 0 1 0 1 1 0 1 0 1 0 0 1 1 1 1 1 1 \n",
      "\n",
      "- Generation 11: Max Fitness = 82.0, Avg Fitness = 78.135\n",
      "Best Individual =  1 1 1 1 1 0 1 1 1 1 1 1 1 1 1 1 1 0 0 1 1 1 0 1 1 1 1 0 1 1 1 1 0 1 1 1 1 1 1 1 1 1 1 1 1 1 1 1 0 1 1 1 1 1 1 0 1 1 1 1 1 0 1 1 1 1 1 1 1 1 1 0 1 0 1 1 1 0 0 0 1 1 0 1 1 1 1 1 1 0 1 1 1 1 0 1 1 0 1 1 \n",
      "\n",
      "- Generation 12: Max Fitness = 85.0, Avg Fitness = 79.45\n",
      "Best Individual =  1 1 1 1 1 0 1 1 0 1 1 1 1 1 1 1 1 1 1 1 1 0 0 1 1 0 1 1 1 1 1 1 1 1 1 1 1 1 1 1 1 1 1 1 1 0 0 1 1 1 1 1 1 1 0 1 0 1 1 1 1 1 1 1 1 1 1 1 1 1 1 0 1 1 1 0 1 1 1 1 1 1 1 0 1 1 0 1 0 1 1 1 1 1 0 1 1 1 1 1 \n",
      "\n",
      "- Generation 13: Max Fitness = 86.0, Avg Fitness = 80.905\n",
      "Best Individual =  1 1 1 1 1 0 1 1 1 1 1 1 1 1 1 1 1 0 0 1 1 1 0 1 1 1 1 0 1 1 1 1 0 1 1 1 1 1 1 1 1 1 1 1 1 1 1 1 0 1 1 1 1 1 1 0 1 1 1 1 1 0 1 1 1 1 1 1 1 1 1 0 1 1 0 1 1 1 1 1 1 1 1 1 1 0 1 1 1 0 1 1 1 1 0 1 1 1 1 1 \n",
      "\n",
      "- Generation 14: Max Fitness = 86.0, Avg Fitness = 82.365\n",
      "Best Individual =  1 1 1 1 1 0 1 1 1 1 1 1 1 1 1 1 1 0 0 1 1 1 0 1 1 1 1 0 1 1 1 1 0 1 1 1 1 1 1 1 1 1 1 1 1 1 1 1 0 1 1 1 1 1 1 0 1 1 1 1 1 0 1 1 1 1 1 1 1 1 1 1 1 1 0 1 1 1 1 1 1 1 1 1 1 0 0 0 1 1 1 1 1 1 1 1 1 1 0 1 \n",
      "\n",
      "- Generation 15: Max Fitness = 87.0, Avg Fitness = 83.59\n",
      "Best Individual =  1 1 1 1 1 0 1 1 1 1 1 1 1 1 1 1 1 0 0 1 1 1 0 1 1 0 1 1 1 1 1 1 1 1 1 1 1 1 1 1 1 1 1 1 1 0 0 1 1 1 1 1 1 1 1 1 1 1 1 1 1 1 1 1 1 0 1 1 1 1 1 0 1 1 0 1 1 1 1 1 1 1 1 1 1 0 1 1 1 0 1 1 1 1 0 1 1 1 1 1 \n",
      "\n",
      "- Generation 16: Max Fitness = 89.0, Avg Fitness = 84.76\n",
      "Best Individual =  1 1 1 1 1 0 1 1 1 1 1 1 1 1 1 1 1 1 1 1 1 0 0 1 1 0 1 1 1 1 1 1 0 1 1 1 1 1 1 1 1 1 1 1 1 1 1 1 0 1 1 1 1 1 1 0 1 1 1 1 1 1 1 1 1 1 1 1 1 1 1 0 1 1 1 1 1 1 1 1 1 1 1 1 1 0 1 1 1 0 1 1 1 1 0 1 1 1 1 1 \n",
      "\n",
      "- Generation 17: Max Fitness = 90.0, Avg Fitness = 85.855\n",
      "Best Individual =  1 1 1 1 1 0 1 1 1 1 1 1 1 1 1 1 1 1 1 1 1 1 0 1 1 1 1 1 1 1 1 1 1 1 1 1 1 1 1 1 1 1 1 1 1 1 1 1 0 1 1 1 1 1 1 0 1 1 1 1 1 0 1 1 1 1 1 1 1 1 1 1 1 1 0 1 1 1 1 1 1 1 1 1 1 0 0 0 1 1 1 1 1 1 1 1 1 1 0 1 \n",
      "\n",
      "- Generation 18: Max Fitness = 91.0, Avg Fitness = 86.695\n",
      "Best Individual =  1 1 1 1 1 1 1 1 0 1 1 1 1 1 1 1 1 1 1 1 1 1 0 1 1 1 1 1 1 1 1 1 0 1 1 1 1 1 1 1 1 1 1 1 1 1 1 1 0 1 1 1 1 1 1 1 1 1 1 1 1 1 1 1 1 1 1 1 1 1 1 0 1 1 0 1 1 1 1 1 1 1 1 1 1 0 1 1 1 0 1 1 1 1 0 1 1 1 1 1 \n",
      "\n",
      "- Generation 19: Max Fitness = 91.0, Avg Fitness = 87.59\n",
      "Best Individual =  1 1 1 1 1 0 1 1 1 1 1 1 1 1 1 1 1 1 1 1 1 1 0 1 1 1 1 1 1 1 1 1 1 1 1 1 1 1 1 1 1 1 1 1 1 1 1 1 0 1 1 1 1 1 1 1 1 1 1 1 1 1 1 1 1 1 1 1 1 1 1 0 1 1 1 0 1 1 1 1 1 1 1 0 1 1 0 1 0 1 1 1 1 1 0 1 1 1 1 1 \n",
      "\n",
      "- Generation 20: Max Fitness = 94.0, Avg Fitness = 88.465\n",
      "Best Individual =  1 1 1 1 1 0 1 1 1 1 1 1 1 1 1 1 1 1 1 1 1 1 0 1 1 1 1 1 1 1 1 1 1 1 1 1 1 1 1 1 1 1 1 1 1 1 1 1 0 1 1 1 1 1 1 1 1 1 1 1 1 1 1 1 1 1 1 1 1 1 1 0 1 1 1 1 1 1 1 1 1 1 1 1 1 0 1 1 1 1 1 1 1 1 0 1 1 1 1 1 \n",
      "\n",
      "- Generation 21: Max Fitness = 94.0, Avg Fitness = 89.385\n",
      "Best Individual =  1 1 1 1 1 0 1 1 1 1 1 1 1 1 1 1 1 1 1 1 1 1 0 1 1 1 1 1 1 1 1 1 1 1 1 1 1 1 1 1 1 1 1 1 1 1 1 1 1 1 1 1 1 1 1 1 0 1 1 1 1 1 1 1 1 1 1 1 1 1 1 0 1 1 1 1 1 1 1 1 1 1 1 1 1 0 1 1 1 1 1 1 1 1 0 1 1 1 1 1 \n",
      "\n",
      "- Generation 22: Max Fitness = 96.0, Avg Fitness = 90.625\n",
      "Best Individual =  1 1 1 1 1 0 1 1 1 1 1 1 1 1 1 1 1 1 1 1 1 1 0 1 1 1 1 1 1 1 1 1 1 1 1 1 1 1 1 1 1 1 1 1 1 1 1 1 1 1 1 1 1 1 1 1 1 1 1 1 1 1 1 1 1 1 1 1 1 1 1 0 1 1 1 1 1 1 1 1 1 1 1 1 1 0 1 1 1 1 1 1 1 1 1 1 1 1 1 1 \n",
      "\n",
      "- Generation 23: Max Fitness = 97.0, Avg Fitness = 91.8\n",
      "Best Individual =  1 1 1 1 1 1 0 1 1 1 1 1 1 1 1 1 1 1 1 1 1 1 0 1 1 1 1 1 1 1 1 1 1 1 1 1 1 1 1 1 1 1 1 1 1 1 1 1 1 1 1 1 1 1 1 1 1 1 1 1 1 1 1 1 1 1 1 1 1 1 1 1 1 1 1 1 1 1 1 1 1 1 1 1 1 0 1 1 1 1 1 1 1 1 1 1 1 1 1 1 \n",
      "\n",
      "- Generation 24: Max Fitness = 97.0, Avg Fitness = 92.795\n",
      "Best Individual =  1 1 1 1 1 1 1 1 0 1 1 1 1 1 1 1 1 1 1 1 1 1 0 1 1 1 1 1 1 1 1 1 1 1 1 1 1 1 1 1 1 1 1 1 1 1 1 1 1 1 1 1 1 1 1 1 1 1 1 1 1 1 1 1 1 1 1 1 1 1 1 1 1 1 1 1 1 1 1 1 1 1 1 1 1 0 1 1 1 1 1 1 1 1 1 1 1 1 1 1 \n",
      "\n",
      "- Generation 25: Max Fitness = 97.0, Avg Fitness = 94.17\n",
      "Best Individual =  1 1 1 1 1 1 1 1 0 1 1 1 1 1 1 1 1 1 1 1 1 1 0 1 1 1 1 1 1 1 1 1 1 1 1 1 1 1 1 1 1 1 1 1 1 1 1 1 1 1 1 1 1 1 1 1 1 1 1 1 1 1 1 1 1 1 1 1 1 1 1 1 1 1 1 1 1 1 1 1 1 1 1 1 1 0 1 1 1 1 1 1 1 1 1 1 1 1 1 1 \n",
      "\n",
      "- Generation 26: Max Fitness = 98.0, Avg Fitness = 95.205\n",
      "Best Individual =  1 1 1 1 1 1 1 1 1 1 1 1 1 1 1 1 1 1 1 1 1 1 0 1 1 1 1 1 1 1 1 1 1 1 1 1 1 1 1 1 1 1 1 1 1 1 1 1 1 1 1 1 1 1 1 1 1 1 1 1 1 1 1 1 1 1 1 1 1 1 1 1 1 1 1 1 1 1 1 1 1 1 1 1 1 0 1 1 1 1 1 1 1 1 1 1 1 1 1 1 \n",
      "\n",
      "- Generation 27: Max Fitness = 98.0, Avg Fitness = 95.84\n",
      "Best Individual =  1 1 1 1 1 1 1 1 1 1 1 1 1 1 1 1 1 1 1 1 1 1 0 1 1 1 1 1 1 1 1 1 1 1 1 1 1 1 1 1 1 1 1 1 1 1 1 1 1 1 1 1 1 1 1 1 1 1 1 1 1 1 1 1 1 1 1 1 1 1 1 1 1 1 1 1 1 1 1 1 1 1 1 1 1 0 1 1 1 1 1 1 1 1 1 1 1 1 1 1 \n",
      "\n",
      "- Generation 28: Max Fitness = 98.0, Avg Fitness = 96.25\n",
      "Best Individual =  1 1 1 1 1 1 1 1 1 1 1 1 1 1 1 1 1 1 1 1 1 1 0 1 1 1 1 1 1 1 1 1 1 1 1 1 1 1 1 1 1 1 1 1 1 1 1 1 1 1 1 1 1 1 1 1 1 1 1 1 1 1 1 1 1 1 1 1 1 1 1 1 1 1 1 1 1 1 1 1 1 1 1 1 1 0 1 1 1 1 1 1 1 1 1 1 1 1 1 1 \n",
      "\n",
      "- Generation 29: Max Fitness = 98.0, Avg Fitness = 96.7\n",
      "Best Individual =  1 1 1 1 1 1 1 1 1 1 1 1 1 1 1 1 1 1 1 1 1 1 0 1 1 1 1 1 1 1 1 1 1 1 1 1 1 1 1 1 1 1 1 1 1 1 1 1 1 1 1 1 1 1 1 1 1 1 1 1 1 1 1 1 1 1 1 1 1 1 1 1 1 1 1 1 1 1 1 1 1 1 1 1 1 0 1 1 1 1 1 1 1 1 1 1 1 1 1 1 \n",
      "\n",
      "- Generation 30: Max Fitness = 98.0, Avg Fitness = 97.105\n"
     ]
    },
    {
     "name": "stdout",
     "output_type": "stream",
     "text": [
      "Best Individual =  1 1 1 1 1 1 1 1 1 1 1 1 1 1 1 1 1 1 1 1 1 1 0 1 1 1 1 1 1 1 1 1 1 1 1 1 1 1 1 1 1 1 1 1 1 1 1 1 1 1 1 1 1 1 1 1 1 1 1 1 1 1 1 1 1 1 1 1 1 1 1 1 1 1 1 1 1 1 1 1 1 1 1 1 1 0 1 1 1 1 1 1 1 1 1 1 1 1 1 1 \n",
      "\n",
      "- Generation 31: Max Fitness = 99.0, Avg Fitness = 97.57\n",
      "Best Individual =  1 1 1 1 1 1 1 1 1 1 1 1 1 1 1 1 1 1 1 1 1 1 1 1 1 1 1 1 1 1 1 1 1 1 1 1 1 1 1 1 1 1 1 1 1 1 1 1 1 1 1 1 1 1 1 1 1 1 1 1 1 1 1 1 1 1 1 1 1 1 1 1 1 1 1 1 1 1 1 1 1 1 1 1 1 0 1 1 1 1 1 1 1 1 1 1 1 1 1 1 \n",
      "\n",
      "- Generation 32: Max Fitness = 99.0, Avg Fitness = 97.865\n",
      "Best Individual =  1 1 1 1 1 1 1 1 1 1 1 1 1 1 1 1 1 1 1 1 1 1 1 1 1 1 1 1 1 1 1 1 1 1 1 1 1 1 1 1 1 1 1 1 1 1 1 1 1 1 1 1 1 1 1 1 1 1 1 1 1 1 1 1 1 1 1 1 1 1 1 1 1 1 1 1 1 1 1 1 1 1 1 1 1 0 1 1 1 1 1 1 1 1 1 1 1 1 1 1 \n",
      "\n",
      "- Generation 33: Max Fitness = 99.0, Avg Fitness = 97.93\n",
      "Best Individual =  1 1 1 1 1 1 1 1 1 1 1 1 1 1 1 1 1 1 1 1 1 1 1 1 1 1 1 1 1 1 1 1 1 1 1 1 1 1 1 1 1 1 1 1 1 1 1 1 1 1 1 1 1 1 1 1 1 1 1 1 1 1 1 1 1 1 1 1 1 1 1 1 1 1 1 1 1 1 1 1 1 1 1 1 1 0 1 1 1 1 1 1 1 1 1 1 1 1 1 1 \n",
      "\n",
      "- Generation 34: Max Fitness = 99.0, Avg Fitness = 97.965\n",
      "Best Individual =  1 1 1 1 1 1 1 1 1 1 1 1 1 1 1 1 1 1 1 1 1 1 1 1 1 1 1 1 1 1 1 1 1 1 1 1 1 1 1 1 1 1 1 1 1 1 1 1 1 1 1 1 1 1 1 1 1 1 1 1 1 1 1 1 1 1 1 1 1 1 1 1 1 1 1 1 1 1 1 1 1 1 1 1 1 0 1 1 1 1 1 1 1 1 1 1 1 1 1 1 \n",
      "\n",
      "- Generation 35: Max Fitness = 99.0, Avg Fitness = 98.175\n",
      "Best Individual =  1 1 1 1 1 1 1 1 1 1 1 1 1 1 1 1 1 1 1 1 1 1 1 1 1 1 1 1 1 1 1 1 1 1 1 1 1 1 1 1 1 1 1 1 1 1 1 1 1 1 1 1 1 1 1 1 1 1 1 1 1 1 1 1 1 1 1 1 1 1 1 1 1 1 1 1 1 1 1 1 1 1 1 1 1 0 1 1 1 1 1 1 1 1 1 1 1 1 1 1 \n",
      "\n",
      "- Generation 36: Max Fitness = 99.0, Avg Fitness = 98.51\n",
      "Best Individual =  1 1 1 1 1 1 1 1 1 1 1 1 1 1 1 1 1 1 1 1 1 1 1 1 1 1 1 1 1 1 1 1 1 1 1 1 1 1 1 1 1 1 1 1 1 1 1 1 1 1 1 1 1 1 1 1 1 1 1 1 1 1 1 1 1 1 1 1 1 1 1 1 1 1 1 1 1 1 1 1 1 1 1 1 1 0 1 1 1 1 1 1 1 1 1 1 1 1 1 1 \n",
      "\n",
      "- Generation 37: Max Fitness = 99.0, Avg Fitness = 98.86\n",
      "Best Individual =  1 1 1 1 1 1 1 1 1 1 1 1 1 1 1 1 1 1 1 1 1 1 1 1 1 1 1 1 1 1 1 1 1 1 1 1 1 1 1 1 1 1 1 1 1 1 1 1 1 1 1 1 1 1 1 1 1 1 1 1 1 1 1 1 1 1 1 1 1 1 1 1 1 1 1 1 1 1 1 1 1 1 1 1 1 0 1 1 1 1 1 1 1 1 1 1 1 1 1 1 \n",
      "\n",
      "- Generation 38: Max Fitness = 99.0, Avg Fitness = 98.905\n",
      "Best Individual =  1 1 1 1 1 1 1 1 1 1 1 1 1 1 1 1 1 1 1 1 1 1 1 1 1 1 1 1 1 1 1 1 1 1 1 1 1 1 1 1 1 1 1 1 1 1 1 1 1 1 1 1 1 1 1 1 1 1 1 1 1 1 1 1 1 1 1 1 1 1 1 1 1 1 1 1 1 1 1 1 1 1 1 1 1 0 1 1 1 1 1 1 1 1 1 1 1 1 1 1 \n",
      "\n",
      "- Generation 39: Max Fitness = 99.0, Avg Fitness = 98.945\n",
      "Best Individual =  1 1 1 1 1 1 1 1 1 1 1 1 1 1 1 1 1 1 1 1 1 1 1 1 1 1 1 1 1 1 1 1 1 1 1 1 1 1 1 1 1 1 1 1 1 1 1 1 1 1 1 1 1 1 1 1 1 1 1 1 1 1 1 1 1 1 1 1 1 1 1 1 1 1 1 1 1 1 1 1 1 1 1 1 1 0 1 1 1 1 1 1 1 1 1 1 1 1 1 1 \n",
      "\n",
      "- Generation 40: Max Fitness = 100.0, Avg Fitness = 98.94\n",
      "Best Individual =  1 1 1 1 1 1 1 1 1 1 1 1 1 1 1 1 1 1 1 1 1 1 1 1 1 1 1 1 1 1 1 1 1 1 1 1 1 1 1 1 1 1 1 1 1 1 1 1 1 1 1 1 1 1 1 1 1 1 1 1 1 1 1 1 1 1 1 1 1 1 1 1 1 1 1 1 1 1 1 1 1 1 1 1 1 1 1 1 1 1 1 1 1 1 1 1 1 1 1 1 \n",
      "\n"
     ]
    },
    {
     "data": {
      "image/png": "[encoded data removed]",
      "text/plain": [
       "<Figure size 432x288 with 1 Axes>"
      ]
     },
     "metadata": {},
     "output_type": "display_data"
    }
   ],
   "source": [
    "def main():\n",
    "\n",
    "    # 1. criando população inicial (geração 0):\n",
    "    populacao = toolbox.populationCreator(n=tamanho_populacao)\n",
    "    generationCounter = 0\n",
    "\n",
    "    # 2. e 3. calculando tupla fitnes para cada individuo dentro da população:\n",
    "    fitnessValues = list(map(toolbox.evaluate, populacao))\n",
    "    for individual, fitnessValue in zip(populacao, fitnessValues):\n",
    "        individual.fitness.values = fitnessValue\n",
    "\n",
    "    # 4. extraindo valores condicionados (fitness) de todos os individuos da populaçõa:\n",
    "    fitnessValues = [individual.fitness.values[0] for individual in populacao]\n",
    "\n",
    "    # 5. Inicio da acumulação de estatisticas:\n",
    "    maxFitnessValues = []\n",
    "    meanFitnessValues = []\n",
    "\n",
    "    # loop evolutivo main:\n",
    "    # pare se o valor máximo de fitness atingir o valor máximo conhecido\n",
    "    # 6. OU se o número de gerações excedeu o valor predefinido:\n",
    "    while max(fitnessValues) < comprimento_onemax and generationCounter < max_geracoes:\n",
    "        # 7. contador de atualização:\n",
    "        generationCounter = generationCounter + 1\n",
    "\n",
    "        # 8. aplicar o operador de seleção, para selecionar os indivíduos da próxima geração:\n",
    "        offspring = toolbox.select(populacao, len(populacao))\n",
    "        # 9. clonar os individuos selecionados:\n",
    "        offspring = list(map(toolbox.clone, offspring))\n",
    "\n",
    "        # 10. aplicar o operador de cruzamento a pares de descendentes:\n",
    "        for child1, child2 in zip(offspring[::2], offspring[1::2]):\n",
    "            if random.random() < p_crossover:\n",
    "                toolbox.mate(child1, child2)\n",
    "                del child1.fitness.values\n",
    "                del child2.fitness.values\n",
    "        # 11.\n",
    "        for mutant in offspring:\n",
    "            if random.random() < p_mutacao:\n",
    "                toolbox.mutate(mutant)\n",
    "                del mutant.fitness.values\n",
    "\n",
    "        # 12. calcular a aptidão para os indivíduos sem valor de aptidão calculado anteriormente:\n",
    "        freshIndividuals = [ind for ind in offspring if not ind.fitness.valid]\n",
    "        freshFitnessValues = list(map(toolbox.evaluate, freshIndividuals))\n",
    "        for individual, fitnessValue in zip(freshIndividuals, freshFitnessValues):\n",
    "            individual.fitness.values = fitnessValue\n",
    "\n",
    "        # 13. substituir a população atual pelos descendentes substituir a população atual pelos descendentes:\n",
    "        populacao[:] = offspring\n",
    "\n",
    "        # 14. colete valores de fitness em uma lista, atualize estatísticas e imprima:\n",
    "        fitnessValues = [ind.fitness.values[0] for ind in populacao]\n",
    "\n",
    "        # 15.\n",
    "        maxFitness = max(fitnessValues)\n",
    "        meanFitness = sum(fitnessValues) / len(populacao)\n",
    "        maxFitnessValues.append(maxFitness)\n",
    "        meanFitnessValues.append(meanFitness)\n",
    "        print(\"- Generation {}: Max Fitness = {}, Avg Fitness = {}\".format(generationCounter, maxFitness, meanFitness))\n",
    "\n",
    "        # 16. encontre e imprima o melhor indivíduo:\n",
    "        best_index = fitnessValues.index(max(fitnessValues))\n",
    "        print(\"Best Individual = \", *populacao[best_index], \"\\n\")\n",
    "\n",
    "         # 17 - Algoritmo genético esta feito - estatísticas de plotagem:\n",
    "    sns.set_style(\"whitegrid\")\n",
    "    plt.plot(maxFitnessValues, color='red')\n",
    "    plt.plot(meanFitnessValues, color='green')\n",
    "    plt.xlabel('Generation')\n",
    "    plt.ylabel('Max / Average Fitness')\n",
    "    plt.title('Max and Average Fitness over Generations')\n",
    "    plt.show()\n",
    "\n",
    "if __name__ == '__main__':\n",
    "    main()"
   ]
  },
  {
   "cell_type": "markdown",
   "id": "45ea9382",
   "metadata": {},
   "source": [
    "* O gráfico ilustra como a aptidão (fitness) máxima aumenta ao longo das gerações com saltos incrementais, enquanto a aptidão (fitness) média continua progredindo suavemente."
   ]
  },
  {
   "cell_type": "code",
   "execution_count": null,
   "id": "436b82b8",
   "metadata": {},
   "outputs": [],
   "source": []
  }
 ],
 "metadata": {
  "kernelspec": {
   "display_name": "Python 3 (ipykernel)",
   "language": "python",
   "name": "python3"
  },
  "language_info": {
   "codemirror_mode": {
    "name": "ipython",
    "version": 3
   },
   "file_extension": ".py",
   "mimetype": "text/x-python",
   "name": "python",
   "nbconvert_exporter": "python",
   "pygments_lexer": "ipython3",
   "version": "3.9.7"
  }
 },
 "nbformat": 4,
 "nbformat_minor": 5
}
