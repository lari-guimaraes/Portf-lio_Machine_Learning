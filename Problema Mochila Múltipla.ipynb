{
 "cells": [
  {
   "cell_type": "markdown",
   "id": "8e70eb6c",
   "metadata": {},
   "source": [
    "# Problema Mochila Multipla"
   ]
  },
  {
   "cell_type": "markdown",
   "id": "b0699a14",
   "metadata": {},
   "source": [
    "* O problema de múltiplas mochilas é um problema de otimização, ou seja, uma função que deve ser maximizada ou minimizada e restrições que devem ser satisfeitas. Neste caso, além de envolver diversos objetos, também aplicado o uso de múltiplas mochilas. "
   ]
  },
  {
   "cell_type": "markdown",
   "id": "560219c7",
   "metadata": {},
   "source": [
    "* Utilizaremos a biblioteca MIP do Python, é uma coleção de ferramentas para  modelagem e solução de programas lineares inteiros mistos (Mixed-Integer Linear programs). Utilizaremos para definir um modelo de solução para o problema."
   ]
  },
  {
   "cell_type": "code",
   "execution_count": 87,
   "id": "f171bf9e",
   "metadata": {},
   "outputs": [
    {
     "name": "stdout",
     "output_type": "stream",
     "text": [
      "Requirement already satisfied: mip in c:\\users\\laris\\anaconda3\\lib\\site-packages (1.13.0)\n",
      "Requirement already satisfied: cffi in c:\\users\\laris\\anaconda3\\lib\\site-packages (from mip) (1.14.6)\n",
      "Requirement already satisfied: pycparser in c:\\users\\laris\\anaconda3\\lib\\site-packages (from cffi->mip) (2.20)\n"
     ]
    }
   ],
   "source": [
    "# Importando bibliotecas\n",
    "!pip install mip\n",
    "\n",
    "from mip import *\n",
    "import random\n"
   ]
  },
  {
   "cell_type": "markdown",
   "id": "e22a899b",
   "metadata": {},
   "source": [
    "# Funções do Algoritmo"
   ]
  },
  {
   "cell_type": "markdown",
   "id": "82f5ab66",
   "metadata": {},
   "source": [
    "* Um aspecto muito importante do algoritmo genético é o uso de probabilidade, que introz um elemento aleatório (randômico) para o comportamento do algoritmo. A seguir será definido um valor constante a função random. É valido lembrar, que para valores diferentes, o algoritmo também dará resultados diferentes."
   ]
  },
  {
   "cell_type": "code",
   "execution_count": 88,
   "id": "72911b76",
   "metadata": {},
   "outputs": [],
   "source": [
    "# Gerar produtos com peso e valor aleatórios\n",
    "def gerar_produtos(prod):\n",
    "    random.seed(random_seed)\n",
    "    for i in range(num_produtos):\n",
    "        cod = 'produto_{}'.format(i)\n",
    "        valor = random.choice(range(1,10)) # Valor em reais\n",
    "        peso = random.choice(range(100,999)) # Valor em reais\n",
    "        prod[cod] = {'valor': valor,\n",
    "            'peso': peso}"
   ]
  },
  {
   "cell_type": "code",
   "execution_count": 89,
   "id": "589193f4",
   "metadata": {},
   "outputs": [],
   "source": [
    "# Gera mochilas com pesos aleatórias\n",
    "def gerar_mochilas(moc):\n",
    "    random.seed(random_seed)\n",
    "    for i in range(num_mochilas):\n",
    "        cod = 'mochila_{}'.format(i)\n",
    "        carga_maxima = random.choice(range(500,2000)) # Carga máxima em gramas\n",
    "        moc[cod] = {'carga_maxima': carga_maxima}"
   ]
  },
  {
   "cell_type": "markdown",
   "id": "f60ac56d",
   "metadata": {},
   "source": [
    "* Criaremos funções que auxiliam na impressão dos dados de maneira organizada, através de interações dentro dos arrays"
   ]
  },
  {
   "cell_type": "code",
   "execution_count": 90,
   "id": "1a89eb6b",
   "metadata": {},
   "outputs": [],
   "source": [
    "# Imprimir os produtos\n",
    "def imprimir_produtos(prod):\n",
    "    print(\"PRODUTOS\")\n",
    "    print(\"Cód \\tValor \\t\\tPeso\")\n",
    "    for p in prod:\n",
    "        print(\"{}\\tR$ {},00 \\t{}g\".format(p, prod[p]['valor'], prod[p]['peso']))"
   ]
  },
  {
   "cell_type": "code",
   "execution_count": 91,
   "id": "aa598ed9",
   "metadata": {},
   "outputs": [],
   "source": [
    "# Imprime as mochilas\n",
    "def imprimir_mochilas(moc):\n",
    "    print(\"\\nMOCHILAS\")\n",
    "    print(\"Cód \\tCarga Máxima\")\n",
    "    for m in moc:\n",
    "        print(\"{} \\t{}g\".format(m, moc[m]['carga_maxima']))"
   ]
  },
  {
   "cell_type": "markdown",
   "id": "8a5b9511",
   "metadata": {},
   "source": [
    "# Implementação do algoritmo"
   ]
  },
  {
   "cell_type": "code",
   "execution_count": 92,
   "id": "8179aed9",
   "metadata": {},
   "outputs": [],
   "source": [
    "# Constantes do algoritmo genético\n",
    "random_seed = 1\n",
    "num_produtos = 18\n",
    "num_mochilas = 3"
   ]
  },
  {
   "cell_type": "code",
   "execution_count": 93,
   "id": "f4c5d401",
   "metadata": {},
   "outputs": [],
   "source": [
    "# Variáveis que armazena os Dados\n",
    "produtos = {}\n",
    "mochilas = {}\n",
    "\n",
    "#Criar produtos e mochilas\n",
    "gerar_produtos(produtos)\n",
    "gerar_mochilas(mochilas)"
   ]
  },
  {
   "cell_type": "code",
   "execution_count": 94,
   "id": "bc84cb11",
   "metadata": {},
   "outputs": [
    {
     "name": "stdout",
     "output_type": "stream",
     "text": [
      "PRODUTOS\n",
      "Cód \tValor \t\tPeso\n",
      "produto_0\tR$ 3,00 \t682g\n",
      "produto_1\tR$ 2,00 \t361g\n",
      "produto_2\tR$ 2,00 \t607g\n",
      "produto_3\tR$ 8,00 \t583g\n",
      "produto_4\tR$ 7,00 \t907g\n",
      "produto_5\tR$ 4,00 \t196g\n",
      "produto_6\tR$ 8,00 \t129g\n",
      "produto_7\tR$ 7,00 \t543g\n",
      "produto_8\tR$ 1,00 \t812g\n",
      "produto_9\tR$ 8,00 \t372g\n",
      "produto_10\tR$ 4,00 \t705g\n",
      "produto_11\tR$ 2,00 \t425g\n",
      "produto_12\tR$ 1,00 \t122g\n",
      "produto_13\tR$ 1,00 \t765g\n",
      "produto_14\tR$ 9,00 \t109g\n",
      "produto_15\tR$ 7,00 \t802g\n",
      "produto_16\tR$ 4,00 \t532g\n",
      "produto_17\tR$ 1,00 \t640g\n"
     ]
    }
   ],
   "source": [
    "# Todos os produtos\n",
    "imprimir_produtos(produtos)\n"
   ]
  },
  {
   "cell_type": "code",
   "execution_count": 95,
   "id": "3da35304",
   "metadata": {},
   "outputs": [
    {
     "name": "stdout",
     "output_type": "stream",
     "text": [
      "\n",
      "MOCHILAS\n",
      "Cód \tCarga Máxima\n",
      "mochila_0 \t775g\n",
      "mochila_1 \t1665g\n",
      "mochila_2 \t629g\n"
     ]
    }
   ],
   "source": [
    "# Todas as mochilas\n",
    "imprimir_mochilas(mochilas)"
   ]
  },
  {
   "cell_type": "markdown",
   "id": "e6135453",
   "metadata": {},
   "source": [
    "* Aplicando a função model da biblioteca MIP, utilizando o parametro sense para maximização, conforme objetivo do algoritmo."
   ]
  },
  {
   "cell_type": "code",
   "execution_count": 96,
   "id": "7a192251",
   "metadata": {},
   "outputs": [],
   "source": [
    "# Modelo \n",
    "modelo = Model(sense=MAXIMIZE)"
   ]
  },
  {
   "cell_type": "code",
   "execution_count": 97,
   "id": "f67d60ad",
   "metadata": {},
   "outputs": [],
   "source": [
    "# Variáveis de decisão\n",
    "carga = {} # qual produto será colcoado em cada mochila\n",
    "\n",
    "for m in mochilas:\n",
    "    for p in produtos:\n",
    "        carga[(m, p)] = modelo.add_var(var_type=BINARY)  "
   ]
  },
  {
   "cell_type": "markdown",
   "id": "1bc8acd9",
   "metadata": {},
   "source": [
    "* As restrições e as quantidades de produtos e mochilas é o que difere um problema do outro. Neste caso, as restrições são listas a seguir:"
   ]
  },
  {
   "cell_type": "code",
   "execution_count": 98,
   "id": "98ddf127",
   "metadata": {},
   "outputs": [],
   "source": [
    "# Restrições\n",
    "# a) O mesmo produto não pode ser colocado nas três mochilas\n",
    "for p in produtos:        \n",
    "    modelo += xsum(carga[(m, p)] for m in mochilas) <= 1\n",
    "\n",
    "# b) A soma dos pesos dos produtos alocados em uma mochila não devem ser maior do que a carga máxima suportada pela mochila\n",
    "for m in mochilas:    \n",
    "    modelo += xsum(carga[(m, p)] * produtos[p]['peso'] for p in produtos) <= mochilas[m]['carga_maxima']"
   ]
  },
  {
   "cell_type": "markdown",
   "id": "54dccc44",
   "metadata": {},
   "source": [
    "* Como dito no inicio do projeto, o objetivo do algoritmo da mochila multipla é maximizar a solução, logo aplicamos a função maximize() no modelo gerado para cada item. Após, é aplicado a função optimize que tem o objetivo de otimizar o modelo da melhor forma possível.  "
   ]
  },
  {
   "cell_type": "code",
   "execution_count": 99,
   "id": "23e0d506",
   "metadata": {},
   "outputs": [
    {
     "data": {
      "text/plain": [
       "<OptimizationStatus.OPTIMAL: 0>"
      ]
     },
     "execution_count": 99,
     "metadata": {},
     "output_type": "execute_result"
    }
   ],
   "source": [
    "# Função Objetivo\n",
    "modelo.objective = maximize(\n",
    "    xsum(carga[(m, p)] * produtos[p]['valor']\n",
    "         for m in mochilas \n",
    "             for p in produtos\n",
    "         if (m, p) in carga))\n",
    "\n",
    "modelo.optimize()\n"
   ]
  },
  {
   "cell_type": "code",
   "execution_count": 100,
   "id": "350fba5f",
   "metadata": {},
   "outputs": [
    {
     "name": "stdout",
     "output_type": "stream",
     "text": [
      "\n",
      "****\n",
      "Valor Total em Todas as Mochilas [-52.0]\n",
      "****\n",
      "\n",
      "Carga da Mochila mochila_0 com capacidade de 775g\n",
      "produto_3 \tR$ 8,00 \t583g\n",
      "produto_14 \tR$ 9,00 \t109g\n",
      "-\n",
      "Valor Total: R$ 17,00 \n",
      "Carga Total: 692g\n",
      "Capacidade Ociosa: 83g\n",
      "\n",
      "Carga da Mochila mochila_1 com capacidade de 1665g\n",
      "produto_5 \tR$ 4,00 \t196g\n",
      "produto_6 \tR$ 8,00 \t129g\n",
      "produto_9 \tR$ 8,00 \t372g\n",
      "produto_12 \tR$ 1,00 \t122g\n",
      "produto_15 \tR$ 7,00 \t802g\n",
      "-\n",
      "Valor Total: R$ 28,00 \n",
      "Carga Total: 1621g\n",
      "Capacidade Ociosa: 44g\n",
      "\n",
      "Carga da Mochila mochila_2 com capacidade de 629g\n",
      "produto_7 \tR$ 7,00 \t543g\n",
      "-\n",
      "Valor Total: R$ 7,00 \n",
      "Carga Total: 543g\n",
      "Capacidade Ociosa: 86g\n"
     ]
    }
   ],
   "source": [
    "# Resultado\n",
    "print(\"\\n****\")\n",
    "print(\"Valor Total em Todas as Mochilas {}\".format(modelo.objective_values))\n",
    "print(\"****\")\n",
    "for m in mochilas:\n",
    "    print(\"\\nCarga da Mochila {} com capacidade de {}g\".format(m, mochilas[m]['carga_maxima']))\n",
    "    valor_total = 0\n",
    "    carga_total = 0\n",
    "    for p in produtos:\n",
    "        if (carga[(m, p)].x == 1):\n",
    "            valor_total += produtos[p]['valor']\n",
    "            carga_total += produtos[p]['peso']\n",
    "            print(\"{} \\tR$ {},00 \\t{}g\".format(p, produtos[p]['valor'], produtos[p]['peso']))\n",
    "    \n",
    "    print(\"-\\nValor Total: R$ {},00 \\nCarga Total: {}g\\nCapacidade Ociosa: {}g\".format(valor_total, carga_total, (mochilas[m]['carga_maxima']-carga_total)))"
   ]
  },
  {
   "cell_type": "code",
   "execution_count": null,
   "id": "26885ce6",
   "metadata": {},
   "outputs": [],
   "source": []
  },
  {
   "cell_type": "code",
   "execution_count": null,
   "id": "37eb07fd",
   "metadata": {},
   "outputs": [],
   "source": []
  }
 ],
 "metadata": {
  "kernelspec": {
   "display_name": "Python 3 (ipykernel)",
   "language": "python",
   "name": "python3"
  },
  "language_info": {
   "codemirror_mode": {
    "name": "ipython",
    "version": 3
   },
   "file_extension": ".py",
   "mimetype": "text/x-python",
   "name": "python",
   "nbconvert_exporter": "python",
   "pygments_lexer": "ipython3",
   "version": "3.9.7"
  }
 },
 "nbformat": 4,
 "nbformat_minor": 5
}
